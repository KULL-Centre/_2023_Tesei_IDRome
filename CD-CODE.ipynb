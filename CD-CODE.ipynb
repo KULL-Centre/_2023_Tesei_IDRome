{
 "cells": [
  {
   "cell_type": "markdown",
   "id": "6ac55399",
   "metadata": {},
   "source": [
    "## Analyses of proteins in human biomolecular condensates obtained from [CD-CODE](https://cd-code.org/)\n",
    "\n",
    "This notebook reproduces Fig. S6 _A–D_\n",
    "\n",
    "Authors: Giulio Tesei\n",
    "\n",
    "Contact: giulio.tesei@bio.ku.dk"
   ]
  },
  {
   "cell_type": "code",
   "execution_count": 1,
   "id": "ac030130",
   "metadata": {},
   "outputs": [],
   "source": [
    "import requests\n",
    "import json\n",
    "import numpy as np\n",
    "import pandas as pd\n",
    "import matplotlib as mpl\n",
    "import matplotlib.pyplot as plt\n",
    "from scipy import stats"
   ]
  },
  {
   "cell_type": "code",
   "execution_count": 2,
   "id": "c9bbdb5c",
   "metadata": {},
   "outputs": [],
   "source": [
    "# Fetch list of human biomolecular condensates\n",
    "api_url = \"https://cd-code.org/api/condensates?species_tax_id=9606\"\n",
    "headers = {\"Authorization\": \"b537fe97ad384aea9cbfd7b25b38938a\"}\n",
    "payload = {\"page\": 1, \"size\": 1000}\n",
    "response = requests.get(api_url, headers=headers, params=payload)\n",
    "dict_cd = json.loads(response.content.decode())"
   ]
  },
  {
   "cell_type": "code",
   "execution_count": 3,
   "id": "30f1dd6e",
   "metadata": {},
   "outputs": [],
   "source": [
    "# Fetch drivers\n",
    "drivers = np.empty(0)\n",
    "no_func = 0\n",
    "\n",
    "for cd_item in dict_cd['data']:\n",
    "    api_url = f\"https://cd-code.org/api/condensates/{cd_item['uid']:s}\"\n",
    "    headers = {\"Authorization\": \"b537fe97ad384aea9cbfd7b25b38938a\"}\n",
    "    payload = {\"page\": 1, \"size\": 1000}\n",
    "    response = requests.get(api_url, headers=headers, params=payload)\n",
    "    dict_uid = json.loads(response.content.decode())['data']['protein_functional_type']\n",
    "    if dict_uid == {}:\n",
    "        no_func += 1\n",
    "    drivers = np.append(drivers,[i.split('-')[0] for i in dict_uid if dict_uid[i]==\"driver\"])"
   ]
  },
  {
   "cell_type": "code",
   "execution_count": 4,
   "id": "c2f0881e",
   "metadata": {},
   "outputs": [],
   "source": [
    "# Fetch members\n",
    "members = np.empty(0)\n",
    "\n",
    "for cd_item in dict_cd['data']:\n",
    "    api_url = f\"https://cd-code.org/api/condensates/{cd_item['uid']:s}\"\n",
    "    headers = {\"Authorization\": \"b537fe97ad384aea9cbfd7b25b38938a\"}\n",
    "    payload = {\"page\": 1, \"size\": 249}\n",
    "    response = requests.get(api_url, headers=headers, params=payload)\n",
    "    dict_uid = json.loads(response.content.decode())['data']['protein_functional_type']\n",
    "    members = np.append(members,[i.split('-')[0] for i in dict_uid if dict_uid[i]==\"member\"])"
   ]
  },
  {
   "cell_type": "code",
   "execution_count": 5,
   "id": "89f59d0e",
   "metadata": {},
   "outputs": [],
   "source": [
    "# load IDRome database\n",
    "df_idrome = pd.read_csv('IDRome_DB.csv',index_col=0)"
   ]
  },
  {
   "cell_type": "code",
   "execution_count": 6,
   "id": "91778705",
   "metadata": {},
   "outputs": [],
   "source": [
    "nu_driver = df_idrome[df_idrome['UniProt_ID'].isin(drivers)].nu.values\n",
    "nu_not_driver = df_idrome[~df_idrome['UniProt_ID'].isin(drivers)].nu.values"
   ]
  },
  {
   "cell_type": "code",
   "execution_count": 7,
   "id": "99dad933",
   "metadata": {},
   "outputs": [],
   "source": [
    "np.save('clinvar_fmug_cdcode/data/nu_driver.npy',nu_driver)\n",
    "np.save('clinvar_fmug_cdcode/data/nu_not_driver.npy',nu_not_driver)"
   ]
  },
  {
   "cell_type": "code",
   "execution_count": 9,
   "id": "b78d336a",
   "metadata": {},
   "outputs": [],
   "source": [
    "SPR_driver = df_idrome[df_idrome['UniProt_ID'].isin(drivers)].SPR.values\n",
    "SPR_not_driver = df_idrome[~df_idrome['UniProt_ID'].isin(drivers)].SPR.values"
   ]
  },
  {
   "cell_type": "code",
   "execution_count": 10,
   "id": "26ebdabd",
   "metadata": {},
   "outputs": [],
   "source": [
    "np.save('clinvar_fmug_cdcode/data/SPR_driver.npy',SPR_driver)\n",
    "np.save('clinvar_fmug_cdcode/data/SPR_not_driver.npy',SPR_not_driver)"
   ]
  },
  {
   "cell_type": "code",
   "execution_count": 11,
   "id": "7b57fa21",
   "metadata": {},
   "outputs": [],
   "source": [
    "nu_member = df_idrome[df_idrome['UniProt_ID'].isin(members)].nu.values\n",
    "nu_not_member = df_idrome[~df_idrome['UniProt_ID'].isin(members)].nu.values"
   ]
  },
  {
   "cell_type": "code",
   "execution_count": 12,
   "id": "0c983e07",
   "metadata": {},
   "outputs": [],
   "source": [
    "np.save('clinvar_fmug_cdcode/data/nu_member.npy',nu_member)\n",
    "np.save('clinvar_fmug_cdcode/data/nu_not_member.npy',nu_not_member)"
   ]
  },
  {
   "cell_type": "code",
   "execution_count": 13,
   "id": "4e3736d4",
   "metadata": {},
   "outputs": [],
   "source": [
    "SPR_member = df_idrome[df_idrome['UniProt_ID'].isin(members)].SPR.values\n",
    "SPR_not_member = df_idrome[~df_idrome['UniProt_ID'].isin(members)].SPR.values"
   ]
  },
  {
   "cell_type": "code",
   "execution_count": 15,
   "id": "d2815e6e",
   "metadata": {},
   "outputs": [],
   "source": [
    "np.save('clinvar_fmug_cdcode/data/SPR_member.npy',SPR_member)\n",
    "np.save('clinvar_fmug_cdcode/data/SPR_not_member.npy',SPR_not_member)"
   ]
  },
  {
   "cell_type": "code",
   "execution_count": 18,
   "id": "b23df0b6",
   "metadata": {},
   "outputs": [
    {
     "data": {
      "image/png": "[encoded data removed]",
      "text/plain": [
       "<Figure size 660x170 with 4 Axes>"
      ]
     },
     "metadata": {},
     "output_type": "display_data"
    }
   ],
   "source": [
    "f, (ax1,ax2,ax3,ax4) = plt.subplots(1, 4, sharex=False, sharey=False, figsize=(6.6,1.7))\n",
    "plt.rc('font', **{'family':'sans-serif','sans-serif':['Arial'], 'size': 6})\n",
    "\n",
    "for prop,prop_not,ax,bin_width,prop_max in zip([nu_driver,SPR_driver,nu_member,SPR_member],\n",
    "                        [nu_not_driver,SPR_not_driver,nu_not_member,SPR_not_member],\n",
    "                        [ax1,ax2,ax3,ax4],[.008,.05,.008,.05],[.65,11,.65,11]):\n",
    "    \n",
    "    bins = np.arange(prop.min(), prop_max, bin_width)\n",
    "    x = bins[:-1]+bin_width/2.\n",
    "    \n",
    "    ax.hist(prop_not,bins,density=True,histtype='step',color='k',zorder=0)\n",
    "\n",
    "    statistic, p_twosided = stats.brunnermunzel(prop, prop_not, alternative='two-sided')\n",
    "    #print('two-sided',f'{p_twosided:.1g}')\n",
    "    statistic, p_less = stats.brunnermunzel(prop, prop_not, alternative='less')\n",
    "    #print('less',f'{p_less:.1g}')\n",
    "    statistic, p_greater = stats.brunnermunzel(prop, prop_not, alternative='greater')\n",
    "    #print('greater',f'{p_greater:.1g}')\n",
    "\n",
    "    p_value = p_greater\n",
    "    color = 'tab:green'\n",
    "    if p_less < p_greater:\n",
    "        color = 'tab:orange'\n",
    "        p_value = p_less\n",
    "        \n",
    "    p_value_label = f'{p_value:.1g}' if p_value >= 1e-10 else '$<$1e-10'\n",
    "\n",
    "    h = np.histogram(prop,bins=bins,density=True)[0]\n",
    "\n",
    "    ax.bar(x,h,alpha=.7,width=bin_width,color=color,\n",
    "           label=f'{prop.size:d}\\nIDRs'+f'\\n\\n$p$-value:\\n'+p_value_label)\n",
    "\n",
    "    ax.legend(handlelength=0,frameon=False,borderpad=0,loc=(0,.56))\n",
    "    \n",
    "ax1.set_ylabel('$P(\\\\nu)$')\n",
    "ax1.set_xlabel('$\\\\nu$')\n",
    "ax3.set_ylabel('$P(\\\\nu)$')\n",
    "ax3.set_xlabel('$\\\\nu$')\n",
    "ax2.set_ylabel('$P(S_\\mathrm{conf}/N)$')\n",
    "ax2.set_xlabel(r'$S_\\mathrm{conf}$ / $N$ / $k_B$')\n",
    "ax4.set_ylabel('$P(S_\\mathrm{conf}/N)$')\n",
    "ax4.set_xlabel(r'$S_\\mathrm{conf}$ / $N$ / $k_B$')\n",
    "ax1.set_xlim(.38,.65)\n",
    "ax3.set_xlim(.38,.65)\n",
    "ax2.set_xlim(9.4,10.8)\n",
    "ax4.set_xlim(9.4,10.8)\n",
    "\n",
    "f.text(0.01, .92, 'A', fontsize=10)\n",
    "f.text(0.26, .92, 'B', fontsize=10)\n",
    "f.text(0.505, .92, 'C', fontsize=10)\n",
    "f.text(0.755, .92, 'D', fontsize=10)\n",
    "\n",
    "plt.tight_layout()\n",
    "plt.savefig('figs/figS6a.pdf')"
   ]
  },
  {
   "cell_type": "code",
   "execution_count": 21,
   "id": "15a0b9e6",
   "metadata": {},
   "outputs": [
    {
     "name": "stdout",
     "output_type": "stream",
     "text": [
      "two-sided 0.001\n",
      "less 0.0005\n",
      "greater 1\n",
      "two-sided 9e-09\n",
      "less 5e-09\n",
      "greater 1\n"
     ]
    },
    {
     "data": {
      "image/png": "[encoded data removed]",
      "text/plain": [
       "<Figure size 660x170 with 2 Axes>"
      ]
     },
     "metadata": {},
     "output_type": "display_data"
    }
   ],
   "source": [
    "f, (ax1,ax2) = plt.subplots(1, 2, sharex=False, sharey=False, figsize=(6.6,1.7))\n",
    "plt.rc('font', **{'family':'sans-serif','sans-serif':['Arial'], 'size': 6})\n",
    "\n",
    "for prop,prop_not,ax,bin_width,prop_max in zip([nu_driver,SPR_driver],\n",
    "                        [nu_member,SPR_member],\n",
    "                        [ax1,ax2],[.008,.05],[.65,11]):\n",
    "    \n",
    "    bins = np.arange(prop.min(), prop_max, bin_width)\n",
    "    x = bins[:-1]+bin_width/2.\n",
    "    \n",
    "    ax.hist(prop_not,bins,density=True,histtype='step',color='k',zorder=0)\n",
    "\n",
    "    statistic, p_twosided = stats.brunnermunzel(prop, prop_not, alternative='two-sided')\n",
    "    print('two-sided',f'{p_twosided:.1g}')\n",
    "    statistic, p_less = stats.brunnermunzel(prop, prop_not, alternative='less')\n",
    "    print('less',f'{p_less:.1g}')\n",
    "    statistic, p_greater = stats.brunnermunzel(prop, prop_not, alternative='greater')\n",
    "    print('greater',f'{p_greater:.1g}')\n",
    "\n",
    "    p_value = p_greater\n",
    "    color = 'tab:green'\n",
    "    if p_less < p_greater:\n",
    "        color = 'tab:orange'\n",
    "        p_value = p_less\n",
    "        \n",
    "    p_value_label = f'{p_value:.1g}' if p_value >= 1e-10 else '$<$1e-10'\n",
    "\n",
    "    h = np.histogram(prop,bins=bins,density=True)[0]\n",
    "\n",
    "    ax.bar(x,h,alpha=.7,width=bin_width,color=color,\n",
    "           label=f'{prop.size:d}\\nIDRs'+f'\\n\\n$p$-value:\\n'+p_value_label)\n",
    "\n",
    "    ax.legend(handlelength=0,frameon=False,borderpad=0,loc=(0,.56))\n",
    "    \n",
    "ax1.set_ylabel('$P(\\\\nu)$')\n",
    "ax1.set_xlabel('$\\\\nu$')\n",
    "ax2.set_ylabel('$P(S_\\mathrm{conf}/N)$')\n",
    "ax2.set_xlabel(r'$S_\\mathrm{conf}$ / $N$ / $k_B$')\n",
    "ax1.set_xlim(.38,.65)\n",
    "ax2.set_xlim(9.4,10.8)\n",
    "\n",
    "plt.tight_layout()"
   ]
  },
  {
   "cell_type": "code",
   "execution_count": null,
   "id": "5f2f09f9",
   "metadata": {},
   "outputs": [],
   "source": []
  }
 ],
 "metadata": {
  "kernelspec": {
   "display_name": "Python 3 (ipykernel)",
   "language": "python",
   "name": "python3"
  },
  "language_info": {
   "codemirror_mode": {
    "name": "ipython",
    "version": 3
   },
   "file_extension": ".py",
   "mimetype": "text/x-python",
   "name": "python",
   "nbconvert_exporter": "python",
   "pygments_lexer": "ipython3",
   "version": "3.8.16"
  }
 },
 "nbformat": 4,
 "nbformat_minor": 5
}
