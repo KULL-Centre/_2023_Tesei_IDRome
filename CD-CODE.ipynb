{
 "cells": [
  {
   "cell_type": "markdown",
   "id": "6ac55399",
   "metadata": {},
   "source": [
    "## Analyses of proteins in human biomolecular condensates obtained from [CD-CODE](https://cd-code.org/)\n",
    "\n",
    "This notebook reproduces Extended Data Fig. 6a–d\n",
    "\n",
    "Authors: Giulio Tesei\n",
    "\n",
    "Contact: giulio.tesei@bio.ku.dk"
   ]
  },
  {
   "cell_type": "code",
   "execution_count": 15,
   "id": "ac030130",
   "metadata": {},
   "outputs": [],
   "source": [
    "import requests\n",
    "import json\n",
    "import numpy as np\n",
    "import pandas as pd\n",
    "import matplotlib as mpl\n",
    "import matplotlib.pyplot as plt\n",
    "from scipy import stats\n",
    "from statsmodels.stats.nonparametric import rank_compare_2indep\n",
    "import random\n",
    "hexcolors = ['#EE7733', '#0077BB', '#33BBEE', '#EE3377', '#CC3311', '#009988', '#BBBBBB']\n",
    "colornames = ['orange','blue','cyan','magenta','red','teal','grey']\n",
    "pt_colors = dict(zip(colornames,hexcolors))\n",
    "plt.rcParams['font.family'] = 'sans-serif'\n",
    "plt.rcParams['font.sans-serif'] = ['Arial'] + plt.rcParams['font.sans-serif']\n",
    "mpl.rcParams['mathtext.fontset'] = 'custom'\n",
    "mpl.rcParams['mathtext.rm'] = 'Times New Roman'\n",
    "mpl.rcParams['mathtext.it'] = 'Times New Roman:italic'\n",
    "mpl.rc('pdf', fonttype=42)\n",
    "\n",
    "def bootstrapped_cohens_d(a,b,n_bootstrap):\n",
    "    cohens_d = (a.mean()-b.mean()) / np.sqrt(0.5*(a.std()**2+b.std()**2))\n",
    "    cohens_d_bootstrap = np.empty(0)\n",
    "    for _ in range(n_bootstrap):\n",
    "        a_p = np.random.choice(a,size=a.size)\n",
    "        b_p = np.random.choice(b,size=b.size)\n",
    "        cohens_d_b = (a_p.mean()-b_p.mean()) / np.sqrt(0.5*(a_p.std()**2+b_p.std()**2))\n",
    "        cohens_d_bootstrap = np.append(cohens_d_bootstrap,cohens_d_b)\n",
    "    return cohens_d, np.std(cohens_d_bootstrap)\n",
    "\n",
    "def calc_dof(x,y):\n",
    "    nx = x.size\n",
    "    ny = y.size\n",
    "    rankc = stats.rankdata(np.concatenate((x,y)))\n",
    "    rankcx = rankc[0:nx]\n",
    "    rankcy = rankc[nx:nx+ny]\n",
    "    rankcx_mean = np.mean(rankcx)\n",
    "    rankcy_mean = np.mean(rankcy)\n",
    "    rankx = stats.rankdata(x)\n",
    "    ranky = stats.rankdata(y)\n",
    "    rankx_mean = np.mean(rankx)\n",
    "    ranky_mean = np.mean(ranky)\n",
    "\n",
    "    Sx = np.sum(np.power(rankcx - rankx - rankcx_mean + rankx_mean, 2.0))\n",
    "    Sx /= nx - 1\n",
    "    Sy = np.sum(np.power(rankcy - ranky - rankcy_mean + ranky_mean, 2.0))\n",
    "    Sy /= ny - 1\n",
    "\n",
    "    df_numer = np.power(nx * Sx + ny * Sy, 2.0)\n",
    "    df_denom = np.power(nx * Sx, 2.0) / (nx - 1)\n",
    "    df_denom += np.power(ny * Sy, 2.0) / (ny - 1)\n",
    "    return df_numer / df_denom\n",
    "\n",
    "def format_scientific(x):\n",
    "    a = f'{x:.0e}'.split('e')[0]\n",
    "    b = int(f'{x:.0e}'.split('e')[1])\n",
    "    return a+'\\\\times'+'10^{'+f'{b:d}'+'}'"
   ]
  },
  {
   "cell_type": "code",
   "execution_count": 3,
   "id": "c9bbdb5c",
   "metadata": {},
   "outputs": [],
   "source": [
    "# Fetch list of human biomolecular condensates\n",
    "api_url = \"https://cd-code.org/api/condensates?species_tax_id=9606\"\n",
    "headers = {\"Authorization\": \"b537fe97ad384aea9cbfd7b25b38938a\"}\n",
    "payload = {\"page\": 1, \"size\": 1000}\n",
    "response = requests.get(api_url, headers=headers, params=payload)\n",
    "dict_cd = json.loads(response.content.decode())"
   ]
  },
  {
   "cell_type": "code",
   "execution_count": 4,
   "id": "30f1dd6e",
   "metadata": {},
   "outputs": [],
   "source": [
    "# Fetch drivers\n",
    "drivers = np.empty(0)\n",
    "no_func = 0\n",
    "\n",
    "for cd_item in dict_cd['data']:\n",
    "    api_url = f\"https://cd-code.org/api/condensates/{cd_item['uid']:s}\"\n",
    "    headers = {\"Authorization\": \"b537fe97ad384aea9cbfd7b25b38938a\"}\n",
    "    payload = {\"page\": 1, \"size\": 1000}\n",
    "    response = requests.get(api_url, headers=headers, params=payload)\n",
    "    dict_uid = json.loads(response.content.decode())['data']['protein_functional_type']\n",
    "    if dict_uid == {}:\n",
    "        no_func += 1\n",
    "    drivers = np.append(drivers,[i.split('-')[0] for i in dict_uid if dict_uid[i]==\"driver\"])"
   ]
  },
  {
   "cell_type": "code",
   "execution_count": 5,
   "id": "c2f0881e",
   "metadata": {},
   "outputs": [],
   "source": [
    "# Fetch members\n",
    "members = np.empty(0)\n",
    "\n",
    "for cd_item in dict_cd['data']:\n",
    "    api_url = f\"https://cd-code.org/api/condensates/{cd_item['uid']:s}\"\n",
    "    headers = {\"Authorization\": \"b537fe97ad384aea9cbfd7b25b38938a\"}\n",
    "    payload = {\"page\": 1, \"size\": 249}\n",
    "    response = requests.get(api_url, headers=headers, params=payload)\n",
    "    dict_uid = json.loads(response.content.decode())['data']['protein_functional_type']\n",
    "    members = np.append(members,[i.split('-')[0] for i in dict_uid if dict_uid[i]==\"member\"])"
   ]
  },
  {
   "cell_type": "code",
   "execution_count": 6,
   "id": "89f59d0e",
   "metadata": {},
   "outputs": [],
   "source": [
    "# load IDRome database\n",
    "df_idrome = pd.read_csv('IDRome_DB.csv',index_col=0)"
   ]
  },
  {
   "cell_type": "code",
   "execution_count": 7,
   "id": "91778705",
   "metadata": {},
   "outputs": [],
   "source": [
    "nu_driver = df_idrome[df_idrome['UniProt_ID'].isin(drivers)].nu.values\n",
    "nu_not_driver = df_idrome[~df_idrome['UniProt_ID'].isin(drivers)].nu.values"
   ]
  },
  {
   "cell_type": "code",
   "execution_count": 8,
   "id": "99dad933",
   "metadata": {},
   "outputs": [],
   "source": [
    "np.save('clinvar_fmug_cdcode/data/nu_driver.npy',nu_driver)\n",
    "np.save('clinvar_fmug_cdcode/data/nu_not_driver.npy',nu_not_driver)"
   ]
  },
  {
   "cell_type": "code",
   "execution_count": 9,
   "id": "b78d336a",
   "metadata": {},
   "outputs": [],
   "source": [
    "SPR_driver = df_idrome[df_idrome['UniProt_ID'].isin(drivers)].SPR.values\n",
    "SPR_not_driver = df_idrome[~df_idrome['UniProt_ID'].isin(drivers)].SPR.values"
   ]
  },
  {
   "cell_type": "code",
   "execution_count": 10,
   "id": "26ebdabd",
   "metadata": {},
   "outputs": [],
   "source": [
    "np.save('clinvar_fmug_cdcode/data/SPR_driver.npy',SPR_driver)\n",
    "np.save('clinvar_fmug_cdcode/data/SPR_not_driver.npy',SPR_not_driver)"
   ]
  },
  {
   "cell_type": "code",
   "execution_count": 11,
   "id": "7b57fa21",
   "metadata": {},
   "outputs": [],
   "source": [
    "nu_member = df_idrome[df_idrome['UniProt_ID'].isin(members)].nu.values\n",
    "nu_not_member = df_idrome[~df_idrome['UniProt_ID'].isin(members)].nu.values"
   ]
  },
  {
   "cell_type": "code",
   "execution_count": 12,
   "id": "0c983e07",
   "metadata": {},
   "outputs": [],
   "source": [
    "np.save('clinvar_fmug_cdcode/data/nu_member.npy',nu_member)\n",
    "np.save('clinvar_fmug_cdcode/data/nu_not_member.npy',nu_not_member)"
   ]
  },
  {
   "cell_type": "code",
   "execution_count": 13,
   "id": "4e3736d4",
   "metadata": {},
   "outputs": [],
   "source": [
    "SPR_member = df_idrome[df_idrome['UniProt_ID'].isin(members)].SPR.values\n",
    "SPR_not_member = df_idrome[~df_idrome['UniProt_ID'].isin(members)].SPR.values"
   ]
  },
  {
   "cell_type": "code",
   "execution_count": 14,
   "id": "d2815e6e",
   "metadata": {},
   "outputs": [],
   "source": [
    "np.save('clinvar_fmug_cdcode/data/SPR_member.npy',SPR_member)\n",
    "np.save('clinvar_fmug_cdcode/data/SPR_not_member.npy',SPR_not_member)"
   ]
  },
  {
   "cell_type": "code",
   "execution_count": 18,
   "id": "b23df0b6",
   "metadata": {},
   "outputs": [
    {
     "data": {
      "image/png": "[encoded data removed]",
      "text/plain": [
       "<Figure size 660x170 with 4 Axes>"
      ]
     },
     "metadata": {},
     "output_type": "display_data"
    }
   ],
   "source": [
    "f, (ax1,ax2,ax3,ax4) = plt.subplots(1, 4, sharex=False, sharey=False, figsize=(6.6,1.7))\n",
    "plt.rc('font', **{'family':'sans-serif','sans-serif':['Arial'], 'size': 6})\n",
    "\n",
    "for prop,prop_not,ax,bin_width,prop_max in zip([nu_driver,SPR_driver,nu_member,SPR_member],\n",
    "                        [nu_not_driver,SPR_not_driver,nu_not_member,SPR_not_member],\n",
    "                        [ax1,ax2,ax3,ax4],[.008,.05,.008,.05],[.65,11,.65,11]):\n",
    "    \n",
    "    bins = np.arange(prop.min(), prop_max, bin_width)\n",
    "    x = bins[:-1]+bin_width/2.\n",
    "    \n",
    "    ax.hist(prop_not,bins,density=True,histtype='step',color='k',zorder=0)\n",
    "\n",
    "    statistic, p_twosided = stats.brunnermunzel(prop, prop_not, alternative='two-sided')\n",
    "    statistic, p_less = stats.brunnermunzel(prop, prop_not, alternative='less')\n",
    "    statistic, p_greater = stats.brunnermunzel(prop, prop_not, alternative='greater')\n",
    "\n",
    "    p_value = p_greater\n",
    "    color = pt_colors['teal']\n",
    "    if p_less < p_greater:\n",
    "        color = pt_colors['orange']\n",
    "        p_value = p_less\n",
    "        \n",
    "    cohensd, cohensd_se = bootstrapped_cohens_d(prop, prop_not, 100000)\n",
    "    cohensd_label = f\"Cohen's $d$:\\n${cohensd:.2f}±{cohensd_se:.2f}$\"        \n",
    "    p_value_label = f'$P={format_scientific(p_value)}$' if p_value >= 1e-10 else '$P<1\\\\times10^{-10}$'\n",
    "    dof = f'\\nDoF: {calc_dof(prop, prop_not):,.0f}'\n",
    "\n",
    "    h = np.histogram(prop,bins=bins,density=True)[0]\n",
    "\n",
    "    ax.bar(x,h,alpha=.7,width=bin_width,color=color,\n",
    "           label=f'{prop.size:,d} IDRs\\n\\n'+cohensd_label+dof+'\\n'+p_value_label)\n",
    "\n",
    "    ax.legend(handlelength=0,frameon=False,borderpad=0,loc=(-.02,.45))\n",
    "    \n",
    "ax1.set_ylabel('$P(\\\\nu)$')\n",
    "ax1.set_xlabel('$\\\\nu$')\n",
    "ax3.set_ylabel('$P(\\\\nu)$')\n",
    "ax3.set_xlabel('$\\\\nu$')\n",
    "ax2.set_ylabel('$P(S_\\mathrm{conf}/N)$')\n",
    "ax2.set_xlabel(r'$S_\\mathrm{conf}$ / $N$  ($k_B$)')\n",
    "ax4.set_ylabel('$P(S_\\mathrm{conf}/N)$')\n",
    "ax4.set_xlabel(r'$S_\\mathrm{conf}$ / $N$  ($k_B$)')\n",
    "ax1.set_xlim(.37,.62)\n",
    "ax3.set_xlim(.37,.62)\n",
    "ax2.set_xlim(9.2,10.6)\n",
    "ax4.set_xlim(9.2,10.6)\n",
    "\n",
    "f.text(0.01, .92, 'a', fontsize=10)\n",
    "f.text(0.26, .92, 'b', fontsize=10)\n",
    "f.text(0.505, .92, 'c', fontsize=10)\n",
    "f.text(0.755, .92, 'd', fontsize=10)\n",
    "\n",
    "plt.tight_layout()\n",
    "plt.savefig('figs/ED_fig6a.pdf')"
   ]
  },
  {
   "cell_type": "code",
   "execution_count": null,
   "id": "bd955b12",
   "metadata": {},
   "outputs": [],
   "source": []
  }
 ],
 "metadata": {
  "kernelspec": {
   "display_name": "Python 3 (ipykernel)",
   "language": "python",
   "name": "python3"
  },
  "language_info": {
   "codemirror_mode": {
    "name": "ipython",
    "version": 3
   },
   "file_extension": ".py",
   "mimetype": "text/x-python",
   "name": "python",
   "nbconvert_exporter": "python",
   "pygments_lexer": "ipython3",
   "version": "3.8.16"
  }
 },
 "nbformat": 4,
 "nbformat_minor": 5
}
