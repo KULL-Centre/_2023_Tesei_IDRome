{
 "cells": [
  {
   "cell_type": "markdown",
   "id": "da117d0f",
   "metadata": {},
   "source": [
    "## Searching for Zinc Fingers, Coiled Coils, Transmembrane Regions, and Domains in UniProt Annotations\n",
    "\n",
    "This notebook reproduces Fig. S1\n",
    "\n",
    "Author: Giulio Tesei\n",
    "\n",
    "Contact: giulio.tesei@bio.ku.dk"
   ]
  },
  {
   "cell_type": "code",
   "execution_count": 3,
   "id": "f885d95a",
   "metadata": {},
   "outputs": [],
   "source": [
    "import urllib.parse\n",
    "import urllib.request\n",
    "import json\n",
    "import pandas as pd\n",
    "import numpy as np\n",
    "import time\n",
    "import matplotlib as mpl\n",
    "import matplotlib.pyplot as plt\n",
    "from ast import literal_eval\n",
    "from scipy.stats import binned_statistic, binned_statistic_2d\n",
    "\n",
    "# function to calculate standard error of the mean\n",
    "se = lambda x : np.std(x)/np.sqrt(x.size)\n",
    "se.__name__ = 'SE'\n",
    "\n",
    "partial_match = ['KRAB','Protein kinase','Collagen-like','Zinc finger','Rab-GAP TBC','BTB','FERM','ZP',\n",
    "'B30.2/SPRY','SET','PID','Cadherin','Fibronectin type-III','IQ','TSP type-1','Ig-like','ABC transporter',\n",
    "'EGF-like','CARD','PDZ','SH3','SAM','uDENN','Peptidase S1','Ras-GEF','Ras-associating','Olduvai','EF-hand']\n",
    "\n",
    "exact_match = ['Transmembrane','Coiled coil','USP','PH','Myosin motor',\n",
    "'Teneurin N-terminal','Helicase ATP-binding','REJ','cDENN FNIP1/2-type','FH2','C2',\n",
    "'NR LBD','AGC-kinase C-terminal', 'Myotubularin phosphatase',\n",
    "'Helicase C-terminal','PCI', 'DDHD',\n",
    "'G-patch','STAS','Kinesin motor','uDENN FNIP1/2-type', 'PLAC','RID','SCAN box',\n",
    "'PPM-type phosphatase', 'MDFI','I/LWEQ', 'MARVEL',\n",
    "'HIG1', 'KAP NTPase', 'CNH','PLA2c',\n",
    "'MACPF', 'DMAP1-binding', 'Sema','ASD2', 'NACHT', \n",
    "'IBB', 'GBD/FH3', 'IF rod', 'PARP catalytic','Sox C-terminal', 'Rho-GAP',\n",
    "'Pyrin','cDENN FLCN/SMCR8-type','Reticulon','WW']\n",
    "\n",
    "frequent_domains = partial_match + exact_match\n",
    "\n",
    "def idr_uniprot_features(df,name,annotation,start_feature,end_feature,exact_match,partial_match):\n",
    "    features = []\n",
    "    descriptions = []\n",
    "    start_index = df.loc[name,'first']\n",
    "    end_index = df.loc[name,'last']\n",
    "    folded_counter = np.zeros(end_index-start_index+1)\n",
    "    if (start_feature < start_index):\n",
    "        start_feature = start_index\n",
    "    if (end_feature > end_index):\n",
    "        end_feature = end_index\n",
    "    length = end_feature-start_feature\n",
    "    if length >= 10:\n",
    "        folded_counter[start_feature-start_index:end_feature-start_index] += 1\n",
    "        features.append(annotation['type'])\n",
    "        if annotation['type'] == 'Zinc finger':\n",
    "            descriptions.append('Zinc finger')\n",
    "        elif annotation['type'] == 'Coiled coil':\n",
    "            descriptions.append('Coiled coil')\n",
    "        elif annotation['type'] == 'Transmembrane':\n",
    "            descriptions.append('Transmembrane')\n",
    "        else:\n",
    "            descriptions.append(annotation['description'])\n",
    "        for domain in exact_match:\n",
    "            if domain == descriptions[-1]:\n",
    "                df.loc[name,domain] += length\n",
    "        for domain in partial_match:\n",
    "            if domain in descriptions[-1]:\n",
    "                df.loc[name,domain] += length\n",
    "        if descriptions[-1] in ['PH 1','PH 2','PH 3','PH 4']:\n",
    "            df.loc[name,'PH'] += length\n",
    "        elif descriptions[-1] in ['C2 1','C2 2','C2 3','C2 4','C2 5','C2 6']:\n",
    "            df.loc[name,'C2'] += length\n",
    "        elif descriptions[-1] in ['WW 1','WW 2','WW 3','WW 4']:\n",
    "            df.loc[name,'WW'] += length\n",
    "        df.loc[name,'N_Domain'] = np.sum(folded_counter!=0)\n",
    "        df.loc[name,'Features'] = ', '.join(np.unique(features))\n",
    "        df.loc[name,'Descriptions'] = ', '.join(np.unique(descriptions))\n",
    "        \n",
    "def uniprot_api_features(UniProt_ID,df_FL,df_idrome,df_spot,exact_match,partial_match):\n",
    "    # Use the uniprot as input to fetch the protein name\n",
    "    idrome_names = df_idrome.query(f'UniProt_ID == \"{UniProt_ID:s}\"').index\n",
    "    spot_names = df_spot.query(f'UniProt_ID == \"{UniProt_ID:s}\"').index\n",
    "    url_template_uniprot = \"https://rest.uniprot.org/uniprotkb/{}.json\"\n",
    "    url_uniprot = url_template_uniprot.format(UniProt_ID)\n",
    "    \n",
    "    with urllib.request.urlopen(url_uniprot) as link:\n",
    "        data_uniprot = json.loads(link.read().decode())\n",
    "        try:\n",
    "            annotations = data_uniprot['features']\n",
    "        except:\n",
    "            return 'No features'\n",
    "        N_FL_UP = data_uniprot['sequence']['length']\n",
    "        df_FL.loc[UniProt_ID,'N_FL_UP'] = N_FL_UP\n",
    "        if len(idrome_names) > 0:\n",
    "            N_FL_IDRome = df_idrome.query(f'UniProt_ID == \"{UniProt_ID:s}\"').N_FL[0]\n",
    "            if N_FL_IDRome != N_FL_UP:\n",
    "                print('length mismatch',N_FL_UP,N_FL_IDRome)\n",
    "                df_FL.loc[UniProt_ID,'N_FL_IDRome'] = N_FL_IDRome\n",
    "        if len(spot_names) > 0:\n",
    "            N_FL_SPOT = df_spot.query(f'UniProt_ID == \"{UniProt_ID:s}\"').N_FL[0]\n",
    "            if N_FL_SPOT != N_FL_UP:\n",
    "                print('length mismatch',N_FL_UP,N_FL_SPOT)\n",
    "                df_FL.loc[UniProt_ID,'N_FL_SPOT'] = N_FL_SPOT\n",
    "        if len(annotations) > 0:\n",
    "            folded_counter_FL = np.zeros(N_FL_UP)\n",
    "            features = []\n",
    "            descriptions = []\n",
    "            for annotation in annotations:\n",
    "                if annotation['type'] in ['Domain','Zinc finger','Coiled coil','Transmembrane']:\n",
    "                    start_feature = annotation['location']['start']['value']\n",
    "                    end_feature = annotation['location']['end']['value']\n",
    "                    if start_feature == None:\n",
    "                        length = 0\n",
    "                    elif end_feature == None:\n",
    "                        length = 0\n",
    "                    else:\n",
    "                        length = end_feature-start_feature\n",
    "                    if length >= 10:\n",
    "                        folded_counter_FL[start_feature:end_feature] += 1\n",
    "                        features.append(annotation['type'])\n",
    "                        if annotation['type'] == 'Zinc finger':\n",
    "                            descriptions.append('Zinc finger')\n",
    "                        elif annotation['type'] == 'Coiled coil':\n",
    "                            descriptions.append('Coiled coil')\n",
    "                        elif annotation['type'] == 'Transmembrane':\n",
    "                            descriptions.append('Transmembrane')\n",
    "                        else:\n",
    "                            descriptions.append(annotation['description'])\n",
    "                        for domain in exact_match:\n",
    "                            if domain == descriptions[-1]:\n",
    "                                df_FL.loc[UniProt_ID,domain] += length\n",
    "                        for domain in partial_match:\n",
    "                            if domain in descriptions[-1]:\n",
    "                                df_FL.loc[UniProt_ID,domain] += length\n",
    "                        if descriptions[-1] in ['PH 1','PH 2','PH 3','PH 4']:\n",
    "                            df_FL.loc[UniProt_ID,'PH'] += length\n",
    "                        elif descriptions[-1] in ['C2 1','C2 2','C2 3','C2 4','C2 5','C2 6']:\n",
    "                            df_FL.loc[UniProt_ID,'C2'] += length\n",
    "                        elif descriptions[-1] in ['WW 1','WW 2','WW 3','WW 4']:\n",
    "                            df_FL.loc[UniProt_ID,'WW'] += length\n",
    "                        df_FL.loc[UniProt_ID,'N_Domain'] = np.sum(folded_counter_FL!=0)\n",
    "                        df_FL.loc[UniProt_ID,'Features'] = ', '.join(np.unique(features))\n",
    "                        df_FL.loc[UniProt_ID,'Descriptions'] = ', '.join(np.unique(descriptions))\n",
    "                        for idrome_name in idrome_names:\n",
    "                            idr_uniprot_features(df_idrome,idrome_name,annotation,\n",
    "                                                 start_feature,end_feature,exact_match,partial_match)\n",
    "                        for spot_name in spot_names:\n",
    "                            idr_uniprot_features(df_spot,spot_name,annotation,\n",
    "                                                 start_feature,end_feature,exact_match,partial_match)"
   ]
  },
  {
   "cell_type": "code",
   "execution_count": 59,
   "id": "a7258f9e",
   "metadata": {},
   "outputs": [
    {
     "data": {
      "text/plain": [
       "15955"
      ]
     },
     "execution_count": 59,
     "metadata": {},
     "output_type": "execute_result"
    }
   ],
   "source": [
    "# Load IDRome database\n",
    "df_idrome = pd.read_csv('IDRome_DB.csv',index_col=0)[['nu','SPR','UniProt_ID','N',\n",
    "                                                      'first','last','N_FL','is_btw_folded','is_nterm',\n",
    "                                                      'is_cterm','is_idp']]\n",
    "df_idrome[frequent_domains] = 0\n",
    "# Load SPOT database\n",
    "df_spot = pd.read_csv('IDRome_DB_SPOT.csv',index_col=0)[['nu_svr','SPR_svr','UniProt_ID','N',\n",
    "                                                         'first','last','N_FL','is_btw_folded','is_nterm',\n",
    "                                                      'is_cterm','is_idp']]\n",
    "df_spot[frequent_domains] = 0\n",
    "\n",
    "UniProt_IDs = np.unique(np.append(df_idrome.UniProt_ID,df_spot.UniProt_ID))\n",
    "\n",
    "# Create FL database\n",
    "df_FL = pd.DataFrame(index=UniProt_IDs,columns=['N_Domain','Features','Descriptions',\n",
    "                                               'N_FL_UP','N_FL_IDRome','N_FL_SPOT'])\n",
    "df_FL[frequent_domains] = 0\n",
    "\n",
    "len(UniProt_IDs)"
   ]
  },
  {
   "cell_type": "code",
   "execution_count": null,
   "id": "a34d0fd0",
   "metadata": {},
   "outputs": [],
   "source": [
    "for i,UniProt_ID in enumerate(UniProt_IDs[:]):\n",
    "    uniprot_api_features(UniProt_ID,df_FL,df_idrome,df_spot,exact_match,partial_match)\n",
    "    print(i,end='-')\n",
    "    time.sleep(.6)"
   ]
  },
  {
   "cell_type": "code",
   "execution_count": 10,
   "id": "5d223a4a",
   "metadata": {},
   "outputs": [],
   "source": [
    "df_idrome['N_Domain'] = df_idrome['N_Domain'].fillna(0) \n",
    "df_idrome['fdomain'] = df_idrome['N_Domain'] / df_idrome['N']\n",
    "df_idrome.to_csv('IDRome_DB_Domains.csv')"
   ]
  },
  {
   "cell_type": "code",
   "execution_count": 11,
   "id": "9130613c",
   "metadata": {},
   "outputs": [],
   "source": [
    "df_spot['N_Domain'] = df_spot['N_Domain'].fillna(0) \n",
    "df_spot['fdomain'] = df_spot['N_Domain'] / df_spot['N']\n",
    "df_spot.to_csv('IDRome_DB_SPOT_Domains.csv')"
   ]
  },
  {
   "cell_type": "code",
   "execution_count": 12,
   "id": "dffa90f2",
   "metadata": {},
   "outputs": [],
   "source": [
    "df_FL['N_Domain'] = df_FL['N_Domain'].fillna(0) \n",
    "df_FL['fdomain'] = df_FL['N_Domain'] / df_FL['N_FL_UP']\n",
    "df_FL.to_csv('FL_Domains.csv')"
   ]
  },
  {
   "cell_type": "code",
   "execution_count": 4,
   "id": "42bd858b",
   "metadata": {},
   "outputs": [],
   "source": [
    "# Load domain annotations\n",
    "df_idrome = pd.read_csv('IDRome_DB_Domains.csv',index_col=0)\n",
    "df_spot = pd.read_csv('IDRome_DB_SPOT_Domains.csv',index_col=0)\n",
    "df_FL = pd.read_csv('FL_Domains.csv',index_col=0)"
   ]
  },
  {
   "cell_type": "markdown",
   "id": "d9e2076f",
   "metadata": {},
   "source": [
    "#### Calculate the overlap between pLDDT-based and SPOT-based sets"
   ]
  },
  {
   "cell_type": "code",
   "execution_count": null,
   "id": "0157d7b7",
   "metadata": {},
   "outputs": [],
   "source": [
    "cnt_spot = 0\n",
    "cnt_idrome = 0\n",
    "for up_id in df_spot.UniProt_ID.unique():\n",
    "    idrs_idrome = df_idrome.query(f'UniProt_ID == \"{up_id:s}\"')\n",
    "    idrs_spot = df_spot.query(f'UniProt_ID == \"{up_id:s}\"')\n",
    "    for ndx_spot in idrs_spot.index:\n",
    "        first_spot = idrs_spot.loc[ndx_spot,'first']\n",
    "        last_spot = idrs_spot.loc[ndx_spot,'last']\n",
    "        for ndx_idrome in idrs_idrome.index:\n",
    "            first = idrs_idrome.loc[ndx_idrome,'first']\n",
    "            last = idrs_idrome.loc[ndx_idrome,'last']\n",
    "            if (first_spot >= first) and (last_spot <= last):\n",
    "                cnt_spot += 1\n",
    "            elif (first >= first_spot) and (last <= last_spot):\n",
    "                cnt_idrome += 1\n",
    "\n",
    "cnt_spot/df_spot.shape[0]*100,cnt_idrome/df_spot.shape[0]*100,(cnt_spot+cnt_idrome)/df_spot.shape[0]*100"
   ]
  },
  {
   "cell_type": "code",
   "execution_count": 5,
   "id": "79e50eeb",
   "metadata": {},
   "outputs": [],
   "source": [
    "df_idrome.Descriptions = df_idrome.Descriptions.apply(lambda x : x.split(',') if type(x)!=float else x)\n",
    "df_spot.Descriptions = df_spot.Descriptions.apply(lambda x : x.split(',') if type(x)!=float else x)\n",
    "df_FL.Descriptions = df_FL.Descriptions.apply(lambda x : x.split(',') if type(x)!=float else x)"
   ]
  },
  {
   "cell_type": "markdown",
   "id": "8e608094",
   "metadata": {},
   "source": [
    "#### Rename Domains with Shorthand Descriptions"
   ]
  },
  {
   "cell_type": "code",
   "execution_count": 6,
   "id": "2f368bfe",
   "metadata": {},
   "outputs": [],
   "source": [
    "def replace_w_substring(strings,shorthand_description):\n",
    "    for i,string in enumerate(strings):\n",
    "        for substring in shorthand_description:\n",
    "            if substring in string:\n",
    "                strings[i] = substring\n",
    "        if string in ['PH 1','PH 2','PH 3','PH 4']:\n",
    "            strings[i] = 'PH'\n",
    "        if string in ['C2 1','C2 2','C2 3','C2 4','C2 5','C2 6']:\n",
    "            strings[i] = 'C2'\n",
    "        if string in ['WW 1','WW 2','WW 3','WW 4']:\n",
    "            strings[i] = 'WW'\n",
    "    if 'Zinc finger' in strings:\n",
    "        strings = ['Zinc finger']\n",
    "    if '' in strings:\n",
    "        strings.remove('')\n",
    "    return np.unique(strings)\n",
    "\n",
    "df_idrome['Short_Descriptions'] = df_idrome[~pd.isnull(df_idrome.Descriptions)].Descriptions.apply(\n",
    "    lambda x : replace_w_substring(x,partial_match))\n",
    "\n",
    "df_spot['Short_Descriptions'] = df_spot[~pd.isnull(df_spot.Descriptions)].Descriptions.apply(\n",
    "    lambda x : replace_w_substring(x,partial_match))\n",
    "\n",
    "df_FL['Short_Descriptions'] = df_FL[~pd.isnull(df_FL.Descriptions)].Descriptions.apply(\n",
    "    lambda x : replace_w_substring(x,partial_match))"
   ]
  },
  {
   "cell_type": "markdown",
   "id": "21ce8e16",
   "metadata": {},
   "source": [
    "#### Descriptions for IDRs with Multiple Domains of Different Type"
   ]
  },
  {
   "cell_type": "code",
   "execution_count": 7,
   "id": "158b9005",
   "metadata": {},
   "outputs": [],
   "source": [
    "df_idrome['Short_Descriptions'] = df_idrome[~pd.isnull(df_idrome.Descriptions)].Short_Descriptions.apply(\n",
    "    lambda x : ' & '.join([str(s) for s in x]))\n",
    "df_spot['Short_Descriptions'] = df_spot[~pd.isnull(df_spot.Descriptions)].Short_Descriptions.apply(\n",
    "    lambda x : ' & '.join([str(s) for s in x]))\n",
    "df_FL['Short_Descriptions'] = df_FL[~pd.isnull(df_FL.Descriptions)].Short_Descriptions.apply(\n",
    "    lambda x : ' & '.join([str(s) for s in x]))"
   ]
  },
  {
   "cell_type": "code",
   "execution_count": 8,
   "id": "2b791880",
   "metadata": {},
   "outputs": [
    {
     "data": {
      "text/plain": [
       "(3.432176206429539, 6204)"
      ]
     },
     "execution_count": 8,
     "metadata": {},
     "output_type": "execute_result"
    }
   ],
   "source": [
    "df_idrome.query('fdomain > 0.9').shape[0]/df_idrome.shape[0]*100,df_idrome.query('fdomain > 0').shape[0]"
   ]
  },
  {
   "cell_type": "code",
   "execution_count": 9,
   "id": "973550d0",
   "metadata": {},
   "outputs": [
    {
     "data": {
      "text/plain": [
       "(19.150727213206753, 4095)"
      ]
     },
     "execution_count": 9,
     "metadata": {},
     "output_type": "execute_result"
    }
   ],
   "source": [
    "df_spot.query('fdomain > 0').shape[0]/df_spot.shape[0]*100,df_spot.query('fdomain > 0').shape[0]"
   ]
  },
  {
   "cell_type": "code",
   "execution_count": 10,
   "id": "2bb51a1b",
   "metadata": {},
   "outputs": [
    {
     "data": {
      "text/plain": [
       "0.06747993214094654"
      ]
     },
     "execution_count": 10,
     "metadata": {},
     "output_type": "execute_result"
    }
   ],
   "source": [
    "df_spot.fdomain.mean()"
   ]
  },
  {
   "cell_type": "markdown",
   "id": "88886929",
   "metadata": {},
   "source": [
    "#### Fig. S1 _B_"
   ]
  },
  {
   "cell_type": "code",
   "execution_count": 13,
   "id": "13ce214c",
   "metadata": {},
   "outputs": [
    {
     "data": {
      "image/png": "[encoded data removed]",
      "text/plain": [
       "<Figure size 660x150 with 2 Axes>"
      ]
     },
     "metadata": {},
     "output_type": "display_data"
    }
   ],
   "source": [
    "fig, (ax1,ax2) = plt.subplots(1, 2, sharex=False, sharey=False, figsize=(6.6,1.5))\n",
    "plt.rc('font', **{'family':'sans-serif','sans-serif':['Arial'], 'size': 6})\n",
    "\n",
    "intervals = pd.cut(df_idrome['fdomain'], np.arange(0, 1.05, .1))\n",
    "fdomain_counts = df_idrome['fdomain'].groupby(intervals).agg(['count'])/df_idrome['fdomain'].size*100\n",
    "fdomain_counts.plot(rot=0, ax=ax1, kind='bar',hatch='/////',color='w', \n",
    "                      edgecolor='tab:gray',width=1,legend=False)\n",
    "\n",
    "intervals = pd.cut(df_spot['fdomain'], np.arange(0, 1.05, .1))\n",
    "fdomain_counts = df_spot['fdomain'].groupby(intervals).agg(['count'])/df_spot['fdomain'].size*100\n",
    "fdomain_counts.plot(rot=0, ax=ax1, kind='bar',hatch='/////',color='None', \n",
    "                      edgecolor='tab:red',width=.5,legend=False)\n",
    "\n",
    "ax1.set_ylabel('Fraction of IDRs %')\n",
    "\n",
    "ax1.set_xticks([-.5]+(np.arange(fdomain_counts.index.size)+.5).tolist())\n",
    "ax1.set_xticklabels([0]+[i.right for i in fdomain_counts.index])\n",
    "\n",
    "intervals = pd.cut(df_idrome['fdomain'], np.arange(0, 1.05, .1))\n",
    "mean_se = df_idrome['N'].groupby(intervals).agg(['mean',se])\n",
    "mean_se['mean'].plot(rot=0, ax=ax2, kind='bar', yerr=mean_se['SE'],hatch='/////',color='w',\n",
    "                      edgecolor='tab:gray',\n",
    "                      error_kw=dict(ecolor='tab:gray',elinewidth=0.5,capsize=2),width=1)\n",
    "\n",
    "intervals = pd.cut(df_spot['fdomain'], np.arange(0, 1.05, .1))\n",
    "mean_se = df_spot['N'].groupby(intervals).agg(['mean',se])\n",
    "mean_se['mean'].plot(rot=0, ax=ax2, kind='bar', yerr=mean_se['SE'],hatch='/////',color='None',\n",
    "                      edgecolor='tab:red',\n",
    "                      error_kw=dict(ecolor='tab:red',elinewidth=0.5,capsize=2),width=.5)\n",
    "\n",
    "ax2.set_ylabel('Sequence Length')\n",
    "ax1.set_xlabel(r'$f_{\\mathrm{domain}}$')\n",
    "ax2.set_xlabel(r'$f_{\\mathrm{domain}}$')\n",
    "\n",
    "ax2.set_xticks([-.5]+(np.arange(mean_se.index.size)+.5).tolist())\n",
    "ax2.set_xticklabels([0]+[i.right for i in mean_se.index])\n",
    "\n",
    "fig.text(0.01, .9, 'D', fontsize=10)\n",
    "fig.text(0.506, .9, 'E', fontsize=10)\n",
    "\n",
    "plt.tight_layout()\n",
    "\n",
    "fig.savefig('figs/figS1b.pdf',dpi=300)"
   ]
  },
  {
   "cell_type": "markdown",
   "id": "ce8aa1ad",
   "metadata": {},
   "source": [
    "#### Fig. S1 _C_"
   ]
  },
  {
   "cell_type": "code",
   "execution_count": 22,
   "id": "6829a56b",
   "metadata": {},
   "outputs": [
    {
     "data": {
      "image/png": "[encoded data removed]",
      "text/plain": [
       "<Figure size 660x400 with 5 Axes>"
      ]
     },
     "metadata": {},
     "output_type": "display_data"
    }
   ],
   "source": [
    "fig = plt.figure(figsize=(6.6,4))\n",
    "ax1 = plt.subplot2grid( (2,4), (0,0), rowspan=1, colspan=1 )\n",
    "ax2 = plt.subplot2grid( (2,4), (0,1), rowspan=1, colspan=1 )\n",
    "ax3 = plt.subplot2grid( (2,4), (0,2), rowspan=1, colspan=1 )\n",
    "ax4 = plt.subplot2grid( (2,4), (0,3), rowspan=1, colspan=1 )\n",
    "ax5 = plt.subplot2grid( (2,4), (1,0), rowspan=1, colspan=4 )\n",
    "plt.rc('font', **{'family':'sans-serif','sans-serif':['Arial'], 'size': 6})\n",
    "\n",
    "# bin nu values\n",
    "intervals = pd.cut(df_idrome['nu'], np.array([0, .45, .55, .8]))\n",
    "mean_se = df_idrome['fdomain'].groupby(intervals).agg(['mean',se])*100\n",
    "mean_se['mean'].plot(rot=0, ax=ax1, kind='bar', yerr=mean_se['SE'],hatch='/////',color='w',\n",
    "                      error_kw=dict(ecolor='black',elinewidth=0.5,capsize=2),\n",
    "                      edgecolor=['tab:orange','tab:blue','tab:green'],align='edge',width=-0.5)\n",
    "\n",
    "# bin nu values\n",
    "intervals = pd.cut(df_spot['nu_svr'], np.array([0, .45, .55, .8]))\n",
    "mean_se = df_spot['fdomain'].groupby(intervals).agg(['mean',se])*100\n",
    "mean_se['mean'].plot(rot=0, ax=ax1, kind='bar', yerr=mean_se['SE'],\n",
    "                      error_kw=dict(ecolor='black',elinewidth=0.5,capsize=2),\n",
    "                      color=['tab:orange','tab:blue','tab:green'],align='edge',width=0.5)\n",
    "\n",
    "ax1.set_xlim(-.7,2.7)\n",
    "ax1.set_ylim(0,22)\n",
    "ax1.set_xticks([-.5]+(np.arange(mean_se.index.size)+.5).tolist())\n",
    "ax1.set_xticklabels([0]+[i.right for i in mean_se.index])\n",
    "\n",
    "ax1.set_xlabel('$\\\\nu$')\n",
    "ax1.set_ylabel(r'$f_{\\mathrm{domain}}$  %')\n",
    "\n",
    "for ax,group in zip([ax2,ax3,ax4],['is_btw_folded','is_nterm or is_cterm','is_idp']):\n",
    "\n",
    "    # bin nu values\n",
    "    intervals = pd.cut(df_idrome.query(group)['nu'], np.array([0, .45, .55, .8]))\n",
    "    mean_se = df_idrome.query(group)['fdomain'].groupby(intervals).agg(['mean',se])*100\n",
    "    mean_se['mean'].plot(rot=0, ax=ax, kind='bar', yerr=mean_se['SE'],hatch='/////',color='w',\n",
    "                          error_kw=dict(ecolor='black',elinewidth=0.5,capsize=2),\n",
    "                          edgecolor=['tab:orange','tab:blue','tab:green'],align='edge',width=-0.5)\n",
    "    \n",
    "    #print(group,mean_se['mean'])\n",
    "\n",
    "    # bin nu values\n",
    "    intervals = pd.cut(df_spot.query(group)['nu_svr'], np.array([0, .45, .55, .8]))\n",
    "    mean_se = df_spot.query(group)['fdomain'].groupby(intervals).agg(['mean',se])*100\n",
    "    mean_se['mean'].plot(rot=0, ax=ax, kind='bar', yerr=mean_se['SE'],\n",
    "                          error_kw=dict(ecolor='black',elinewidth=0.5,capsize=2),\n",
    "                          color=['tab:orange','tab:blue','tab:green'],align='edge',width=0.5)\n",
    "    \n",
    "    ax.set_xlim(-.7,2.7)\n",
    "    ax.set_ylim(0,22)\n",
    "    ax.set_xticks([-.5]+(np.arange(mean_se.index.size)+.5).tolist())\n",
    "    ax.set_xticklabels([0]+[i.right for i in mean_se.index])\n",
    "    \n",
    "    ax.set_xlabel('$\\\\nu$')\n",
    "    ax.set_ylabel(r'$f_{\\mathrm{domain}}$  %')\n",
    "    \n",
    "ax1.set_title('All IDRs')\n",
    "ax2.set_title('IDRs Between Folded Domains')\n",
    "ax3.set_title('N- and C-terminal IDRs')\n",
    "ax4.set_title('IDPs')\n",
    "\n",
    "counts = pd.DataFrame(columns=['IDRome','SPOT','Full-Length'])\n",
    "counts['IDRome'] = df_idrome[frequent_domains].sum().sort_values(ascending=False) \n",
    "counts['SPOT'] = df_spot[frequent_domains].sum()\n",
    "counts['Full-Length'] = df_FL[frequent_domains].sum()\n",
    "#counts = counts[counts>=20]\n",
    "counts.index\n",
    "counts.plot.bar(ax=ax5,color=['tab:gray','tab:red','k'])\n",
    "\n",
    "ax5.set_ylabel('Number of Residues')\n",
    "ax5.set_yscale('symlog')\n",
    "ax5.set_ylim(0,1e6)\n",
    "ax5.set_xlim(-.5,62.5)\n",
    "\n",
    "ax5.legend(frameon=False,ncol=3)\n",
    "\n",
    "fig.text(0.01, .955, 'F', fontsize=10)\n",
    "fig.text(0.27, .955, 'G', fontsize=10)\n",
    "fig.text(0.53, .955, 'H', fontsize=10)\n",
    "fig.text(0.77, .955, 'I', fontsize=10)\n",
    "fig.text(0.01, .56, 'J', fontsize=10)\n",
    "\n",
    "plt.tight_layout()\n",
    "\n",
    "fig.savefig('figs/figS1c.pdf',dpi=300)"
   ]
  },
  {
   "cell_type": "markdown",
   "id": "7a89b41a",
   "metadata": {},
   "source": [
    "#### Calculate Average pLDDT Scores"
   ]
  },
  {
   "cell_type": "code",
   "execution_count": 13,
   "id": "9b57c45a",
   "metadata": {},
   "outputs": [],
   "source": [
    "df_pLDDT = pd.read_csv('idr_selection/idr.csv.gz',header=0,sep=';')\n",
    "df_pLDDT['seq_name'] = df_pLDDT.uniprot+'_'+df_pLDDT['first'].apply(\n",
    "    lambda x : '{:g}'.format(x))+'_'+df_pLDDT['last'].apply(lambda x : '{:g}'.format(x))\n",
    "df_pLDDT.set_index('seq_name',inplace=True)\n",
    "df_pLDDT['is_btw_folded'] = df_idrome.loc[df_pLDDT.index,'is_btw_folded']\n",
    "df_pLDDT['fdomain'] = df_idrome.loc[df_pLDDT.index,'fdomain']\n",
    "df_pLDDT['nu'] = df_idrome.loc[df_pLDDT.index,'nu']\n",
    "\n",
    "df_pLDDT['pLDDT_w20'] = df_pLDDT['pLDDT_w20'].apply(lambda x : 100*np.array(eval(x.replace(':',','))))\n",
    "pLDDT_w20_idrome = np.array([y for x in df_pLDDT['pLDDT_w20'].values for y in x])"
   ]
  },
  {
   "cell_type": "code",
   "execution_count": 24,
   "id": "39cce508",
   "metadata": {},
   "outputs": [
    {
     "name": "stdout",
     "output_type": "stream",
     "text": [
      "(21383, 11)\n",
      "(21277, 11)\n"
     ]
    }
   ],
   "source": [
    "df_pLDDT_spot = pd.read_csv('idr_selection/idr_spot.csv.gz',header=0,sep=';')\n",
    "df_pLDDT_spot['seq_name'] = df_pLDDT_spot.uniprot+'_'+df_pLDDT_spot['first'].apply(\n",
    "    lambda x : '{:g}'.format(x))+'_'+df_pLDDT_spot['last'].apply(lambda x : '{:g}'.format(x))\n",
    "df_pLDDT_spot.set_index('seq_name',inplace=True)\n",
    "df_pLDDT_spot['is_btw_folded'] = df_spot.loc[df_pLDDT_spot.index,'is_btw_folded']\n",
    "df_pLDDT_spot['nu_svr'] = df_spot.loc[df_pLDDT_spot.index,'nu_svr']\n",
    "\n",
    "IDR_no_pLDDT = []\n",
    "for seq_name in df_pLDDT_spot.index:\n",
    "    try:\n",
    "        100*eval(df_pLDDT_spot.loc[seq_name].pLDDT_w20.replace(':',','))\n",
    "    except NameError:\n",
    "        IDR_no_pLDDT.append(seq_name)\n",
    "        \n",
    "print(df_pLDDT_spot.shape)\n",
    "df_pLDDT_spot.drop(IDR_no_pLDDT,inplace=True)\n",
    "print(df_pLDDT_spot.shape)\n",
    "df_pLDDT_spot['pLDDT_w20'] = df_pLDDT_spot['pLDDT_w20'].apply(lambda x : 100*np.array(eval(x.replace(':',','))))\n",
    "UniProt_ID_diff = np.unique(np.setxor1d(df_pLDDT_spot.uniprot,df_pLDDT.uniprot))\n",
    "pLDDT_w20_idrome_spot = np.array([y for x in df_pLDDT_spot['pLDDT_w20'].values for y in x])\n",
    "pLDDT_w20_unique_spot = np.array([y for x in df_pLDDT_spot[df_pLDDT_spot.uniprot.isin(\n",
    "    UniProt_ID_diff)]['pLDDT_w20'].values for y in x])"
   ]
  },
  {
   "cell_type": "code",
   "execution_count": 28,
   "id": "5af522cb",
   "metadata": {},
   "outputs": [
    {
     "data": {
      "text/plain": [
       "55.95874743990514"
      ]
     },
     "execution_count": 28,
     "metadata": {},
     "output_type": "execute_result"
    }
   ],
   "source": [
    "np.mean([y for x in df_pLDDT.query('is_btw_folded and nu>0.55')['pLDDT_w20'].values for y in x])"
   ]
  },
  {
   "cell_type": "markdown",
   "id": "6cc47df9",
   "metadata": {},
   "source": [
    "#### Fig. S1 _A_"
   ]
  },
  {
   "cell_type": "code",
   "execution_count": 21,
   "id": "4eb6d52f",
   "metadata": {
    "scrolled": false
   },
   "outputs": [
    {
     "data": {
      "image/png": "[encoded data removed]",
      "text/plain": [
       "<Figure size 660x200 with 3 Axes>"
      ]
     },
     "metadata": {},
     "output_type": "display_data"
    }
   ],
   "source": [
    "fig, (ax1,ax2,ax3) = plt.subplots(1, 3, sharex=False, sharey=False, figsize=(6.6,2))\n",
    "plt.rc('font', **{'family':'sans-serif','sans-serif':['Arial'], 'size': 6})\n",
    "\n",
    "bin_width = 2\n",
    "bins = np.arange(20, 100+bin_width, bin_width)\n",
    "x = bins[:-1]+bin_width/2\n",
    "\n",
    "ax1.hist(pLDDT_w20_idrome,\n",
    "         bins,density=True,histtype='step',\n",
    "         color='tab:gray',zorder=1,label='pLDDT-based')\n",
    "\n",
    "ax1.hist(pLDDT_w20_idrome_spot,\n",
    "         bins,density=True,histtype='step',\n",
    "         color='tab:red',zorder=1,label='SPOT-based')\n",
    "\n",
    "ax1.hist(pLDDT_w20_unique_spot,\n",
    "         bins,density=True,histtype='step',\n",
    "         color='k',zorder=1,label='SPOT-based Unique')\n",
    "\n",
    "ax1.set_ylabel('Normalized Distribution')\n",
    "ax1.set_xlabel(r'pLDDT Score')\n",
    "\n",
    "ax1.legend(frameon=False,loc='upper right',handlelength=1)\n",
    "ax1.set_xlim(20,100)\n",
    "\n",
    "######\n",
    "\n",
    "f_mean_pLDDT = lambda values : np.mean(np.array([y for x in values for y in x]))\n",
    "f_mean_pLDDT.__name__ = 'mean_pLDDT'\n",
    "\n",
    "f_SE_pLDDT = lambda values : se(np.array([y for x in values for y in x]))\n",
    "f_SE_pLDDT.__name__ = 'SE_pLDDT'\n",
    "\n",
    "# bin nu values\n",
    "intervals = pd.cut(df_pLDDT['nu'], np.array([0, .45, .55, .8]))\n",
    "mean_se = df_pLDDT['pLDDT_w20'].groupby(intervals).agg([f_mean_pLDDT,f_SE_pLDDT])\n",
    "mean_se['mean_pLDDT'].plot(rot=0, ax=ax2, kind='bar', yerr=mean_se['SE_pLDDT'],hatch='/////',color='w',\n",
    "                      error_kw=dict(ecolor='black',elinewidth=0.5,capsize=2),\n",
    "                      edgecolor=['tab:orange','tab:blue','tab:green'],align='edge',width=-0.5)\n",
    "# bin nu values\n",
    "intervals = pd.cut(df_spot['nu_svr'], np.array([0, .45, .55, .8]))\n",
    "mean_se = df_pLDDT_spot['pLDDT_w20'].groupby(intervals).agg([f_mean_pLDDT,f_SE_pLDDT])\n",
    "mean_se['mean_pLDDT'].plot(rot=0, ax=ax2, kind='bar', yerr=mean_se['SE_pLDDT'],\n",
    "                      error_kw=dict(ecolor='black',elinewidth=0.5,capsize=2),\n",
    "                      color=['tab:orange','tab:blue','tab:green'],align='edge',width=0.5)\n",
    "\n",
    "# bin nu values\n",
    "intervals = pd.cut(df_pLDDT.query('is_btw_folded')['nu'], np.array([0, .45, .55, .8]))\n",
    "mean_se = df_pLDDT.query('is_btw_folded')['pLDDT_w20'].groupby(intervals).agg([f_mean_pLDDT,f_SE_pLDDT])\n",
    "mean_se['mean_pLDDT'].plot(rot=0, ax=ax3, kind='bar', yerr=mean_se['SE_pLDDT'],hatch='/////',color='w',\n",
    "                      error_kw=dict(ecolor='black',elinewidth=0.5,capsize=2),\n",
    "                      edgecolor=['tab:orange','tab:blue','tab:green'],align='edge',width=-0.5)\n",
    "\n",
    "# bin nu values\n",
    "intervals = pd.cut(df_pLDDT_spot.query('is_btw_folded')['nu_svr'], np.array([0, .45, .55, .8]))\n",
    "mean_se = df_pLDDT_spot.query('is_btw_folded')['pLDDT_w20'].groupby(intervals).agg([f_mean_pLDDT,f_SE_pLDDT])\n",
    "mean_se['mean_pLDDT'].plot(rot=0, ax=ax3, kind='bar', yerr=mean_se['SE_pLDDT'],\n",
    "                      error_kw=dict(ecolor='black',elinewidth=0.5,capsize=2),\n",
    "                      color=['tab:orange','tab:blue','tab:green'],align='edge',width=0.5)\n",
    "\n",
    "ax2.set_xticks([-.5]+(np.arange(mean_se.index.size)+.5).tolist())\n",
    "ax2.set_xticklabels([0]+[i.right for i in mean_se.index])\n",
    "\n",
    "ax3.set_xticks([-.5]+(np.arange(mean_se.index.size)+.5).tolist())\n",
    "ax3.set_xticklabels([0]+[i.right for i in mean_se.index])\n",
    "\n",
    "ax2.set_xlabel('$\\\\nu$')\n",
    "ax2.set_ylabel(r'pLDDT Score')\n",
    "ax2.set_ylim(35,60)\n",
    "ax2.set_xlim(-.6,2.6)\n",
    "\n",
    "ax3.set_xlabel('$\\\\nu$')\n",
    "ax3.set_ylabel(r'pLDDT Score')\n",
    "ax3.set_ylim(35,60)\n",
    "ax3.set_xlim(-.6,2.6)\n",
    "\n",
    "######\n",
    "\n",
    "ax2.set_title('All IDRs')\n",
    "ax3.set_title('IDRs Between Folded Domains')\n",
    "\n",
    "fig.text(0.01, .92, 'A', fontsize=10)\n",
    "fig.text(0.34, .92, 'B', fontsize=10)\n",
    "fig.text(0.67, .92, 'C', fontsize=10)\n",
    "\n",
    "plt.tight_layout()\n",
    "plt.savefig('figs/figS1a.pdf')"
   ]
  },
  {
   "cell_type": "code",
   "execution_count": null,
   "id": "7b68a7aa",
   "metadata": {},
   "outputs": [],
   "source": []
  }
 ],
 "metadata": {
  "kernelspec": {
   "display_name": "Python 3 (ipykernel)",
   "language": "python",
   "name": "python3"
  },
  "language_info": {
   "codemirror_mode": {
    "name": "ipython",
    "version": 3
   },
   "file_extension": ".py",
   "mimetype": "text/x-python",
   "name": "python",
   "nbconvert_exporter": "python",
   "pygments_lexer": "ipython3",
   "version": "3.8.16"
  }
 },
 "nbformat": 4,
 "nbformat_minor": 5
}
