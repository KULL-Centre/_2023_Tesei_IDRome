{
 "cells": [
  {
   "cell_type": "markdown",
   "id": "512296f9",
   "metadata": {},
   "source": [
    "## Development of SVR Model\n",
    "\n",
    "This notebook reproduces Fig. S7\n",
    "\n",
    "Authors: Johannes Betz and Giulio Tesei\n",
    "\n",
    "Contact: giulio.tesei@bio.ku.dk"
   ]
  },
  {
   "cell_type": "code",
   "execution_count": 1,
   "id": "a85b4dd1",
   "metadata": {},
   "outputs": [],
   "source": [
    "import numpy as np\n",
    "import pandas as pd\n",
    "import glob \n",
    "import difflib\n",
    "import time\n",
    "import random\n",
    "from mpl_toolkits.axes_grid1 import make_axes_locatable\n",
    "from matplotlib.colors import LogNorm\n",
    "from scipy.optimize import curve_fit\n",
    "from sklearn import svm \n",
    "from sklearn.inspection import permutation_importance\n",
    "import itertools\n",
    "import matplotlib as mpl\n",
    "import matplotlib.pyplot as plt\n",
    "from scipy.stats import pearsonr, spearmanr, gaussian_kde\n",
    "from scipy.stats import binned_statistic, binned_statistic_2d\n",
    "from joblib import dump, load\n",
    "# function to calculate standard error of the mean\n",
    "se = lambda x : np.std(x)/np.sqrt(x.size)\n",
    "se.__name__ = 'SE'"
   ]
  },
  {
   "cell_type": "code",
   "execution_count": 2,
   "id": "80ae84b7",
   "metadata": {},
   "outputs": [],
   "source": [
    "# load IDRome database\n",
    "df_idrome = pd.read_csv('IDRome_DB.csv',index_col=0)\n",
    "\n",
    "# load randomly drawn indices for 20%, 30%, and 60% of dataset\n",
    "inds10 = np.load('svr_model/inds10.npy') # hold-out test set\n",
    "inds30 = np.load('svr_model/inds30.npy') \n",
    "inds60 = np.load('svr_model/inds60.npy')\n",
    "\n",
    "# input features\n",
    "features = ['scd','shd','kappa','fcr','mean_lambda']\n",
    "feature_dict = {'scd':'SCD','shd':'SHD',\n",
    "                'mean_lambda':r'$\\langle \\lambda \\rangle$',\n",
    "                'fcr':'FCR','kappa':'$\\kappa$'}"
   ]
  },
  {
   "cell_type": "markdown",
   "id": "7c6ef97d",
   "metadata": {},
   "source": [
    "#### Grid search of hyperparameters"
   ]
  },
  {
   "cell_type": "code",
   "execution_count": 33,
   "id": "8661c0b1",
   "metadata": {},
   "outputs": [
    {
     "name": "stdout",
     "output_type": "stream",
     "text": [
      "Optimal Hyperparameters\n",
      "epsilon = [0.022] , C = [51]\n"
     ]
    }
   ],
   "source": [
    "#eps_range = np.concatenate((np.arange(0,0.0012,0.0002),np.arange(0.002,0.012,0.002),np.arange(0.02,0.12,0.02)))\n",
    "eps_range = np.arange(0.02,0.025,0.001)\n",
    "#c_range = np.arange(50,70,1)\n",
    "c_range = np.arange(40,60,1)\n",
    "\n",
    "#write pearson correlations to array\n",
    "pearsons = np.zeros((len(eps_range),len(c_range)))\n",
    "for eps_i,eps in enumerate(eps_range):\n",
    "    for c_i,c in enumerate(c_range):\n",
    "        X = np.array(df_idrome[features])[inds30]\n",
    "        y = np.array(df_idrome['nu'])[inds30]\n",
    "\n",
    "        model = svm.SVR(epsilon=eps,C=c)\n",
    "        model.fit(X,y)\n",
    "\n",
    "        X_test = np.array(df_idrome[features])[inds60]\n",
    "        y_pred = model.predict(X_test)\n",
    "\n",
    "        y_sim = np.array(df_idrome['nu'])[inds60]\n",
    "        \n",
    "        pearson_corr = pearsonr(y_pred,y_sim)\n",
    "        pearsons[eps_i][c_i] = pearson_corr[0]\n",
    "        \n",
    "eps_i_max, c_i_max = np.where(pearsons==pearsons.max())\n",
    "opt_eps = eps_range[eps_i_max]\n",
    "opt_c = c_range[c_i_max]\n",
    "\n",
    "print('Optimal Hyperparameters')\n",
    "print('epsilon =',opt_eps,', C =',opt_c)"
   ]
  },
  {
   "cell_type": "markdown",
   "id": "bb29daa3",
   "metadata": {},
   "source": [
    "#### Train SVR model"
   ]
  },
  {
   "cell_type": "code",
   "execution_count": 34,
   "id": "5bcb46b8",
   "metadata": {},
   "outputs": [
    {
     "name": "stdout",
     "output_type": "stream",
     "text": [
      "[LibSVM]..........................................\n",
      "Warning: using -h 0 may be faster\n",
      "*....................................................................................*.\n",
      "Warning: using -h 0 may be faster\n",
      "*\n",
      "optimization finished, #iter = 126594\n",
      "obj = -716.281912, rho = -0.469843\n",
      "nSV = 1144, nBSV = 992\n"
     ]
    },
    {
     "data": {
      "text/plain": [
       "SVR(C=array([51]), epsilon=array([0.022]), verbose=True)"
      ]
     },
     "execution_count": 34,
     "metadata": {},
     "output_type": "execute_result"
    }
   ],
   "source": [
    "X = np.array(df_idrome[features])[inds30]\n",
    "y = np.array(df_idrome['nu'])[inds30]\n",
    "model = svm.SVR(epsilon=opt_eps,C=opt_c,verbose=True)\n",
    "model.fit(X,y)"
   ]
  },
  {
   "cell_type": "markdown",
   "id": "a90869be",
   "metadata": {},
   "source": [
    "#### Export model using joblib"
   ]
  },
  {
   "cell_type": "code",
   "execution_count": 39,
   "id": "19ef413f",
   "metadata": {},
   "outputs": [
    {
     "data": {
      "text/plain": [
       "['svr_model/svr_model.joblib']"
      ]
     },
     "execution_count": 39,
     "metadata": {},
     "output_type": "execute_result"
    }
   ],
   "source": [
    "dump(model, 'svr_model/svr_model.joblib') "
   ]
  },
  {
   "cell_type": "markdown",
   "id": "6c5fc419",
   "metadata": {},
   "source": [
    "#### Load model using joblib"
   ]
  },
  {
   "cell_type": "code",
   "execution_count": 17,
   "id": "df102f37",
   "metadata": {},
   "outputs": [],
   "source": [
    "model = load('svr_model/svr_model.joblib') "
   ]
  },
  {
   "cell_type": "markdown",
   "id": "a1a84e4b",
   "metadata": {},
   "source": [
    "#### Calculate $\\nu_{\\text{SVR}}$ for all sequences"
   ]
  },
  {
   "cell_type": "code",
   "execution_count": 35,
   "id": "891016e9",
   "metadata": {},
   "outputs": [],
   "source": [
    "for seq_name in df_idrome.index:\n",
    "    df_idrome.loc[seq_name,'nu_svr'] = model.predict(df_idrome.loc[seq_name,features].values.reshape(1, -1))\n",
    "df_idrome.nu_svr = df_idrome.nu_svr.apply(lambda x: round(x,3))\n",
    "df_idrome.to_csv('IDRome_DB.csv')"
   ]
  },
  {
   "cell_type": "markdown",
   "id": "1574383e",
   "metadata": {},
   "source": [
    "#### Scaling exponents in validation set"
   ]
  },
  {
   "cell_type": "code",
   "execution_count": 36,
   "id": "bb72d019",
   "metadata": {},
   "outputs": [],
   "source": [
    "features_60 = df_idrome[features].iloc[inds60].values\n",
    "nu_60 = df_idrome.iloc[inds60].nu.values"
   ]
  },
  {
   "cell_type": "markdown",
   "id": "fd05ec47",
   "metadata": {},
   "source": [
    "####  Permutation feature importance testing"
   ]
  },
  {
   "cell_type": "code",
   "execution_count": 37,
   "id": "f98b4c89",
   "metadata": {},
   "outputs": [],
   "source": [
    "per_imp = permutation_importance(model,features_60,nu_60)"
   ]
  },
  {
   "cell_type": "markdown",
   "id": "25c3035b",
   "metadata": {},
   "source": [
    "#### Fig. S7"
   ]
  },
  {
   "cell_type": "code",
   "execution_count": 40,
   "id": "9b7aba4b",
   "metadata": {},
   "outputs": [
    {
     "data": {
      "image/png": "[encoded data removed]",
      "text/plain": [
       "<Figure size 660x330 with 6 Axes>"
      ]
     },
     "metadata": {},
     "output_type": "display_data"
    }
   ],
   "source": [
    "f, axes = plt.subplots(2, 3, sharex=False, sharey=False, figsize=(6.6,3.3))\n",
    "plt.rc('font', **{'family':'sans-serif','sans-serif':['Arial'], 'size': 6})\n",
    "\n",
    "features = np.array(features)\n",
    "sorted_idx = per_imp.importances_mean.argsort()\n",
    "axes[0,0].barh(features[sorted_idx],per_imp.importances_mean[sorted_idx],color='tab:gray',height=.5)\n",
    "feature_labels = [feature_dict[f] for f in features[sorted_idx]]\n",
    "axes[0,0].set_yticks(range(5))\n",
    "axes[0,0].set_yticklabels(feature_labels)\n",
    "axes[0,0].set_xlabel('Permutation Importance')\n",
    "\n",
    "features = ['scd','shd','mean_lambda','fcr','kappa']\n",
    "labels = ['SCD','SHD',r'$\\langle \\lambda \\rangle$','FCR',r'$\\kappa$']\n",
    "\n",
    "bins = np.arange(0, .701, .02)\n",
    "x = bins[:-1]+.01\n",
    "\n",
    "for ax,feature,label in zip(axes.flatten()[1:],features,labels):\n",
    "\n",
    "    average = binned_statistic(df_idrome.nu,df_idrome[feature],bins=bins)[0]\n",
    "    standard_error = binned_statistic(df_idrome.nu,df_idrome[feature],statistic=se,\n",
    "                                     bins=bins)[0]\n",
    "\n",
    "    ax.errorbar(x,average,yerr=standard_error,ms=2,marker='o',lw=0,zorder=0,\n",
    "             elinewidth=1,capsize=2,capthick=1,label=label,color='tab:gray')\n",
    "    \n",
    "    average = binned_statistic(df_idrome.nu_svr,df_idrome[feature],bins=bins)[0]\n",
    "    standard_error = binned_statistic(df_idrome.nu_svr,df_idrome[feature],statistic=se,\n",
    "                                     bins=bins)[0]\n",
    "\n",
    "    ax.errorbar(x,average,yerr=standard_error,ms=2,marker='o',lw=0,zorder=0,\n",
    "             elinewidth=1,capsize=2,capthick=1,label=label,color='tab:red')\n",
    "\n",
    "    ax.set_ylabel(label)\n",
    "    ymin = np.nanmin(average)\n",
    "    ymin = ymin*1.3 if ymin <0 else ymin*.8\n",
    "    ymax = np.nanmax(average)*1.05\n",
    "    ax.vlines([.45,.55],ymin=-40,ymax=80,color='k',ls=':',lw=.7)\n",
    "    ax.set_ylim(ymin,ymax)\n",
    "    ax.set_xlim(.05,.72)\n",
    "    ax.set_xticks([.1,.3,.5,.7])\n",
    "    ax.set_xlabel('$\\\\nu$')\n",
    "    \n",
    "axes[0,1].hlines(0,0,1,lw=.5,color='k')\n",
    "axes[0,1].set_ylim(-25,60)\n",
    "    \n",
    "f.text(0.01, .93, 'A', fontsize=10)\n",
    "f.text(0.34, .93, 'C', fontsize=10)\n",
    "f.text(0.67, .93, 'E', fontsize=10)\n",
    "\n",
    "f.text(0.01, .45, 'B', fontsize=10)\n",
    "f.text(0.34, .45, 'D', fontsize=10)\n",
    "f.text(0.67, .45, 'F', fontsize=10)\n",
    "    \n",
    "plt.tight_layout()\n",
    "plt.savefig('figs/figS7.pdf',dpi=300)\n",
    "plt.show()"
   ]
  },
  {
   "cell_type": "code",
   "execution_count": null,
   "id": "cd01a75b",
   "metadata": {},
   "outputs": [],
   "source": []
  }
 ],
 "metadata": {
  "kernelspec": {
   "display_name": "Python 3 (ipykernel)",
   "language": "python",
   "name": "python3"
  },
  "language_info": {
   "codemirror_mode": {
    "name": "ipython",
    "version": 3
   },
   "file_extension": ".py",
   "mimetype": "text/x-python",
   "name": "python",
   "nbconvert_exporter": "python",
   "pygments_lexer": "ipython3",
   "version": "3.8.16"
  }
 },
 "nbformat": 4,
 "nbformat_minor": 5
}
