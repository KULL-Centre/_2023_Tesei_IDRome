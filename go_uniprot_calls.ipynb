{
 "cells": [
  {
   "cell_type": "markdown",
   "id": "ad8b05f5",
   "metadata": {},
   "source": [
    "## API Calls to Obtain GO Terms from UniProt\n",
    "\n",
    "This notebook performs API calls to obtain gene ontology terms from UniProt\n",
    "\n",
    "Author: Nicolas Jonsson and Giulio Tesei\n",
    "\n",
    "Contact: giulio.tesei@bio.ku.dk"
   ]
  },
  {
   "cell_type": "code",
   "execution_count": null,
   "id": "c6a93842",
   "metadata": {},
   "outputs": [],
   "source": [
    "import urllib.parse\n",
    "import urllib.request\n",
    "import json\n",
    "import pandas as pd\n",
    "import numpy as np\n",
    "\n",
    "def uniprot_api(uniprot):\n",
    "    # Use the uniprot as input to fetch the protein name\n",
    "    url_template_uniprot = \"https://rest.uniprot.org/uniprotkb/{}.json\"\n",
    "    url_uniprot = url_template_uniprot.format(uniprot)\n",
    "\n",
    "    with urllib.request.urlopen(url_uniprot) as link:\n",
    "        #print(f'Extracting protein name for {uniprot}...')\n",
    "        data_uniprot = json.loads(link.read().decode())\n",
    "        #print(data_uniprot)\n",
    "\n",
    "        try:\n",
    "            go_list = []\n",
    "            for count,value in enumerate(data_uniprot['uniProtKBCrossReferences']):\n",
    "                if data_uniprot['uniProtKBCrossReferences'][count][\"database\"] == \"GO\":\n",
    "                    go_id = data_uniprot['uniProtKBCrossReferences'][count][\"id\"]\n",
    "                    #print(go_id)\n",
    "                    go_list.append(go_id)\n",
    "        except:\n",
    "            go_id = \"unknown\"\n",
    "            go_list.append(go_id)\n",
    "\n",
    "\n",
    "        if len(go_list) == 0:\n",
    "            go_id = \"unknown\"\n",
    "            go_list.append(go_id)\n",
    "\n",
    "        return go_list"
   ]
  },
  {
   "cell_type": "code",
   "execution_count": null,
   "id": "d01d3d88",
   "metadata": {},
   "outputs": [],
   "source": [
    "# load IDRome database\n",
    "df_idrome = pd.read_csv('IDRome_DB.csv',index_col=0)"
   ]
  },
  {
   "cell_type": "code",
   "execution_count": null,
   "id": "664d214d",
   "metadata": {},
   "outputs": [],
   "source": [
    "GO_terms = pd.Series(pd.read_pickle('go_analysis/uniprot_dict.pkl')).to_dict()"
   ]
  },
  {
   "cell_type": "code",
   "execution_count": null,
   "id": "1f06aff3",
   "metadata": {},
   "outputs": [],
   "source": [
    "for i,uniprot in enumerate(df_idrome.UniProt_ID.unique()):\n",
    "    go = uniprot_api(uniprot)\n",
    "    GO_terms[uniprot] = go\n",
    "    print(i,end='-')"
   ]
  },
  {
   "cell_type": "code",
   "execution_count": null,
   "id": "60c25b21",
   "metadata": {},
   "outputs": [],
   "source": [
    "pd.Series(GO_terms).to_pickle('idr_selection/uniprot_dict.pkl')"
   ]
  },
  {
   "cell_type": "code",
   "execution_count": null,
   "id": "30b90a31",
   "metadata": {},
   "outputs": [],
   "source": []
  }
 ],
 "metadata": {
  "kernelspec": {
   "display_name": "Python 3 (ipykernel)",
   "language": "python",
   "name": "python3"
  },
  "language_info": {
   "codemirror_mode": {
    "name": "ipython",
    "version": 3
   },
   "file_extension": ".py",
   "mimetype": "text/x-python",
   "name": "python",
   "nbconvert_exporter": "python",
   "pygments_lexer": "ipython3",
   "version": "3.8.16"
  }
 },
 "nbformat": 4,
 "nbformat_minor": 5
}
