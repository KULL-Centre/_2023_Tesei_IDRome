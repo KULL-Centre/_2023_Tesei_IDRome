{
 "cells": [
  {
   "cell_type": "markdown",
   "id": "ad8b05f5",
   "metadata": {},
   "source": [
    "## API Calls to Obtain GO Terms from UniProt\n",
    "\n",
    "This notebook performs API calls to obtain gene ontology terms from UniProt\n",
    "\n",
    "Author: Nicolas Jonsson and Giulio Tesei\n",
    "\n",
    "Contact: giulio.tesei@bio.ku.dk"
   ]
  },
  {
   "cell_type": "code",
   "execution_count": 1,
   "id": "c6a93842",
   "metadata": {},
   "outputs": [],
   "source": [
    "import urllib.parse\n",
    "import urllib.request\n",
    "import json\n",
    "import pandas as pd\n",
    "import numpy as np\n",
    "\n",
    "def uniprot_api(uniprot):\n",
    "    # Use the uniprot as input to fetch the protein name\n",
    "    url_template_uniprot = \"https://rest.uniprot.org/uniprotkb/{}.json\"\n",
    "    url_uniprot = url_template_uniprot.format(uniprot)\n",
    "\n",
    "    with urllib.request.urlopen(url_uniprot) as link:\n",
    "        #print(f'Extracting protein name for {uniprot}...')\n",
    "        data_uniprot = json.loads(link.read().decode())\n",
    "        #print(data_uniprot)\n",
    "\n",
    "        try:\n",
    "            go_list = []\n",
    "            for count,value in enumerate(data_uniprot['uniProtKBCrossReferences']):\n",
    "                if data_uniprot['uniProtKBCrossReferences'][count][\"database\"] == \"GO\":\n",
    "                    go_id = data_uniprot['uniProtKBCrossReferences'][count][\"id\"]\n",
    "                    #print(go_id)\n",
    "                    go_list.append(go_id)\n",
    "        except:\n",
    "            go_id = \"unknown\"\n",
    "            go_list.append(go_id)\n",
    "\n",
    "\n",
    "        if len(go_list) == 0:\n",
    "            go_id = \"unknown\"\n",
    "            go_list.append(go_id)\n",
    "\n",
    "        return go_list"
   ]
  },
  {
   "cell_type": "code",
   "execution_count": 5,
   "id": "d01d3d88",
   "metadata": {},
   "outputs": [],
   "source": [
    "# sequences\n",
    "df_idrome = pd.read_csv('idr_selection/idr_pLDDT.csv.gz',header=0,sep=';')\n",
    "df_idrome.sort_values('uniprot',inplace=True)\n",
    "df_idrome['seq_name'] = df_idrome.uniprot+'_'+df_idrome['first'].apply(lambda x : \n",
    "                '{:g}'.format(x))+'_'+df_idrome['last'].apply(lambda x : '{:g}'.format(x))\n",
    "df_idrome.set_index('seq_name',inplace=True)\n",
    "df_idrome\n",
    "df_idrome = df_idrome.drop(['category','presplit'],axis=1)\n",
    "df_idrome = df_idrome.rename({'uniprot':'UniProt_ID','nres_unip':'N_FL',\n",
    "                              'nres_seg':'N','sequence':'fasta'},axis=1)"
   ]
  },
  {
   "cell_type": "code",
   "execution_count": 54,
   "id": "664d214d",
   "metadata": {},
   "outputs": [],
   "source": [
    "GO_terms = pd.Series(pd.read_pickle('go_analysis/uniprot_dict.pkl')).to_dict()"
   ]
  },
  {
   "cell_type": "code",
   "execution_count": 55,
   "id": "1f06aff3",
   "metadata": {},
   "outputs": [
    {
     "name": "stdout",
     "output_type": "stream",
     "text": [
      "0-1-2-3-4-5-6-7-8-9-10-11-12-13-14-15-16-17-18-19-20-21-22-23-24-25-26-27-28-29-30-31-32-33-34-35-36-37-38-39-40-41-42-43-44-45-46-47-48-49-50-51-52-53-54-55-56-57-58-59-60-61-62-63-64-65-66-67-68-69-70-71-72-73-74-75-76-77-78-79-80-81-82-83-84-85-86-87-88-89-90-91-92-93-94-95-96-97-98-99-100-101-102-103-104-105-106-107-108-109-110-111-112-113-114-115-116-117-118-119-120-121-122-123-124-125-126-127-128-129-130-131-132-133-134-135-136-137-138-139-140-141-142-143-144-145-146-147-148-149-150-151-152-153-154-155-156-157-158-159-160-161-162-163-164-165-166-167-168-169-170-171-172-173-174-175-176-177-178-179-180-181-182-183-184-185-186-187-188-189-190-191-192-193-194-195-196-197-198-199-200-201-202-203-204-205-206-207-208-209-210-211-212-213-214-215-216-217-218-219-220-221-222-223-224-225-226-227-228-229-230-231-232-233-234-235-236-237-238-239-240-241-242-243-244-245-246-247-248-249-250-251-252-253-254-255-256-257-258-259-260-261-262-263-264-265-266-267-268-269-270-271-272-273-274-275-276-277-278-279-280-281-282-283-284-285-286-287-288-289-290-291-292-293-294-295-296-297-298-299-300-301-302-303-304-305-306-307-308-309-310-311-312-313-314-315-316-317-318-319-320-321-322-323-324-325-326-327-328-329-330-331-332-333-334-335-336-337-338-339-340-341-342-343-344-345-346-347-348-349-350-351-352-353-354-355-356-357-358-359-360-361-362-363-364-365-366-367-368-369-370-371-372-373-374-375-376-377-378-379-380-381-382-383-384-385-386-387-388-389-390-391-392-393-394-395-396-397-398-399-400-401-402-403-404-405-406-407-408-409-410-411-412-413-414-415-416-417-418-419-420-421-422-423-424-425-426-427-428-429-430-431-432-433-434-435-436-437-438-439-440-441-442-443-444-445-446-447-448-449-450-451-452-453-454-455-456-457-458-459-460-461-462-463-464-465-466-467-468-469-470-471-472-473-474-475-476-477-478-479-480-481-482-483-484-485-486-487-488-489-490-491-492-493-494-495-496-497-498-499-500-501-502-503-504-505-506-507-"
     ]
    }
   ],
   "source": [
    "for i,uniprot in enumerate(df_idrome.UniProt_ID.unique()):\n",
    "    go = uniprot_api(uniprot)\n",
    "    GO_terms[uniprot] = go\n",
    "    print(i,end='-')"
   ]
  },
  {
   "cell_type": "code",
   "execution_count": 78,
   "id": "60c25b21",
   "metadata": {},
   "outputs": [],
   "source": [
    "pd.Series(GO_terms).to_pickle('idr_selection/uniprot_dict.pkl')"
   ]
  },
  {
   "cell_type": "code",
   "execution_count": null,
   "id": "30b90a31",
   "metadata": {},
   "outputs": [],
   "source": []
  }
 ],
 "metadata": {
  "kernelspec": {
   "display_name": "Python 3 (ipykernel)",
   "language": "python",
   "name": "python3"
  },
  "language_info": {
   "codemirror_mode": {
    "name": "ipython",
    "version": 3
   },
   "file_extension": ".py",
   "mimetype": "text/x-python",
   "name": "python",
   "nbconvert_exporter": "python",
   "pygments_lexer": "ipython3",
   "version": "3.8.16"
  }
 },
 "nbformat": 4,
 "nbformat_minor": 5
}
