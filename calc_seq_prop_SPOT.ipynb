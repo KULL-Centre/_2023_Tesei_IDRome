{
 "cells": [
  {
   "cell_type": "markdown",
   "id": "753d0cf5",
   "metadata": {},
   "source": [
    "## Calculation of Sequence Properties\n",
    "\n",
    "This notebook computes sequence descriptors for the IDRs in the SPOT-based set\n",
    "\n",
    "Author: Giulio Tesei\n",
    "\n",
    "Contact: giulio.tesei@bio.ku.dk"
   ]
  },
  {
   "cell_type": "code",
   "execution_count": 3,
   "id": "01fd4df5",
   "metadata": {},
   "outputs": [],
   "source": [
    "import numpy as np \n",
    "import pandas as pd\n",
    "import matplotlib as mpl\n",
    "import matplotlib.pyplot as plt\n",
    "import itertools\n",
    "from localcider.sequenceParameters import SequenceParameters\n",
    "import time, os, glob\n",
    "from ast import literal_eval\n",
    "from joblib import dump, load\n",
    "\n",
    "def calc_seq_prop(seq_name,df,r):\n",
    "    \"\"\"df: DataFrame to be populated with sequence properties\n",
    "    r: DataFrame of aa-specific parameters\"\"\"\n",
    "        \n",
    "    fasta = list(df.loc[seq_name].fasta).copy()\n",
    "    fasta_kappa = fasta.copy()\n",
    "    N = len(fasta)\n",
    "    \n",
    "    # calculate properties that do not depend on charges\n",
    "    df.loc[seq_name,'fK'] = sum([fasta.count(a) for a in ['K']])/N\n",
    "    df.loc[seq_name,'fR'] = sum([fasta.count(a) for a in ['R']])/N\n",
    "    df.loc[seq_name,'fE'] = sum([fasta.count(a) for a in ['E']])/N\n",
    "    df.loc[seq_name,'fD'] = sum([fasta.count(a) for a in ['D']])/N\n",
    "    df.loc[seq_name,'faro'] = sum([fasta.count(a) for a in ['W','Y','F']])/N\n",
    "    df.loc[seq_name,'mean_lambda'] = np.mean(r.loc[fasta].lambdas)\n",
    "    pairs = np.array(list(itertools.combinations(fasta,2)))\n",
    "    pairs_indices = np.array(list(itertools.combinations(range(N),2)))\n",
    "    # calculate sequence separations\n",
    "    ij_dist = np.diff(pairs_indices,axis=1).flatten().astype(float)\n",
    "    # calculate lambda sums\n",
    "    ll = r.lambdas.loc[pairs[:,0]].values+r.lambdas.loc[pairs[:,1]].values\n",
    "    # calculate SHD\n",
    "    beta = -1\n",
    "    df.loc[seq_name,'shd'] = np.sum(ll*np.power(np.abs(ij_dist),beta))/N\n",
    "    \n",
    "    # fix charges\n",
    "    if df.loc[seq_name,'first'] == 1:\n",
    "        r.loc['X'] = r.loc[fasta[0]]\n",
    "        r.loc['X','q'] = r.loc[fasta[0],'q'] + 1.\n",
    "        fasta[0] = 'X'\n",
    "        if r.loc['X','q'] > 0:\n",
    "            fasta_kappa[0] = 'K'\n",
    "        else:\n",
    "            fasta_kappa[0] = 'A'\n",
    "    if df.loc[seq_name,'last'] == df.loc[seq_name,'N_FL']:\n",
    "        r.loc['Z'] = r.loc[fasta[-1]]\n",
    "        r.loc['Z','q'] = r.loc[fasta[-1],'q'] - 1.\n",
    "        fasta[-1] = 'Z'\n",
    "        if r.loc['Z','q'] < 0:\n",
    "            fasta_kappa[-1] = 'D'\n",
    "        else:\n",
    "            fasta_kappa[-1] = 'A'\n",
    "            \n",
    "    # calculate properties that depend on charges    \n",
    "    pairs = np.array(list(itertools.combinations(fasta,2)))\n",
    "    # calculate charge products\n",
    "    qq = r.q.loc[pairs[:,0]].values*r.q.loc[pairs[:,1]].values\n",
    "    # calculate SCD\n",
    "    df.loc[seq_name,'scd'] = np.sum(qq*np.sqrt(ij_dist))/N\n",
    "    SeqOb = SequenceParameters(''.join(fasta_kappa))\n",
    "    kappa = SeqOb.get_kappa()\n",
    "    df.loc[seq_name,'kappa'] = 0 if kappa==-1 else kappa\n",
    "    df.loc[seq_name,'fcr'] = r.q.loc[list(fasta)].abs().mean()\n",
    "    df.loc[seq_name,'ncpr'] = r.q.loc[list(fasta)].mean()\n",
    "\n",
    "def is_between_folded(x):\n",
    "    is_not_100_nterm = x['first'] > 100\n",
    "    is_not_100_cterm = (x['N_FL'] - x['last'])  > 100\n",
    "    is_iternal = is_not_100_nterm & is_not_100_cterm\n",
    "    is_idr_nterm = []\n",
    "    is_idr_cterm = []\n",
    "    for ndx in np.append(x['first_by_ID'],x['last_by_ID']):\n",
    "        is_idr_nterm.append(ndx in range(x['first']-100,x['first']))\n",
    "        is_idr_cterm.append(ndx in range(x['last']+1,x['last']+101))\n",
    "    return bool((not np.any(is_idr_nterm)) and (not np.any(is_idr_cterm)) and is_iternal)"
   ]
  },
  {
   "cell_type": "code",
   "execution_count": 4,
   "id": "6bacc0e1",
   "metadata": {},
   "outputs": [],
   "source": [
    "# aa-specific properties\n",
    "r = pd.read_csv('md_simulations/data/residues.csv').set_index('one',drop=False)\n",
    "\n",
    "# sequences\n",
    "df_idrome = pd.read_csv('idr_selection/idr_spot.csv.gz',header=0,sep=';')\n",
    "df_idrome.sort_values('uniprot',inplace=True)\n",
    "df_idrome.rename(columns={'uniprot':'UniProt_ID',\n",
    "                 'sequence':'fasta',\n",
    "                 'nres_unip':'N_FL',\n",
    "                 'nres_seg':'N',\n",
    "                 'name':'seq_name'},inplace=True)\n",
    "df_idrome.set_index('seq_name',inplace=True)"
   ]
  },
  {
   "cell_type": "markdown",
   "id": "6fe878a3",
   "metadata": {},
   "source": [
    "#### IDRs from UniProt IDs unique to SPOT"
   ]
  },
  {
   "cell_type": "code",
   "execution_count": 5,
   "id": "27c8050c",
   "metadata": {},
   "outputs": [],
   "source": [
    "df_pLDDT = pd.read_csv('idr_selection/idr.csv.gz',header=0,sep=';')\n",
    "df_SPOT = pd.read_csv('idr_selection/idr_spot.csv.gz',header=0,sep=';')\n",
    "\n",
    "UniProt_ID_diff = np.unique(np.setxor1d(df_SPOT.uniprot,df_pLDDT.uniprot))\n",
    "SPOT_unique = df_SPOT[df_SPOT.uniprot.isin(UniProt_ID_diff)].uniprot\n",
    "df_SPOT[df_SPOT.uniprot.isin(SPOT_unique)].to_csv('idr_selection/idr_spot_unique.csv.gz')"
   ]
  },
  {
   "cell_type": "code",
   "execution_count": 6,
   "id": "cdae12d6",
   "metadata": {},
   "outputs": [
    {
     "data": {
      "text/plain": [
       "531"
      ]
     },
     "execution_count": 6,
     "metadata": {},
     "output_type": "execute_result"
    }
   ],
   "source": [
    "df_SPOT[df_SPOT.uniprot.isin(SPOT_unique)].uniprot.unique().size"
   ]
  },
  {
   "cell_type": "markdown",
   "id": "e78aa8a1",
   "metadata": {},
   "source": [
    "#### Load conformational properties for IDRs from UniProt IDs unique to SPOT"
   ]
  },
  {
   "cell_type": "code",
   "execution_count": null,
   "id": "ab020bac",
   "metadata": {},
   "outputs": [],
   "source": [
    "df_idrome_conf = pd.read_csv('md_simulations/data/conf_prop_spot_unique.csv.gz',index_col=0)\n",
    "df_idrome_conf.nu = df_idrome_conf.nu.apply(lambda x: round(x,3))"
   ]
  },
  {
   "cell_type": "code",
   "execution_count": null,
   "id": "935e2540",
   "metadata": {},
   "outputs": [],
   "source": [
    "conf_prop = ['nu', 'ete2_Rg2', 'S', 'Delta', 'Rg', 'ete', 'rh', 'SPR']\n",
    "for seq_name in df_idrome_conf.index:\n",
    "    df_idrome.loc[seq_name,conf_prop] = df_idrome_conf.loc[seq_name,conf_prop]"
   ]
  },
  {
   "cell_type": "markdown",
   "id": "2a1b02fe",
   "metadata": {},
   "source": [
    "#### Calculate sequence descriptors"
   ]
  },
  {
   "cell_type": "code",
   "execution_count": null,
   "id": "514efd8f",
   "metadata": {},
   "outputs": [],
   "source": [
    "seq_prop = ['fK', 'fR', 'fE', 'fD', 'faro', 'mean_lambda', 'shd', 'scd', 'kappa', 'fcr', 'ncpr']\n",
    "for i,seq_name in enumerate(df_idrome.index):\n",
    "    calc_seq_prop(seq_name,df_idrome,r)\n",
    "    print(i,end='-')"
   ]
  },
  {
   "cell_type": "code",
   "execution_count": null,
   "id": "b7381f62",
   "metadata": {},
   "outputs": [],
   "source": [
    "# load SPOT-based IDRome database\n",
    "df_idrome = pd.read_csv('IDRome_DB_SPOT.csv',index_col=0)"
   ]
  },
  {
   "cell_type": "markdown",
   "id": "1aa5423b",
   "metadata": {},
   "source": [
    "#### Include z-scores"
   ]
  },
  {
   "cell_type": "code",
   "execution_count": null,
   "id": "dd552a07",
   "metadata": {},
   "outputs": [],
   "source": [
    "# load z-scores\n",
    "if not os.path.isfile(f'zscores/data/SPOT_seq_prop.csv.gz'):\n",
    "    dfs = []\n",
    "    for filename in glob.glob(f'../_2023_Tesei_IDRome_v4/zscores/data/SPOT/seq_prop_*.csv.gz'):    \n",
    "        dfs.append(pd.read_csv(filename,index_col=0))\n",
    "    for filename in glob.glob(f'../_2023_Tesei_IDRome_v4/zscores/data/SPOT_long/seq_prop_*.csv.gz'):    \n",
    "        dfs.append(pd.read_csv(filename,index_col=0))\n",
    "\n",
    "    df_seq_prop = pd.concat(dfs)\n",
    "    \n",
    "    df_seq_prop = df_seq_prop[df_seq_prop.seq_name.isin(df_idrome.index)]\n",
    "    \n",
    "    df_seq_prop['faro'] = df_seq_prop.seq.apply(lambda x: sum(\n",
    "        [x.count(a) for a in ['W','Y','F']])/len(x))\n",
    "    df_seq_prop['fh'] = df_seq_prop.seq.apply(lambda x: sum(\n",
    "        [x.count(a) for a in ['I','L','M','V']])/len(x))\n",
    "    \n",
    "    nonzero_bool = df_seq_prop['faro'].values > .1\n",
    "    df_seq_prop.loc[~nonzero_bool,'pi_pi'] = 0\n",
    "    \n",
    "    nonzero_bool = df_seq_prop['fh'].values > .1\n",
    "    df_seq_prop.loc[~nonzero_bool,'h_h'] = 0\n",
    "    \n",
    "    termini_corr = df_seq_prop.query('termini == True').seq_name\n",
    "    termini_corr_index = termini_corr.index\n",
    "    \n",
    "    # z-scores affected by changes in terminal charges\n",
    "    termini_seq_props = ['termini', 'seq', 'mu_+', 'mu_-', 'h_+', 'h_-', \n",
    "       '+_pi', '+_A', '+_P', '+_G', '-_pi', '-_A', '-_P', '-_G', '+_-', '+_+', '-_-']\n",
    "\n",
    "    # set correct values to sequences with changes to terminal charges\n",
    "    df_seq_prop.loc[termini_corr,termini_seq_props] = df_seq_prop.query(\n",
    "        'termini == True').set_index('seq_name')[termini_seq_props]\n",
    "\n",
    "    df_seq_prop.drop(termini_corr_index,inplace=True)\n",
    "    \n",
    "    df_seq_prop['f+'] = df_seq_prop.seq.apply(lambda x: sum(\n",
    "        [x.count(a) for a in ['R','K']])/len(x))\n",
    "    df_seq_prop['f-'] = df_seq_prop.seq.apply(lambda x: sum(\n",
    "        [x.count(a) for a in ['D','E']])/len(x))\n",
    "    \n",
    "    nonzero_bool = (df_seq_prop['f+'].values>.1)&(df_seq_prop['f-'].values>.1)\n",
    "    df_seq_prop.loc[~nonzero_bool,'+_-'] = 0\n",
    "    \n",
    "    nonzero_bool = df_seq_prop['f+'].values > .1\n",
    "    df_seq_prop.loc[~nonzero_bool,'+_+'] = 0\n",
    "\n",
    "    nonzero_bool = df_seq_prop['f-'].values > .1\n",
    "    df_seq_prop.loc[~nonzero_bool,'-_-'] = 0\n",
    "\n",
    "    df_seq_prop = df_seq_prop.rename({'+_-':'z_delta_+-', 'h_h':'z_omega_h', \n",
    "                    'pi_pi':'z_omega_pi', '+_+':'z_omega_+', '-_-':'z_omega_-'},axis=1)\n",
    "\n",
    "    df_seq_prop.drop(['z_mat', 'z_mat_scr'],axis=1,inplace=True)\n",
    "    df_seq_prop.to_csv('zscores/data/SPOT_seq_prop.csv.gz')\n",
    "else:\n",
    "    df_seq_prop = pd.read_csv('zscores/data/SPOT_seq_prop.csv.gz',index_col=0)\n",
    "    \n",
    "df_idrome[['z_delta_+-', 'z_omega_h', 'z_omega_pi', 'z_omega_+', \n",
    "           'z_omega_-']] = df_seq_prop[['z_delta_+-', 'z_omega_h', 'z_omega_pi', \n",
    "                                        'z_omega_+', 'z_omega_-']]"
   ]
  },
  {
   "cell_type": "markdown",
   "id": "5fd7fe52",
   "metadata": {},
   "source": [
    "#### Add $f_\\text{domain}$ entries"
   ]
  },
  {
   "cell_type": "code",
   "execution_count": null,
   "id": "932b1cc5",
   "metadata": {},
   "outputs": [],
   "source": [
    "df_domains = pd.read_csv('IDRome_DB_SPOT_Domains.csv',index_col=0)\n",
    "df_idrome['fdomain'] = df_domains['fdomain']"
   ]
  },
  {
   "cell_type": "markdown",
   "id": "0c453e8e",
   "metadata": {},
   "source": [
    "#### Calculate $\\nu_{\\text{SVR}}$ and $S_\\text{conf,SVR}/N$ for all sequences"
   ]
  },
  {
   "cell_type": "code",
   "execution_count": null,
   "id": "b4e51c11",
   "metadata": {},
   "outputs": [],
   "source": [
    "model_nu = load('svr_models/svr_model_nu.joblib') \n",
    "model_spr = load('svr_models/svr_model_SPR.joblib') \n",
    "\n",
    "features_nu = ['scd','shd','kappa','fcr','mean_lambda']\n",
    "features_spr = ['scd','shd','mean_lambda']\n",
    "\n",
    "for seq_name in df_idrome.index:\n",
    "    df_idrome.loc[seq_name,'nu_svr'] = model_nu.predict(df_idrome.loc[seq_name,features_nu].values.reshape(1, -1))\n",
    "    df_idrome.loc[seq_name,'SPR_svr'] = model_spr.predict(df_idrome.loc[seq_name,features_spr].values.reshape(1, -1))\n",
    "df_idrome.nu_svr = df_idrome.nu_svr.apply(lambda x: round(x,3))\n",
    "df_idrome.SPR_svr = df_idrome.SPR_svr.apply(lambda x: round(x,3))"
   ]
  },
  {
   "cell_type": "markdown",
   "id": "8637bb0b",
   "metadata": {},
   "source": [
    "#### Add bool entries for the location of the IDRs within the full-length protein"
   ]
  },
  {
   "cell_type": "code",
   "execution_count": null,
   "id": "3801d29e",
   "metadata": {},
   "outputs": [],
   "source": [
    "first_by_ID = df_idrome.groupby('UniProt_ID')['first'].apply(np.array)\n",
    "last_by_ID = df_idrome.groupby('UniProt_ID')['last'].apply(np.array)\n",
    "df_idrome['first_by_ID'] = df_idrome.UniProt_ID.apply(lambda x: first_by_ID.loc[x])\n",
    "df_idrome['last_by_ID'] = df_idrome.UniProt_ID.apply(lambda x: last_by_ID.loc[x])\n",
    "\n",
    "df_idrome['is_btw_folded'] = df_idrome.apply(lambda x: is_between_folded(x), axis=1)\n",
    "\n",
    "df_idrome['is_nterm'] = df_idrome.apply(lambda x: x['first']==1 and x['last']!=x['N_FL'], axis=1)\n",
    "df_idrome['is_cterm'] = df_idrome.apply(lambda x: x['first']!=1 and x['last']==x['N_FL'], axis=1)\n",
    "\n",
    "df_idrome['is_idp'] = df_idrome.apply(lambda x: x['first']==1 and x['last']==x['N_FL'], axis=1)\n",
    "\n",
    "df_idrome.drop(['first_by_ID','last_by_ID'],axis=1,inplace=True)"
   ]
  },
  {
   "cell_type": "code",
   "execution_count": null,
   "id": "7365cbf6",
   "metadata": {},
   "outputs": [],
   "source": [
    "df_idrome = df_idrome.rename({'Rg':'Rg/nm','ete':'Ree/nm','rh':'Rh/nm'},axis=1)"
   ]
  },
  {
   "cell_type": "code",
   "execution_count": null,
   "id": "1aaad27d",
   "metadata": {},
   "outputs": [],
   "source": [
    "cols = ['UniProt_ID', 'N', 'nu', 'SPR', 'ete2_Rg2', 'S', 'Delta', 'Rg/nm', 'Ree/nm', 'Rh/nm',\n",
    "       'fK', 'fR', 'fE', 'fD', 'faro', 'mean_lambda', 'shd',\n",
    "       'scd', 'kappa', 'fcr', 'ncpr', 'fasta', 'is_btw_folded',\n",
    "       'is_nterm', 'is_cterm', 'is_idp', 'first', 'last', 'N_FL',\n",
    "       'z_delta_+-', 'z_omega_pi', 'z_omega_+', 'z_omega_-', 'z_omega_h', 'fdomain', 'nu_svr', 'SPR_svr']"
   ]
  },
  {
   "cell_type": "code",
   "execution_count": null,
   "id": "87f511b7",
   "metadata": {},
   "outputs": [],
   "source": [
    "df_idrome[cols].to_csv('IDRome_DB_SPOT.csv')"
   ]
  },
  {
   "cell_type": "code",
   "execution_count": null,
   "id": "83da2732",
   "metadata": {},
   "outputs": [],
   "source": [
    "df_idrome[cols].to_excel('IDRome_DB_SPOT.xlsx')"
   ]
  }
 ],
 "metadata": {
  "kernelspec": {
   "display_name": "Python 3 (ipykernel)",
   "language": "python",
   "name": "python3"
  },
  "language_info": {
   "codemirror_mode": {
    "name": "ipython",
    "version": 3
   },
   "file_extension": ".py",
   "mimetype": "text/x-python",
   "name": "python",
   "nbconvert_exporter": "python",
   "pygments_lexer": "ipython3",
   "version": "3.8.16"
  }
 },
 "nbformat": 4,
 "nbformat_minor": 5
}
