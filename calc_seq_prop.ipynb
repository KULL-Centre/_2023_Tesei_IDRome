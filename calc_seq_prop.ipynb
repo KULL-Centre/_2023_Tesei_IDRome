{
 "cells": [
  {
   "cell_type": "markdown",
   "id": "753d0cf5",
   "metadata": {},
   "source": [
    "## Calculation of Sequence Properties\n",
    "\n",
    "This notebook computes sequence descriptors for the 29,998 IDRs\n",
    "\n",
    "Author: Giulio Tesei\n",
    "\n",
    "Contact: giulio.tesei@bio.ku.dk"
   ]
  },
  {
   "cell_type": "code",
   "execution_count": 2,
   "id": "01fd4df5",
   "metadata": {},
   "outputs": [],
   "source": [
    "import numpy as np \n",
    "import pandas as pd\n",
    "import matplotlib as mpl\n",
    "import matplotlib.pyplot as plt\n",
    "import itertools\n",
    "from localcider.sequenceParameters import SequenceParameters\n",
    "import time\n",
    "from ast import literal_eval\n",
    "\n",
    "def calc_seq_prop(seq_name,df,r):\n",
    "    \"\"\"df: DataFrame to be populated with sequence properties\n",
    "    r: DataFrame of aa-specific parameters\"\"\"\n",
    "        \n",
    "    fasta = list(df.loc[seq_name].fasta).copy()\n",
    "    fasta_kappa = fasta.copy()\n",
    "    N = len(fasta)\n",
    "    \n",
    "    # calculate properties that do not depend on charges\n",
    "    df.loc[seq_name,'fK'] = sum([fasta.count(a) for a in ['K']])/N\n",
    "    df.loc[seq_name,'fR'] = sum([fasta.count(a) for a in ['R']])/N\n",
    "    df.loc[seq_name,'fE'] = sum([fasta.count(a) for a in ['E']])/N\n",
    "    df.loc[seq_name,'fD'] = sum([fasta.count(a) for a in ['D']])/N\n",
    "    df.loc[seq_name,'faro'] = sum([fasta.count(a) for a in ['W','Y','F']])/N\n",
    "    df.loc[seq_name,'mean_lambda'] = np.mean(r.loc[fasta].lambdas)\n",
    "    pairs = np.array(list(itertools.combinations(fasta,2)))\n",
    "    pairs_indices = np.array(list(itertools.combinations(range(N),2)))\n",
    "    # calculate sequence separations\n",
    "    ij_dist = np.diff(pairs_indices,axis=1).flatten().astype(float)\n",
    "    # calculate lambda sums\n",
    "    ll = r.lambdas.loc[pairs[:,0]].values+r.lambdas.loc[pairs[:,1]].values\n",
    "    # calculate SHD\n",
    "    beta = -1\n",
    "    df.loc[seq_name,'shd'] = np.sum(ll*np.power(np.abs(ij_dist),beta))/N\n",
    "    SeqOb = SequenceParameters(df_idrome.loc[seq_name].fasta)\n",
    "    df.loc[seq_name,'omega'] = SeqOb.get_kappa_X(grp1=['F','Y','W'])\n",
    "    \n",
    "    # fix charges\n",
    "    if df.loc[seq_name,'first'] == 1:\n",
    "        r.loc['X'] = r.loc[fasta[0]]\n",
    "        r.loc['X','q'] = r.loc[fasta[0],'q'] + 1.\n",
    "        fasta[0] = 'X'\n",
    "        if r.loc['X','q'] > 0:\n",
    "            fasta_kappa[0] = 'K'\n",
    "        else:\n",
    "            fasta_kappa[0] = 'A'\n",
    "    if df.loc[seq_name,'last'] == df.loc[seq_name,'N_FL']:\n",
    "        r.loc['Z'] = r.loc[fasta[-1]]\n",
    "        r.loc['Z','q'] = r.loc[fasta[-1],'q'] - 1.\n",
    "        fasta[-1] = 'Z'\n",
    "        if r.loc['Z','q'] < 0:\n",
    "            fasta_kappa[-1] = 'D'\n",
    "        else:\n",
    "            fasta_kappa[-1] = 'A'\n",
    "            \n",
    "    # calculate properties that depend on charges    \n",
    "    pairs = np.array(list(itertools.combinations(fasta,2)))\n",
    "    # calculate charge products\n",
    "    qq = r.q.loc[pairs[:,0]].values*r.q.loc[pairs[:,1]].values\n",
    "    # calculate SCD\n",
    "    df.loc[seq_name,'scd'] = np.sum(qq*np.sqrt(ij_dist))/N\n",
    "    SeqOb = SequenceParameters(''.join(fasta_kappa))\n",
    "    kappa = SeqOb.get_kappa()\n",
    "    df.loc[seq_name,'kappa'] = 0 if kappa==-1 else kappa\n",
    "    df.loc[seq_name,'fcr'] = r.q.loc[list(fasta)].abs().mean()\n",
    "    df.loc[seq_name,'ncpr'] = r.q.loc[list(fasta)].mean()"
   ]
  },
  {
   "cell_type": "code",
   "execution_count": 3,
   "id": "6bacc0e1",
   "metadata": {},
   "outputs": [],
   "source": [
    "# conformational properties from MD simulations\n",
    "df_idrome = pd.read_csv('md_simulations/data/conf_prop.csv',index_col=0)\n",
    "df_idrome.nu = df_idrome.nu.apply(lambda x: round(x,3))\n",
    "\n",
    "# aa-specific properties\n",
    "r = pd.read_csv('md_simulations/data/residues.csv').set_index('one',drop=False)\n",
    "\n",
    "# sequences\n",
    "sequences = pd.read_csv('md_simulations/data/idr_all.csv.gz',header=0,sep=';')\n",
    "sequences.sort_values('uniprot',inplace=True)\n",
    "sequences['seq_name'] = sequences.uniprot+'_'+sequences['first'].apply(lambda x : \n",
    "                '{:g}'.format(x))+'_'+sequences['last'].apply(lambda x : '{:g}'.format(x))\n",
    "sequences.set_index('seq_name',inplace=True)\n",
    "df_idrome['UniProt_ID'] = sequences.uniprot\n",
    "df_idrome['fasta'] = sequences.seq\n",
    "df_idrome['first'] = sequences['first']\n",
    "df_idrome['last'] = sequences['last']\n",
    "df_idrome['N_FL'] = sequences.nres_unip # number of residues in full-length protein\n",
    "\n",
    "# gene and protein names from UniProt\n",
    "df_gene_protein_names = pd.read_csv('md_simulations/data/gene_protein_names.csv',index_col=0)\n",
    "df_idrome['protein_name'] = df_gene_protein_names.loc[df_idrome.UniProt_ID].proteinName.values\n",
    "df_idrome['gene_name'] = df_gene_protein_names.loc[df_idrome.UniProt_ID].geneName.values"
   ]
  },
  {
   "cell_type": "code",
   "execution_count": null,
   "id": "af862fed",
   "metadata": {},
   "outputs": [],
   "source": [
    "for i,seq_name in enumerate(df_idrome.index):\n",
    "    calc_seq_prop(seq_name,df_idrome,r)\n",
    "    print(i,end='-')"
   ]
  },
  {
   "cell_type": "code",
   "execution_count": 17,
   "id": "3801d29e",
   "metadata": {},
   "outputs": [],
   "source": [
    "df_idrome['N_term'] = df_idrome['first'].apply(lambda x: True if x == 1 else False)\n",
    "df_idrome['C_term'] = df_idrome['last'] == df_idrome['N_FL']"
   ]
  },
  {
   "cell_type": "code",
   "execution_count": 25,
   "id": "7365cbf6",
   "metadata": {},
   "outputs": [],
   "source": [
    "df_idrome = df_idrome.rename({'Rg':'Rg/nm','ete':'Ree/nm','rh':'Rh/nm'},axis=1)"
   ]
  },
  {
   "cell_type": "code",
   "execution_count": null,
   "id": "1aaad27d",
   "metadata": {},
   "outputs": [],
   "source": [
    "cols = ['UniProt_ID', 'N', 'nu', 'nu_svr', 'ete2_Rg2', 'S', 'Delta', 'Rg/nm', 'Ree/nm', 'Rh/nm',\n",
    "       'fK', 'fR', 'fE', 'fD', 'faro', 'mean_lambda', 'shd',\n",
    "       'scd', 'kappa', 'fcr', 'ncpr', 'fasta', 'N_term',\n",
    "       'C_term', 'first', 'last', 'N_FL', 'protein_name', 'gene_name',\n",
    "        'fdomain']"
   ]
  },
  {
   "cell_type": "code",
   "execution_count": 13,
   "id": "87f511b7",
   "metadata": {},
   "outputs": [],
   "source": [
    "df_idrome[cols].to_csv('IDRome_DB.csv')"
   ]
  },
  {
   "cell_type": "code",
   "execution_count": 14,
   "id": "83da2732",
   "metadata": {},
   "outputs": [],
   "source": [
    "df_idrome[cols].to_excel('IDRome_DB.xlsx')"
   ]
  },
  {
   "cell_type": "code",
   "execution_count": null,
   "id": "24b254b7",
   "metadata": {},
   "outputs": [],
   "source": []
  }
 ],
 "metadata": {
  "kernelspec": {
   "display_name": "Python 3 (ipykernel)",
   "language": "python",
   "name": "python3"
  },
  "language_info": {
   "codemirror_mode": {
    "name": "ipython",
    "version": 3
   },
   "file_extension": ".py",
   "mimetype": "text/x-python",
   "name": "python",
   "nbconvert_exporter": "python",
   "pygments_lexer": "ipython3",
   "version": "3.8.13"
  }
 },
 "nbformat": 4,
 "nbformat_minor": 5
}
