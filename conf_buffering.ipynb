{
 "cells": [
  {
   "cell_type": "markdown",
   "metadata": {},
   "source": [
    "## Conformational buffering\n",
    "\n",
    "This notebook generates data for Fig. 5a–d\n",
    "\n",
    "Authors: Frederik E. Knudsen and Giulio Tesei\n",
    "\n",
    "Contact: giulio.tesei@bio.ku.dk"
   ]
  },
  {
   "cell_type": "code",
   "execution_count": 1,
   "metadata": {},
   "outputs": [],
   "source": [
    "import pandas as pd\n",
    "import matplotlib.pyplot as plt\n",
    "import numpy as np\n",
    "from ast import literal_eval\n",
    "from scipy.stats import pearsonr, spearmanr\n",
    "from mpl_toolkits.axes_grid1 import make_axes_locatable\n",
    "import itertools"
   ]
  },
  {
   "cell_type": "markdown",
   "metadata": {},
   "source": [
    "# Analysis\n",
    "***"
   ]
  },
  {
   "cell_type": "code",
   "execution_count": 2,
   "metadata": {},
   "outputs": [],
   "source": [
    "# load IDRome database\n",
    "df_idrome = pd.read_csv('IDRome_DB.csv',index_col=0)"
   ]
  },
  {
   "cell_type": "code",
   "execution_count": 3,
   "metadata": {},
   "outputs": [],
   "source": [
    "# load data for the orthologs\n",
    "dfs = []\n",
    "for i in range(4):  \n",
    "    dfs.append(pd.read_csv(f'idr_orthologs/data/idr_orthologs_and_human_{i:d}.csv.gz',index_col=0))    \n",
    "data = pd.concat(dfs)\n",
    "data['N'] = data.fasta.apply(len)\n",
    "data['OMA_ID'] = data.index"
   ]
  },
  {
   "cell_type": "markdown",
   "metadata": {},
   "source": [
    "#### Group by ortholog families"
   ]
  },
  {
   "cell_type": "code",
   "execution_count": 4,
   "metadata": {},
   "outputs": [],
   "source": [
    "families = pd.DataFrame(index=data.human.unique())\n",
    "families['nu'] = data.groupby('human').nu_svr.apply(np.array)\n",
    "families['SPR'] = data.groupby('human').SPR_svr.apply(np.array)\n",
    "families['N'] = data.groupby('human').N.apply(np.array)\n",
    "families['OMA_ID'] = data.groupby('human').OMA_ID.apply(np.array)"
   ]
  },
  {
   "cell_type": "markdown",
   "metadata": {},
   "source": [
    "#### Filter data"
   ]
  },
  {
   "cell_type": "code",
   "execution_count": 5,
   "metadata": {},
   "outputs": [
    {
     "name": "stdout",
     "output_type": "stream",
     "text": [
      "(26839, 4)\n",
      "(21336, 4)\n"
     ]
    }
   ],
   "source": [
    "# Filtering family by number of unique linker lengths\n",
    "unique_entry_cutoff = 10\n",
    "print(families.shape)\n",
    "families = families[families.N.apply(lambda N: len(np.unique(N))) > unique_entry_cutoff]\n",
    "print(families.shape)"
   ]
  },
  {
   "cell_type": "code",
   "execution_count": 6,
   "metadata": {},
   "outputs": [
    {
     "name": "stdout",
     "output_type": "stream",
     "text": [
      "(21336, 4)\n",
      "(21335, 4)\n"
     ]
    }
   ],
   "source": [
    "# Filtering families in N range with more than 10 IDRs in IDRome\n",
    "unique_entry_cutoff = 10\n",
    "print(families.shape)\n",
    "families = families[families.N.apply(lambda N: df_idrome.query(\n",
    "    f'N >= {N.min():d} and N <= {N.max():d}').N.unique().size > unique_entry_cutoff)]\n",
    "print(families.shape)"
   ]
  },
  {
   "cell_type": "code",
   "execution_count": 7,
   "metadata": {},
   "outputs": [
    {
     "name": "stdout",
     "output_type": "stream",
     "text": [
      "(21335, 4)\n",
      "(15235, 4)\n"
     ]
    }
   ],
   "source": [
    "# Filtering families by length range\n",
    "range_cutoff = 50\n",
    "print(families.shape)\n",
    "families = families[families.N.apply(lambda N: N.max() - N.min()) > range_cutoff]\n",
    "print(families.shape)"
   ]
  },
  {
   "cell_type": "code",
   "execution_count": 8,
   "metadata": {},
   "outputs": [],
   "source": [
    "def calc_corr_params(row,df_idrome):\n",
    "    # Reference values from IDRome\n",
    "    df_range = df_idrome.query(f'N >= {row.N.min():d} and N <= {row.N.max():d}')[['N','nu_svr','SPR_svr']]\n",
    "    N = df_range.N.values\n",
    "    N_lognormalised = np.log(N/N.mean())\n",
    "    nu = df_range.nu_svr\n",
    "    SPR = df_range.SPR_svr\n",
    "    #######\n",
    "    corr, p = pearsonr(row.N, row.nu)\n",
    "    row['nu_pcorr'] = corr\n",
    "    row['nu_pcorr_p'] = p\n",
    "    corr, p = pearsonr(row.N, row.SPR)\n",
    "    row['SPR_pcorr'] = corr\n",
    "    row['SPR_pcorr_p'] = p\n",
    "    corr, p = pearsonr(N, nu)\n",
    "    row['nu_pcorr_ref'] = corr\n",
    "    row['nu_pcorr_p_ref'] = p\n",
    "    corr, p = pearsonr(N, SPR)\n",
    "    row['SPR_pcorr_ref'] = corr\n",
    "    row['SPR_pcorr_p_ref'] = p\n",
    "    #######\n",
    "    alpha, _ = np.polyfit(row.N, row.nu, 1)\n",
    "    row['nu_alpha'] = alpha\n",
    "    alpha, _ = np.polyfit(row.N, row.SPR, 1)\n",
    "    row['SPR_alpha'] = alpha\n",
    "    alpha, _ = np.polyfit(N, nu, 1)\n",
    "    row['nu_alpha_ref'] = alpha\n",
    "    alpha, _ = np.polyfit(N, SPR, 1)\n",
    "    row['SPR_alpha_ref'] = alpha\n",
    "    return row"
   ]
  },
  {
   "cell_type": "code",
   "execution_count": 9,
   "metadata": {},
   "outputs": [],
   "source": [
    "families = families.apply(lambda x : calc_corr_params(x,df_idrome), axis=1)"
   ]
  },
  {
   "cell_type": "code",
   "execution_count": 10,
   "metadata": {},
   "outputs": [],
   "source": [
    "families['nu_alpha_ratio'] = families.nu_alpha/families.nu_alpha_ref\n",
    "families['SPR_alpha_ratio'] = families.SPR_alpha/families.SPR_alpha_ref"
   ]
  },
  {
   "cell_type": "code",
   "execution_count": 11,
   "metadata": {},
   "outputs": [],
   "source": [
    "families.to_pickle('idr_orthologs/data/conf_buffering_families.pkl')"
   ]
  },
  {
   "cell_type": "code",
   "execution_count": 12,
   "metadata": {},
   "outputs": [],
   "source": [
    "data[data.human.isin(['O75037_811_918','P56470_152_183',\n",
    "                      'P53667_251_339','P98077_303_484'])][['human','N',\n",
    "                        'fasta', 'first', 'last','N_FL']].to_csv(\n",
    "    'md_simulations/data/conf_buffering/conf_buffering_seq.csv')"
   ]
  },
  {
   "cell_type": "markdown",
   "metadata": {},
   "source": [
    "Table containing sequences for human IDRs belonging to protein families displaying conformational buffering"
   ]
  },
  {
   "cell_type": "code",
   "execution_count": 13,
   "metadata": {},
   "outputs": [],
   "source": [
    "sel_families = families.query(f'nu_pcorr_p<3.282e-6 and nu_alpha_ratio>1.5').index"
   ]
  },
  {
   "cell_type": "code",
   "execution_count": 14,
   "metadata": {},
   "outputs": [],
   "source": [
    "conf_buf = df_idrome.loc[sel_families,['N', 'nu', 'SPR', 'Rg/nm',\n",
    "       'Ree/nm', 'fasta', 'is_btw_folded', 'is_nterm',\n",
    "       'is_cterm', 'is_idp', 'first', 'last', 'N_FL', 'UniProt_ID']]"
   ]
  },
  {
   "cell_type": "code",
   "execution_count": 18,
   "metadata": {},
   "outputs": [],
   "source": [
    "for name in conf_buf.index:\n",
    "    conf_buf['fasta_ortho'] = \"['\"+\"', '\".join(data.query(f'human == \"{name:s}\"').fasta.values)+\"']\"\n",
    "    conf_buf['N_ortho'] = '['+', '.join([str(i) for i in families.loc[name].N])+']'\n",
    "    conf_buf['nu_ortho'] = '['+', '.join([f'{i:.4f}' for i in families.loc[name].nu])+']'\n",
    "    conf_buf['SPR_ortho'] = '['+', '.join([f'{i:.4f}' for i in families.loc[name].SPR])+']'\n",
    "    conf_buf['OMA_IDs'] = \"['\"+\"', '\".join(families.loc[name].OMA_ID)+\"']\""
   ]
  },
  {
   "cell_type": "code",
   "execution_count": 19,
   "metadata": {},
   "outputs": [],
   "source": [
    "conf_buf.to_csv('idr_orthologs/data/conf_buffering_all.csv')"
   ]
  },
  {
   "cell_type": "code",
   "execution_count": 20,
   "metadata": {},
   "outputs": [],
   "source": [
    "conf_buf.query('not is_nterm and not is_cterm').to_csv('idr_orthologs/data/conf_buffering_non_term.csv')"
   ]
  },
  {
   "cell_type": "code",
   "execution_count": 21,
   "metadata": {},
   "outputs": [
    {
     "data": {
      "text/plain": [
       "((1137, 19), (398, 19))"
      ]
     },
     "execution_count": 21,
     "metadata": {},
     "output_type": "execute_result"
    }
   ],
   "source": [
    "conf_buf.shape,conf_buf.query('not is_nterm and not is_cterm').shape"
   ]
  },
  {
   "cell_type": "markdown",
   "metadata": {},
   "source": [
    "Load CSV file"
   ]
  },
  {
   "cell_type": "code",
   "execution_count": 22,
   "metadata": {},
   "outputs": [],
   "source": [
    "conf_buf = pd.read_csv('idr_orthologs/data/conf_buffering_all.csv',index_col=0)"
   ]
  },
  {
   "cell_type": "code",
   "execution_count": 23,
   "metadata": {},
   "outputs": [],
   "source": [
    "conf_buf['fasta_ortho'] = conf_buf.fasta_ortho.apply(lambda x : literal_eval(x))\n",
    "conf_buf['N_ortho'] = conf_buf.N_ortho.apply(lambda x : literal_eval(x))\n",
    "conf_buf['nu_ortho'] = conf_buf.nu_ortho.apply(lambda x : literal_eval(x))\n",
    "conf_buf['SPR_ortho'] = conf_buf.SPR_ortho.apply(lambda x : literal_eval(x))\n",
    "conf_buf['OMA_IDs'] = conf_buf.OMA_IDs.apply(lambda x : literal_eval(x))"
   ]
  },
  {
   "cell_type": "code",
   "execution_count": 24,
   "metadata": {},
   "outputs": [
    {
     "data": {
      "text/html": [
       "<div>\n",
       "<style scoped>\n",
       "    .dataframe tbody tr th:only-of-type {\n",
       "        vertical-align: middle;\n",
       "    }\n",
       "\n",
       "    .dataframe tbody tr th {\n",
       "        vertical-align: top;\n",
       "    }\n",
       "\n",
       "    .dataframe thead th {\n",
       "        text-align: right;\n",
       "    }\n",
       "</style>\n",
       "<table border=\"1\" class=\"dataframe\">\n",
       "  <thead>\n",
       "    <tr style=\"text-align: right;\">\n",
       "      <th></th>\n",
       "      <th>N</th>\n",
       "      <th>nu</th>\n",
       "      <th>SPR</th>\n",
       "      <th>Rg/nm</th>\n",
       "      <th>Ree/nm</th>\n",
       "      <th>fasta</th>\n",
       "      <th>is_btw_folded</th>\n",
       "      <th>is_nterm</th>\n",
       "      <th>is_cterm</th>\n",
       "      <th>is_idp</th>\n",
       "      <th>first</th>\n",
       "      <th>last</th>\n",
       "      <th>N_FL</th>\n",
       "      <th>UniProt_ID</th>\n",
       "      <th>fasta_ortho</th>\n",
       "      <th>N_ortho</th>\n",
       "      <th>nu_ortho</th>\n",
       "      <th>SPR_ortho</th>\n",
       "      <th>OMA_IDs</th>\n",
       "    </tr>\n",
       "  </thead>\n",
       "  <tbody>\n",
       "    <tr>\n",
       "      <th>P19622_1_241</th>\n",
       "      <td>241</td>\n",
       "      <td>0.513</td>\n",
       "      <td>9.856015</td>\n",
       "      <td>4.289309</td>\n",
       "      <td>9.908980</td>\n",
       "      <td>MEENDPKPGEAAAAVEGQRQPESSPGGGSGGGGGSSPGEADTGRRR...</td>\n",
       "      <td>False</td>\n",
       "      <td>True</td>\n",
       "      <td>False</td>\n",
       "      <td>False</td>\n",
       "      <td>1</td>\n",
       "      <td>241</td>\n",
       "      <td>333</td>\n",
       "      <td>P19622</td>\n",
       "      <td>[EDEDEDHRPDDYDEEDEDEVEEEETNRLSG, MKVLRALLLALLL...</td>\n",
       "      <td>[30, 56, 55, 52, 74, 48, 47, 54, 43, 46, 52, 5...</td>\n",
       "      <td>[0.602, 0.535, 0.51, 0.536, 0.524, 0.552, 0.54...</td>\n",
       "      <td>[10.859, 10.413, 10.291, 10.329, 10.313, 10.38...</td>\n",
       "      <td>[RHIBE43560_1_30, MANLE24486_1_56, CEBIM25705_...</td>\n",
       "    </tr>\n",
       "    <tr>\n",
       "      <th>P26599_1_63</th>\n",
       "      <td>63</td>\n",
       "      <td>0.542</td>\n",
       "      <td>10.212306</td>\n",
       "      <td>2.201224</td>\n",
       "      <td>5.206513</td>\n",
       "      <td>MDGIVPDIAVGTKRGSDELFSTCVTNGPFIMSSNSASAANGNDSKK...</td>\n",
       "      <td>False</td>\n",
       "      <td>True</td>\n",
       "      <td>False</td>\n",
       "      <td>False</td>\n",
       "      <td>1</td>\n",
       "      <td>63</td>\n",
       "      <td>531</td>\n",
       "      <td>P26599</td>\n",
       "      <td>[EDEDEDHRPDDYDEEDEDEVEEEETNRLSG, MKVLRALLLALLL...</td>\n",
       "      <td>[30, 56, 55, 52, 74, 48, 47, 54, 43, 46, 52, 5...</td>\n",
       "      <td>[0.602, 0.535, 0.51, 0.536, 0.524, 0.552, 0.54...</td>\n",
       "      <td>[10.859, 10.413, 10.291, 10.329, 10.313, 10.38...</td>\n",
       "      <td>[RHIBE43560_1_30, MANLE24486_1_56, CEBIM25705_...</td>\n",
       "    </tr>\n",
       "    <tr>\n",
       "      <th>Q96JA4_1_455</th>\n",
       "      <td>455</td>\n",
       "      <td>0.506</td>\n",
       "      <td>10.022119</td>\n",
       "      <td>6.329568</td>\n",
       "      <td>14.609507</td>\n",
       "      <td>MESTSQDRRATHVITIKPNETVLTAFPYRPHSSLLDFLKGEPRVLG...</td>\n",
       "      <td>False</td>\n",
       "      <td>True</td>\n",
       "      <td>False</td>\n",
       "      <td>False</td>\n",
       "      <td>1</td>\n",
       "      <td>455</td>\n",
       "      <td>679</td>\n",
       "      <td>Q96JA4</td>\n",
       "      <td>[EDEDEDHRPDDYDEEDEDEVEEEETNRLSG, MKVLRALLLALLL...</td>\n",
       "      <td>[30, 56, 55, 52, 74, 48, 47, 54, 43, 46, 52, 5...</td>\n",
       "      <td>[0.602, 0.535, 0.51, 0.536, 0.524, 0.552, 0.54...</td>\n",
       "      <td>[10.859, 10.413, 10.291, 10.329, 10.313, 10.38...</td>\n",
       "      <td>[RHIBE43560_1_30, MANLE24486_1_56, CEBIM25705_...</td>\n",
       "    </tr>\n",
       "    <tr>\n",
       "      <th>Q96L91_2469_3159</th>\n",
       "      <td>691</td>\n",
       "      <td>0.535</td>\n",
       "      <td>9.984543</td>\n",
       "      <td>8.862114</td>\n",
       "      <td>20.946098</td>\n",
       "      <td>KMTAGKRSPPIKPLLGMNPFQKNPKHASVLAESGINYDKPLPPIQV...</td>\n",
       "      <td>False</td>\n",
       "      <td>False</td>\n",
       "      <td>True</td>\n",
       "      <td>False</td>\n",
       "      <td>2469</td>\n",
       "      <td>3159</td>\n",
       "      <td>3159</td>\n",
       "      <td>Q96L91</td>\n",
       "      <td>[EDEDEDHRPDDYDEEDEDEVEEEETNRLSG, MKVLRALLLALLL...</td>\n",
       "      <td>[30, 56, 55, 52, 74, 48, 47, 54, 43, 46, 52, 5...</td>\n",
       "      <td>[0.602, 0.535, 0.51, 0.536, 0.524, 0.552, 0.54...</td>\n",
       "      <td>[10.859, 10.413, 10.291, 10.329, 10.313, 10.38...</td>\n",
       "      <td>[RHIBE43560_1_30, MANLE24486_1_56, CEBIM25705_...</td>\n",
       "    </tr>\n",
       "    <tr>\n",
       "      <th>Q9UHB6_1_381</th>\n",
       "      <td>381</td>\n",
       "      <td>0.530</td>\n",
       "      <td>10.011638</td>\n",
       "      <td>6.018598</td>\n",
       "      <td>14.272049</td>\n",
       "      <td>MESSPFNRRQWTSLSLRVTAKELSLVNKNKSSAIVEIFSKYQKAAE...</td>\n",
       "      <td>False</td>\n",
       "      <td>True</td>\n",
       "      <td>False</td>\n",
       "      <td>False</td>\n",
       "      <td>1</td>\n",
       "      <td>381</td>\n",
       "      <td>759</td>\n",
       "      <td>Q9UHB6</td>\n",
       "      <td>[EDEDEDHRPDDYDEEDEDEVEEEETNRLSG, MKVLRALLLALLL...</td>\n",
       "      <td>[30, 56, 55, 52, 74, 48, 47, 54, 43, 46, 52, 5...</td>\n",
       "      <td>[0.602, 0.535, 0.51, 0.536, 0.524, 0.552, 0.54...</td>\n",
       "      <td>[10.859, 10.413, 10.291, 10.329, 10.313, 10.38...</td>\n",
       "      <td>[RHIBE43560_1_30, MANLE24486_1_56, CEBIM25705_...</td>\n",
       "    </tr>\n",
       "    <tr>\n",
       "      <th>...</th>\n",
       "      <td>...</td>\n",
       "      <td>...</td>\n",
       "      <td>...</td>\n",
       "      <td>...</td>\n",
       "      <td>...</td>\n",
       "      <td>...</td>\n",
       "      <td>...</td>\n",
       "      <td>...</td>\n",
       "      <td>...</td>\n",
       "      <td>...</td>\n",
       "      <td>...</td>\n",
       "      <td>...</td>\n",
       "      <td>...</td>\n",
       "      <td>...</td>\n",
       "      <td>...</td>\n",
       "      <td>...</td>\n",
       "      <td>...</td>\n",
       "      <td>...</td>\n",
       "      <td>...</td>\n",
       "    </tr>\n",
       "    <tr>\n",
       "      <th>Q92563_1_141</th>\n",
       "      <td>141</td>\n",
       "      <td>0.490</td>\n",
       "      <td>10.061512</td>\n",
       "      <td>3.154634</td>\n",
       "      <td>7.453064</td>\n",
       "      <td>MRAPGCGRLVLPLLLLAAAALAEGDAKGLKEGETPGNFMEDEQWLS...</td>\n",
       "      <td>False</td>\n",
       "      <td>True</td>\n",
       "      <td>False</td>\n",
       "      <td>False</td>\n",
       "      <td>1</td>\n",
       "      <td>141</td>\n",
       "      <td>424</td>\n",
       "      <td>Q92563</td>\n",
       "      <td>[EDEDEDHRPDDYDEEDEDEVEEEETNRLSG, MKVLRALLLALLL...</td>\n",
       "      <td>[30, 56, 55, 52, 74, 48, 47, 54, 43, 46, 52, 5...</td>\n",
       "      <td>[0.602, 0.535, 0.51, 0.536, 0.524, 0.552, 0.54...</td>\n",
       "      <td>[10.859, 10.413, 10.291, 10.329, 10.313, 10.38...</td>\n",
       "      <td>[RHIBE43560_1_30, MANLE24486_1_56, CEBIM25705_...</td>\n",
       "    </tr>\n",
       "    <tr>\n",
       "      <th>P35659_184_319</th>\n",
       "      <td>136</td>\n",
       "      <td>0.506</td>\n",
       "      <td>10.216948</td>\n",
       "      <td>3.195932</td>\n",
       "      <td>7.617078</td>\n",
       "      <td>MHPKPSGKPLPKSKKTCSKGSKKERNSSGMARKAKRTKCPEILSDE...</td>\n",
       "      <td>False</td>\n",
       "      <td>False</td>\n",
       "      <td>False</td>\n",
       "      <td>False</td>\n",
       "      <td>184</td>\n",
       "      <td>319</td>\n",
       "      <td>375</td>\n",
       "      <td>P35659</td>\n",
       "      <td>[EDEDEDHRPDDYDEEDEDEVEEEETNRLSG, MKVLRALLLALLL...</td>\n",
       "      <td>[30, 56, 55, 52, 74, 48, 47, 54, 43, 46, 52, 5...</td>\n",
       "      <td>[0.602, 0.535, 0.51, 0.536, 0.524, 0.552, 0.54...</td>\n",
       "      <td>[10.859, 10.413, 10.291, 10.329, 10.313, 10.38...</td>\n",
       "      <td>[RHIBE43560_1_30, MANLE24486_1_56, CEBIM25705_...</td>\n",
       "    </tr>\n",
       "    <tr>\n",
       "      <th>Q13017_1451_1502</th>\n",
       "      <td>52</td>\n",
       "      <td>0.557</td>\n",
       "      <td>10.279700</td>\n",
       "      <td>2.037794</td>\n",
       "      <td>4.883550</td>\n",
       "      <td>NGEIVETTNIVAPPPPSNPGQLVEPMVPLQLPPPLQPQLIQPQLQT...</td>\n",
       "      <td>False</td>\n",
       "      <td>False</td>\n",
       "      <td>True</td>\n",
       "      <td>False</td>\n",
       "      <td>1451</td>\n",
       "      <td>1502</td>\n",
       "      <td>1502</td>\n",
       "      <td>Q13017</td>\n",
       "      <td>[EDEDEDHRPDDYDEEDEDEVEEEETNRLSG, MKVLRALLLALLL...</td>\n",
       "      <td>[30, 56, 55, 52, 74, 48, 47, 54, 43, 46, 52, 5...</td>\n",
       "      <td>[0.602, 0.535, 0.51, 0.536, 0.524, 0.552, 0.54...</td>\n",
       "      <td>[10.859, 10.413, 10.291, 10.329, 10.313, 10.38...</td>\n",
       "      <td>[RHIBE43560_1_30, MANLE24486_1_56, CEBIM25705_...</td>\n",
       "    </tr>\n",
       "    <tr>\n",
       "      <th>Q6IQ49_176_390</th>\n",
       "      <td>215</td>\n",
       "      <td>0.534</td>\n",
       "      <td>10.095657</td>\n",
       "      <td>4.599826</td>\n",
       "      <td>10.838666</td>\n",
       "      <td>QAASSKMVSAEISENRKRQWPTKSQTDRGASAGKRRCFWLGMEGLE...</td>\n",
       "      <td>False</td>\n",
       "      <td>False</td>\n",
       "      <td>False</td>\n",
       "      <td>False</td>\n",
       "      <td>176</td>\n",
       "      <td>390</td>\n",
       "      <td>451</td>\n",
       "      <td>Q6IQ49</td>\n",
       "      <td>[EDEDEDHRPDDYDEEDEDEVEEEETNRLSG, MKVLRALLLALLL...</td>\n",
       "      <td>[30, 56, 55, 52, 74, 48, 47, 54, 43, 46, 52, 5...</td>\n",
       "      <td>[0.602, 0.535, 0.51, 0.536, 0.524, 0.552, 0.54...</td>\n",
       "      <td>[10.859, 10.413, 10.291, 10.329, 10.313, 10.38...</td>\n",
       "      <td>[RHIBE43560_1_30, MANLE24486_1_56, CEBIM25705_...</td>\n",
       "    </tr>\n",
       "    <tr>\n",
       "      <th>Q8IV16_1_56</th>\n",
       "      <td>56</td>\n",
       "      <td>0.425</td>\n",
       "      <td>10.414138</td>\n",
       "      <td>2.031668</td>\n",
       "      <td>4.243380</td>\n",
       "      <td>MKALGAVLLALLLCGRPGRGQTQQEEEEEDEDHGPDDYDEEDEDEV...</td>\n",
       "      <td>False</td>\n",
       "      <td>True</td>\n",
       "      <td>False</td>\n",
       "      <td>False</td>\n",
       "      <td>1</td>\n",
       "      <td>56</td>\n",
       "      <td>184</td>\n",
       "      <td>Q8IV16</td>\n",
       "      <td>[EDEDEDHRPDDYDEEDEDEVEEEETNRLSG, MKVLRALLLALLL...</td>\n",
       "      <td>[30, 56, 55, 52, 74, 48, 47, 54, 43, 46, 52, 5...</td>\n",
       "      <td>[0.602, 0.535, 0.51, 0.536, 0.524, 0.552, 0.54...</td>\n",
       "      <td>[10.859, 10.413, 10.291, 10.329, 10.313, 10.38...</td>\n",
       "      <td>[RHIBE43560_1_30, MANLE24486_1_56, CEBIM25705_...</td>\n",
       "    </tr>\n",
       "  </tbody>\n",
       "</table>\n",
       "<p>1137 rows × 19 columns</p>\n",
       "</div>"
      ],
      "text/plain": [
       "                    N     nu        SPR     Rg/nm     Ree/nm  \\\n",
       "P19622_1_241      241  0.513   9.856015  4.289309   9.908980   \n",
       "P26599_1_63        63  0.542  10.212306  2.201224   5.206513   \n",
       "Q96JA4_1_455      455  0.506  10.022119  6.329568  14.609507   \n",
       "Q96L91_2469_3159  691  0.535   9.984543  8.862114  20.946098   \n",
       "Q9UHB6_1_381      381  0.530  10.011638  6.018598  14.272049   \n",
       "...               ...    ...        ...       ...        ...   \n",
       "Q92563_1_141      141  0.490  10.061512  3.154634   7.453064   \n",
       "P35659_184_319    136  0.506  10.216948  3.195932   7.617078   \n",
       "Q13017_1451_1502   52  0.557  10.279700  2.037794   4.883550   \n",
       "Q6IQ49_176_390    215  0.534  10.095657  4.599826  10.838666   \n",
       "Q8IV16_1_56        56  0.425  10.414138  2.031668   4.243380   \n",
       "\n",
       "                                                              fasta  \\\n",
       "P19622_1_241      MEENDPKPGEAAAAVEGQRQPESSPGGGSGGGGGSSPGEADTGRRR...   \n",
       "P26599_1_63       MDGIVPDIAVGTKRGSDELFSTCVTNGPFIMSSNSASAANGNDSKK...   \n",
       "Q96JA4_1_455      MESTSQDRRATHVITIKPNETVLTAFPYRPHSSLLDFLKGEPRVLG...   \n",
       "Q96L91_2469_3159  KMTAGKRSPPIKPLLGMNPFQKNPKHASVLAESGINYDKPLPPIQV...   \n",
       "Q9UHB6_1_381      MESSPFNRRQWTSLSLRVTAKELSLVNKNKSSAIVEIFSKYQKAAE...   \n",
       "...                                                             ...   \n",
       "Q92563_1_141      MRAPGCGRLVLPLLLLAAAALAEGDAKGLKEGETPGNFMEDEQWLS...   \n",
       "P35659_184_319    MHPKPSGKPLPKSKKTCSKGSKKERNSSGMARKAKRTKCPEILSDE...   \n",
       "Q13017_1451_1502  NGEIVETTNIVAPPPPSNPGQLVEPMVPLQLPPPLQPQLIQPQLQT...   \n",
       "Q6IQ49_176_390    QAASSKMVSAEISENRKRQWPTKSQTDRGASAGKRRCFWLGMEGLE...   \n",
       "Q8IV16_1_56       MKALGAVLLALLLCGRPGRGQTQQEEEEEDEDHGPDDYDEEDEDEV...   \n",
       "\n",
       "                  is_btw_folded  is_nterm  is_cterm  is_idp  first  last  \\\n",
       "P19622_1_241              False      True     False   False      1   241   \n",
       "P26599_1_63               False      True     False   False      1    63   \n",
       "Q96JA4_1_455              False      True     False   False      1   455   \n",
       "Q96L91_2469_3159          False     False      True   False   2469  3159   \n",
       "Q9UHB6_1_381              False      True     False   False      1   381   \n",
       "...                         ...       ...       ...     ...    ...   ...   \n",
       "Q92563_1_141              False      True     False   False      1   141   \n",
       "P35659_184_319            False     False     False   False    184   319   \n",
       "Q13017_1451_1502          False     False      True   False   1451  1502   \n",
       "Q6IQ49_176_390            False     False     False   False    176   390   \n",
       "Q8IV16_1_56               False      True     False   False      1    56   \n",
       "\n",
       "                  N_FL UniProt_ID  \\\n",
       "P19622_1_241       333     P19622   \n",
       "P26599_1_63        531     P26599   \n",
       "Q96JA4_1_455       679     Q96JA4   \n",
       "Q96L91_2469_3159  3159     Q96L91   \n",
       "Q9UHB6_1_381       759     Q9UHB6   \n",
       "...                ...        ...   \n",
       "Q92563_1_141       424     Q92563   \n",
       "P35659_184_319     375     P35659   \n",
       "Q13017_1451_1502  1502     Q13017   \n",
       "Q6IQ49_176_390     451     Q6IQ49   \n",
       "Q8IV16_1_56        184     Q8IV16   \n",
       "\n",
       "                                                        fasta_ortho  \\\n",
       "P19622_1_241      [EDEDEDHRPDDYDEEDEDEVEEEETNRLSG, MKVLRALLLALLL...   \n",
       "P26599_1_63       [EDEDEDHRPDDYDEEDEDEVEEEETNRLSG, MKVLRALLLALLL...   \n",
       "Q96JA4_1_455      [EDEDEDHRPDDYDEEDEDEVEEEETNRLSG, MKVLRALLLALLL...   \n",
       "Q96L91_2469_3159  [EDEDEDHRPDDYDEEDEDEVEEEETNRLSG, MKVLRALLLALLL...   \n",
       "Q9UHB6_1_381      [EDEDEDHRPDDYDEEDEDEVEEEETNRLSG, MKVLRALLLALLL...   \n",
       "...                                                             ...   \n",
       "Q92563_1_141      [EDEDEDHRPDDYDEEDEDEVEEEETNRLSG, MKVLRALLLALLL...   \n",
       "P35659_184_319    [EDEDEDHRPDDYDEEDEDEVEEEETNRLSG, MKVLRALLLALLL...   \n",
       "Q13017_1451_1502  [EDEDEDHRPDDYDEEDEDEVEEEETNRLSG, MKVLRALLLALLL...   \n",
       "Q6IQ49_176_390    [EDEDEDHRPDDYDEEDEDEVEEEETNRLSG, MKVLRALLLALLL...   \n",
       "Q8IV16_1_56       [EDEDEDHRPDDYDEEDEDEVEEEETNRLSG, MKVLRALLLALLL...   \n",
       "\n",
       "                                                            N_ortho  \\\n",
       "P19622_1_241      [30, 56, 55, 52, 74, 48, 47, 54, 43, 46, 52, 5...   \n",
       "P26599_1_63       [30, 56, 55, 52, 74, 48, 47, 54, 43, 46, 52, 5...   \n",
       "Q96JA4_1_455      [30, 56, 55, 52, 74, 48, 47, 54, 43, 46, 52, 5...   \n",
       "Q96L91_2469_3159  [30, 56, 55, 52, 74, 48, 47, 54, 43, 46, 52, 5...   \n",
       "Q9UHB6_1_381      [30, 56, 55, 52, 74, 48, 47, 54, 43, 46, 52, 5...   \n",
       "...                                                             ...   \n",
       "Q92563_1_141      [30, 56, 55, 52, 74, 48, 47, 54, 43, 46, 52, 5...   \n",
       "P35659_184_319    [30, 56, 55, 52, 74, 48, 47, 54, 43, 46, 52, 5...   \n",
       "Q13017_1451_1502  [30, 56, 55, 52, 74, 48, 47, 54, 43, 46, 52, 5...   \n",
       "Q6IQ49_176_390    [30, 56, 55, 52, 74, 48, 47, 54, 43, 46, 52, 5...   \n",
       "Q8IV16_1_56       [30, 56, 55, 52, 74, 48, 47, 54, 43, 46, 52, 5...   \n",
       "\n",
       "                                                           nu_ortho  \\\n",
       "P19622_1_241      [0.602, 0.535, 0.51, 0.536, 0.524, 0.552, 0.54...   \n",
       "P26599_1_63       [0.602, 0.535, 0.51, 0.536, 0.524, 0.552, 0.54...   \n",
       "Q96JA4_1_455      [0.602, 0.535, 0.51, 0.536, 0.524, 0.552, 0.54...   \n",
       "Q96L91_2469_3159  [0.602, 0.535, 0.51, 0.536, 0.524, 0.552, 0.54...   \n",
       "Q9UHB6_1_381      [0.602, 0.535, 0.51, 0.536, 0.524, 0.552, 0.54...   \n",
       "...                                                             ...   \n",
       "Q92563_1_141      [0.602, 0.535, 0.51, 0.536, 0.524, 0.552, 0.54...   \n",
       "P35659_184_319    [0.602, 0.535, 0.51, 0.536, 0.524, 0.552, 0.54...   \n",
       "Q13017_1451_1502  [0.602, 0.535, 0.51, 0.536, 0.524, 0.552, 0.54...   \n",
       "Q6IQ49_176_390    [0.602, 0.535, 0.51, 0.536, 0.524, 0.552, 0.54...   \n",
       "Q8IV16_1_56       [0.602, 0.535, 0.51, 0.536, 0.524, 0.552, 0.54...   \n",
       "\n",
       "                                                          SPR_ortho  \\\n",
       "P19622_1_241      [10.859, 10.413, 10.291, 10.329, 10.313, 10.38...   \n",
       "P26599_1_63       [10.859, 10.413, 10.291, 10.329, 10.313, 10.38...   \n",
       "Q96JA4_1_455      [10.859, 10.413, 10.291, 10.329, 10.313, 10.38...   \n",
       "Q96L91_2469_3159  [10.859, 10.413, 10.291, 10.329, 10.313, 10.38...   \n",
       "Q9UHB6_1_381      [10.859, 10.413, 10.291, 10.329, 10.313, 10.38...   \n",
       "...                                                             ...   \n",
       "Q92563_1_141      [10.859, 10.413, 10.291, 10.329, 10.313, 10.38...   \n",
       "P35659_184_319    [10.859, 10.413, 10.291, 10.329, 10.313, 10.38...   \n",
       "Q13017_1451_1502  [10.859, 10.413, 10.291, 10.329, 10.313, 10.38...   \n",
       "Q6IQ49_176_390    [10.859, 10.413, 10.291, 10.329, 10.313, 10.38...   \n",
       "Q8IV16_1_56       [10.859, 10.413, 10.291, 10.329, 10.313, 10.38...   \n",
       "\n",
       "                                                            OMA_IDs  \n",
       "P19622_1_241      [RHIBE43560_1_30, MANLE24486_1_56, CEBIM25705_...  \n",
       "P26599_1_63       [RHIBE43560_1_30, MANLE24486_1_56, CEBIM25705_...  \n",
       "Q96JA4_1_455      [RHIBE43560_1_30, MANLE24486_1_56, CEBIM25705_...  \n",
       "Q96L91_2469_3159  [RHIBE43560_1_30, MANLE24486_1_56, CEBIM25705_...  \n",
       "Q9UHB6_1_381      [RHIBE43560_1_30, MANLE24486_1_56, CEBIM25705_...  \n",
       "...                                                             ...  \n",
       "Q92563_1_141      [RHIBE43560_1_30, MANLE24486_1_56, CEBIM25705_...  \n",
       "P35659_184_319    [RHIBE43560_1_30, MANLE24486_1_56, CEBIM25705_...  \n",
       "Q13017_1451_1502  [RHIBE43560_1_30, MANLE24486_1_56, CEBIM25705_...  \n",
       "Q6IQ49_176_390    [RHIBE43560_1_30, MANLE24486_1_56, CEBIM25705_...  \n",
       "Q8IV16_1_56       [RHIBE43560_1_30, MANLE24486_1_56, CEBIM25705_...  \n",
       "\n",
       "[1137 rows x 19 columns]"
      ]
     },
     "execution_count": 24,
     "metadata": {},
     "output_type": "execute_result"
    }
   ],
   "source": [
    "conf_buf"
   ]
  },
  {
   "cell_type": "code",
   "execution_count": null,
   "metadata": {},
   "outputs": [],
   "source": []
  }
 ],
 "metadata": {
  "kernelspec": {
   "display_name": "Python 3 (ipykernel)",
   "language": "python",
   "name": "python3"
  },
  "language_info": {
   "codemirror_mode": {
    "name": "ipython",
    "version": 3
   },
   "file_extension": ".py",
   "mimetype": "text/x-python",
   "name": "python",
   "nbconvert_exporter": "python",
   "pygments_lexer": "ipython3",
   "version": "3.8.16"
  }
 },
 "nbformat": 4,
 "nbformat_minor": 2
}
