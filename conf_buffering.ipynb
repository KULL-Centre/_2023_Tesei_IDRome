{
 "cells": [
  {
   "cell_type": "markdown",
   "metadata": {},
   "source": [
    "## Conformational buffering\n",
    "\n",
    "This notebook generates data for Fig. 5a–d\n",
    "\n",
    "Authors: Frederik E. Knudsen and Giulio Tesei\n",
    "\n",
    "Contact: giulio.tesei@bio.ku.dk"
   ]
  },
  {
   "cell_type": "code",
   "execution_count": 3,
   "metadata": {},
   "outputs": [],
   "source": [
    "import pandas as pd\n",
    "import matplotlib.pyplot as plt\n",
    "import numpy as np\n",
    "from scipy.stats import pearsonr, spearmanr\n",
    "from mpl_toolkits.axes_grid1 import make_axes_locatable\n",
    "import itertools"
   ]
  },
  {
   "cell_type": "markdown",
   "metadata": {},
   "source": [
    "# Analysis\n",
    "***"
   ]
  },
  {
   "cell_type": "code",
   "execution_count": 4,
   "metadata": {},
   "outputs": [],
   "source": [
    "# load IDRome database\n",
    "df_idrome = pd.read_csv('IDRome_DB.csv',index_col=0)"
   ]
  },
  {
   "cell_type": "code",
   "execution_count": 5,
   "metadata": {},
   "outputs": [],
   "source": [
    "# load data for the orthologs\n",
    "dfs = []\n",
    "for i in range(4):  \n",
    "    dfs.append(pd.read_csv(f'idr_orthologs/data/idr_orthologs_and_human_{i:d}.csv.gz',index_col=0))    \n",
    "data = pd.concat(dfs)\n",
    "data['N'] = data.fasta.apply(len)"
   ]
  },
  {
   "cell_type": "markdown",
   "metadata": {},
   "source": [
    "#### Group by ortholog families"
   ]
  },
  {
   "cell_type": "code",
   "execution_count": 6,
   "metadata": {},
   "outputs": [],
   "source": [
    "families = pd.DataFrame(index=data.human.unique())\n",
    "families['nu'] = data.groupby('human').nu_svr.apply(np.array)\n",
    "families['SPR'] = data.groupby('human').SPR_svr.apply(np.array)\n",
    "families['N'] = data.groupby('human').N.apply(np.array)"
   ]
  },
  {
   "cell_type": "markdown",
   "metadata": {},
   "source": [
    "#### Filter data"
   ]
  },
  {
   "cell_type": "code",
   "execution_count": 7,
   "metadata": {},
   "outputs": [
    {
     "name": "stdout",
     "output_type": "stream",
     "text": [
      "(26839, 3)\n",
      "(21336, 3)\n"
     ]
    }
   ],
   "source": [
    "# Filtering family by number of unique linker lengths\n",
    "unique_entry_cutoff = 10\n",
    "print(families.shape)\n",
    "families = families[families.N.apply(lambda N: len(np.unique(N))) > unique_entry_cutoff]\n",
    "print(families.shape)"
   ]
  },
  {
   "cell_type": "code",
   "execution_count": 8,
   "metadata": {},
   "outputs": [
    {
     "name": "stdout",
     "output_type": "stream",
     "text": [
      "(21336, 3)\n",
      "(21335, 3)\n"
     ]
    }
   ],
   "source": [
    "# Filtering families in N range with more than 10 IDRs in IDRome\n",
    "unique_entry_cutoff = 10\n",
    "print(families.shape)\n",
    "families = families[families.N.apply(lambda N: df_idrome.query(\n",
    "    f'N >= {N.min():d} and N <= {N.max():d}').N.unique().size > unique_entry_cutoff)]\n",
    "print(families.shape)"
   ]
  },
  {
   "cell_type": "code",
   "execution_count": 9,
   "metadata": {},
   "outputs": [
    {
     "name": "stdout",
     "output_type": "stream",
     "text": [
      "(21335, 3)\n",
      "(15235, 3)\n"
     ]
    }
   ],
   "source": [
    "# Filtering families by length range\n",
    "range_cutoff = 50\n",
    "print(families.shape)\n",
    "families = families[families.N.apply(lambda N: N.max() - N.min()) > range_cutoff]\n",
    "print(families.shape)"
   ]
  },
  {
   "cell_type": "code",
   "execution_count": 10,
   "metadata": {},
   "outputs": [],
   "source": [
    "def calc_corr_params(row,df_idrome):\n",
    "    # Reference values from IDRome\n",
    "    df_range = df_idrome.query(f'N >= {row.N.min():d} and N <= {row.N.max():d}')[['N','nu_svr','SPR_svr']]\n",
    "    N = df_range.N.values\n",
    "    N_lognormalised = np.log(N/N.mean())\n",
    "    nu = df_range.nu_svr\n",
    "    SPR = df_range.SPR_svr\n",
    "    #######\n",
    "    corr, p = pearsonr(row.N, row.nu)\n",
    "    row['nu_pcorr'] = corr\n",
    "    row['nu_pcorr_p'] = p\n",
    "    corr, p = pearsonr(row.N, row.SPR)\n",
    "    row['SPR_pcorr'] = corr\n",
    "    row['SPR_pcorr_p'] = p\n",
    "    corr, p = pearsonr(N, nu)\n",
    "    row['nu_pcorr_ref'] = corr\n",
    "    row['nu_pcorr_p_ref'] = p\n",
    "    corr, p = pearsonr(N, SPR)\n",
    "    row['SPR_pcorr_ref'] = corr\n",
    "    row['SPR_pcorr_p_ref'] = p\n",
    "    #######\n",
    "    alpha, _ = np.polyfit(row.N, row.nu, 1)\n",
    "    row['nu_alpha'] = alpha\n",
    "    alpha, _ = np.polyfit(row.N, row.SPR, 1)\n",
    "    row['SPR_alpha'] = alpha\n",
    "    alpha, _ = np.polyfit(N, nu, 1)\n",
    "    row['nu_alpha_ref'] = alpha\n",
    "    alpha, _ = np.polyfit(N, SPR, 1)\n",
    "    row['SPR_alpha_ref'] = alpha\n",
    "    return row"
   ]
  },
  {
   "cell_type": "code",
   "execution_count": 11,
   "metadata": {},
   "outputs": [],
   "source": [
    "families = families.apply(lambda x : calc_corr_params(x,df_idrome), axis=1)"
   ]
  },
  {
   "cell_type": "code",
   "execution_count": 12,
   "metadata": {},
   "outputs": [],
   "source": [
    "families['nu_alpha_ratio'] = families.nu_alpha/families.nu_alpha_ref\n",
    "families['SPR_alpha_ratio'] = families.SPR_alpha/families.SPR_alpha_ref"
   ]
  },
  {
   "cell_type": "code",
   "execution_count": 13,
   "metadata": {},
   "outputs": [],
   "source": [
    "families.to_pickle('idr_orthologs/data/conf_buffering_families.pkl')"
   ]
  },
  {
   "cell_type": "code",
   "execution_count": 16,
   "metadata": {},
   "outputs": [],
   "source": [
    "data[data.human.isin(['O75037_811_918','P56470_152_183',\n",
    "                      'P53667_251_339','P98077_303_484'])][['human','N',\n",
    "                        'fasta', 'first', 'last','N_FL']].to_csv(\n",
    "    'md_simulations/data/conf_buffering/conf_buffering_seq.csv')"
   ]
  },
  {
   "cell_type": "code",
   "execution_count": null,
   "metadata": {},
   "outputs": [],
   "source": []
  }
 ],
 "metadata": {
  "kernelspec": {
   "display_name": "Python 3 (ipykernel)",
   "language": "python",
   "name": "python3"
  },
  "language_info": {
   "codemirror_mode": {
    "name": "ipython",
    "version": 3
   },
   "file_extension": ".py",
   "mimetype": "text/x-python",
   "name": "python",
   "nbconvert_exporter": "python",
   "pygments_lexer": "ipython3",
   "version": "3.8.16"
  }
 },
 "nbformat": 4,
 "nbformat_minor": 2
}
