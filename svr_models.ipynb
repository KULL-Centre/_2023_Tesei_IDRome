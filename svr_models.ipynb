{
 "cells": [
  {
   "cell_type": "markdown",
   "id": "512296f9",
   "metadata": {},
   "source": [
    "## Development of SVR Models\n",
    "\n",
    "This notebook reproduces Extended Data Fig. 8\n",
    "\n",
    "Authors: Johannes Betz and Giulio Tesei\n",
    "\n",
    "Contact: giulio.tesei@bio.ku.dk"
   ]
  },
  {
   "cell_type": "code",
   "execution_count": 1,
   "id": "a85b4dd1",
   "metadata": {},
   "outputs": [],
   "source": [
    "import numpy as np\n",
    "import pandas as pd\n",
    "import glob \n",
    "import difflib\n",
    "import time\n",
    "import random\n",
    "from mpl_toolkits.axes_grid1 import make_axes_locatable\n",
    "from matplotlib.colors import LogNorm\n",
    "from scipy.optimize import curve_fit\n",
    "from sklearn import svm \n",
    "from sklearn.inspection import permutation_importance\n",
    "import itertools\n",
    "import matplotlib as mpl\n",
    "import matplotlib.pyplot as plt\n",
    "from scipy.stats import pearsonr, spearmanr, gaussian_kde\n",
    "from scipy.stats import binned_statistic, binned_statistic_2d\n",
    "from joblib import dump, load\n",
    "# function to calculate standard error of the mean\n",
    "se = lambda x : np.std(x)/np.sqrt(x.size)\n",
    "se.__name__ = 'SE'"
   ]
  },
  {
   "cell_type": "code",
   "execution_count": 2,
   "id": "80ae84b7",
   "metadata": {},
   "outputs": [
    {
     "name": "stdout",
     "output_type": "stream",
     "text": [
      "0\n",
      "106\n",
      "333\n",
      "688\n"
     ]
    }
   ],
   "source": [
    "# load IDRome database\n",
    "df_idrome = pd.read_csv('IDRome_DB.csv',index_col=0)\n",
    "\n",
    "# randomly draw indices for 10%, 30%, and 60% of dataset\n",
    "all_indices = df_idrome[~df_idrome.fasta.duplicated()].sample(frac=1,axis='index',random_state=17).index\n",
    "inds10 = all_indices[:int(all_indices.size*.1)]\n",
    "inds30 = all_indices[int(all_indices.size*.1):int(all_indices.size*.4)]\n",
    "inds60 = all_indices[int(all_indices.size*.4):]\n",
    "\n",
    "with open('svr_models/inds10.txt', 'w') as outfile:\n",
    "    outfile.write('\\n'.join(inds10))\n",
    "with open('svr_models/inds30.txt', 'w') as outfile:\n",
    "    outfile.write('\\n'.join(inds30))\n",
    "with open('svr_models/inds60.txt', 'w') as outfile:\n",
    "    outfile.write('\\n'.join(inds60))\n",
    "\n",
    "print(all_indices.size-inds10.size-inds30.size-inds60.size)\n",
    "\n",
    "print(df_idrome.loc[inds10].query('N>500').N.size)\n",
    "print(df_idrome.loc[inds30].query('N>500').N.size)\n",
    "print(df_idrome.loc[inds60].query('N>500').N.size)\n",
    "\n",
    "# input features\n",
    "features_nu = ['scd','shd','kappa','fcr','mean_lambda']\n",
    "features_spr = ['scd','shd','mean_lambda']\n",
    "feature_dict = {'scd':'SCD','shd':'SHD',\n",
    "                'mean_lambda':r'$\\langle \\lambda \\rangle$',\n",
    "                'fcr':'FCR','kappa':'$\\kappa$'}"
   ]
  },
  {
   "cell_type": "code",
   "execution_count": 3,
   "id": "7eb55509",
   "metadata": {},
   "outputs": [
    {
     "data": {
      "text/plain": [
       "2795"
      ]
     },
     "execution_count": 3,
     "metadata": {},
     "output_type": "execute_result"
    }
   ],
   "source": [
    "inds10.size"
   ]
  },
  {
   "cell_type": "markdown",
   "id": "b68adb7d",
   "metadata": {},
   "source": [
    "### Train SVR model to predict $\\nu$"
   ]
  },
  {
   "cell_type": "markdown",
   "id": "7c6ef97d",
   "metadata": {},
   "source": [
    "#### Grid search of hyperparameters"
   ]
  },
  {
   "cell_type": "code",
   "execution_count": 195,
   "id": "8661c0b1",
   "metadata": {},
   "outputs": [
    {
     "name": "stdout",
     "output_type": "stream",
     "text": [
      "Optimal Hyperparameters\n",
      "epsilon = [0.021] , C = [67]\n"
     ]
    }
   ],
   "source": [
    "#eps_range = np.concatenate((np.arange(0,0.0012,0.0002),np.arange(0.002,0.012,0.002),np.arange(0.02,0.12,0.02)))\n",
    "eps_range = np.arange(0.02,0.03,0.001)\n",
    "c_range = np.arange(62,70,1)\n",
    "\n",
    "#write pearson correlations to array\n",
    "pearsons = np.zeros((len(eps_range),len(c_range)))\n",
    "for eps_i,eps in enumerate(eps_range):\n",
    "    for c_i,c in enumerate(c_range):\n",
    "        X = df_idrome.loc[inds30,features_nu].values\n",
    "        y = df_idrome.loc[inds30,'nu'].values\n",
    "\n",
    "        model = svm.SVR(epsilon=eps,C=c)\n",
    "        model.fit(X,y)\n",
    "\n",
    "        X_test = df_idrome.loc[inds60,features_nu].values\n",
    "        y_pred = model.predict(X_test)\n",
    "\n",
    "        y_sim = df_idrome.loc[inds60,'nu'].values\n",
    "        \n",
    "        pearson_corr = pearsonr(y_pred,y_sim)\n",
    "        pearsons[eps_i][c_i] = pearson_corr[0]\n",
    "        \n",
    "eps_i_max, c_i_max = np.where(pearsons==pearsons.max())\n",
    "opt_eps = eps_range[eps_i_max]\n",
    "opt_c = c_range[c_i_max]\n",
    "\n",
    "print('Optimal Hyperparameters')\n",
    "print('epsilon =',opt_eps,', C =',opt_c)"
   ]
  },
  {
   "cell_type": "code",
   "execution_count": 196,
   "id": "aac75231",
   "metadata": {},
   "outputs": [],
   "source": [
    "opt_eps = 0.021\n",
    "opt_c = 67"
   ]
  },
  {
   "cell_type": "markdown",
   "id": "bb29daa3",
   "metadata": {},
   "source": [
    "#### Train SVR model"
   ]
  },
  {
   "cell_type": "code",
   "execution_count": 197,
   "id": "5bcb46b8",
   "metadata": {},
   "outputs": [
    {
     "name": "stdout",
     "output_type": "stream",
     "text": [
      "[LibSVM]........................................\n",
      "Warning: using -h 0 may be faster\n",
      "*............................................................*\n",
      "optimization finished, #iter = 100104\n",
      "obj = -972.629875, rho = -0.615109\n",
      "nSV = 1044, nBSV = 928\n"
     ]
    },
    {
     "data": {
      "text/plain": [
       "SVR(C=67, epsilon=0.021, verbose=True)"
      ]
     },
     "execution_count": 197,
     "metadata": {},
     "output_type": "execute_result"
    }
   ],
   "source": [
    "X = np.array(df_idrome.loc[inds30,features_nu])\n",
    "y = np.array(df_idrome.loc[inds30,'nu'])\n",
    "model_nu = svm.SVR(epsilon=opt_eps,C=opt_c,verbose=True)\n",
    "model_nu.fit(X,y)"
   ]
  },
  {
   "cell_type": "markdown",
   "id": "9766cc9a",
   "metadata": {},
   "source": [
    "### Train SVR model to predict $S_\\text{conf}/N$"
   ]
  },
  {
   "cell_type": "markdown",
   "id": "c62bbf21",
   "metadata": {},
   "source": [
    "#### Grid search of hyperparameters"
   ]
  },
  {
   "cell_type": "code",
   "execution_count": 224,
   "id": "3202e0eb",
   "metadata": {},
   "outputs": [
    {
     "name": "stdout",
     "output_type": "stream",
     "text": [
      "Optimal Hyperparameters\n",
      "epsilon = [0.007] , C = [188]\n"
     ]
    }
   ],
   "source": [
    "#eps_range = np.concatenate((np.arange(0,0.0012,0.0002),np.arange(0.002,0.012,0.002),np.arange(0.02,0.12,0.02)))\n",
    "eps_range = np.arange(0.005,0.015,0.001)\n",
    "c_range = np.arange(170,190,1)\n",
    "\n",
    "#write pearson correlations to array\n",
    "pearsons = np.zeros((len(eps_range),len(c_range)))\n",
    "for eps_i,eps in enumerate(eps_range):\n",
    "    for c_i,c in enumerate(c_range):\n",
    "        X = df_idrome.loc[inds30,features_spr].values\n",
    "        y = df_idrome.loc[inds30,'SPR'].values\n",
    "\n",
    "        model = svm.SVR(epsilon=eps,C=c)\n",
    "        model.fit(X,y)\n",
    "\n",
    "        X_test = df_idrome.loc[inds60,features_spr].values\n",
    "        y_pred = model.predict(X_test)\n",
    "\n",
    "        y_sim = df_idrome.loc[inds60,'SPR'].values\n",
    "        \n",
    "        pearson_corr = pearsonr(y_pred,y_sim)\n",
    "        pearsons[eps_i][c_i] = pearson_corr[0]\n",
    "        \n",
    "eps_i_max, c_i_max = np.where(pearsons==pearsons.max())\n",
    "opt_eps = eps_range[eps_i_max]\n",
    "opt_c = c_range[c_i_max]\n",
    "\n",
    "print('Optimal Hyperparameters')\n",
    "print('epsilon =',opt_eps,', C =',opt_c)"
   ]
  },
  {
   "cell_type": "code",
   "execution_count": 209,
   "id": "4cb50663",
   "metadata": {},
   "outputs": [],
   "source": [
    "opt_eps = 0.007\n",
    "opt_c = 188"
   ]
  },
  {
   "cell_type": "markdown",
   "id": "f021f078",
   "metadata": {},
   "source": [
    "#### Train SVR model"
   ]
  },
  {
   "cell_type": "code",
   "execution_count": 225,
   "id": "d380d776",
   "metadata": {},
   "outputs": [
    {
     "name": "stdout",
     "output_type": "stream",
     "text": [
      "[LibSVM]..............................................................................................................................................................................\n",
      "Warning: using -h 0 may be faster\n",
      "*............................................................................................................................................................*...................*\n",
      "optimization finished, #iter = 348748\n",
      "obj = -55249.613670, rho = -10.622393\n",
      "nSV = 7376, nBSV = 7258\n"
     ]
    },
    {
     "data": {
      "text/plain": [
       "SVR(C=array([188]), epsilon=array([0.007]), verbose=True)"
      ]
     },
     "execution_count": 225,
     "metadata": {},
     "output_type": "execute_result"
    }
   ],
   "source": [
    "X = np.array(df_idrome.loc[inds30,features_spr])\n",
    "y = np.array(df_idrome.loc[inds30,'SPR'])\n",
    "model_spr = svm.SVR(epsilon=opt_eps,C=opt_c,verbose=True)\n",
    "model_spr.fit(X,y)"
   ]
  },
  {
   "cell_type": "markdown",
   "id": "a90869be",
   "metadata": {},
   "source": [
    "#### Export models using joblib"
   ]
  },
  {
   "cell_type": "code",
   "execution_count": 226,
   "id": "19ef413f",
   "metadata": {},
   "outputs": [
    {
     "data": {
      "text/plain": [
       "['svr_model/svr_model_SPR.joblib']"
      ]
     },
     "execution_count": 226,
     "metadata": {},
     "output_type": "execute_result"
    }
   ],
   "source": [
    "dump(model_nu, 'svr_models/svr_model_nu.joblib') \n",
    "dump(model_spr, 'svr_models/svr_model_SPR.joblib') "
   ]
  },
  {
   "cell_type": "markdown",
   "id": "6c5fc419",
   "metadata": {},
   "source": [
    "#### Load models using joblib"
   ]
  },
  {
   "cell_type": "code",
   "execution_count": 4,
   "id": "df102f37",
   "metadata": {},
   "outputs": [],
   "source": [
    "model_nu = load('svr_models/svr_model_nu.joblib') \n",
    "model_spr = load('svr_models/svr_model_SPR.joblib') "
   ]
  },
  {
   "cell_type": "markdown",
   "id": "a1a84e4b",
   "metadata": {},
   "source": [
    "#### Calculate $\\nu_{\\text{SVR}}$ and $S_\\text{conf,SVR}/N$ for all sequences"
   ]
  },
  {
   "cell_type": "code",
   "execution_count": 238,
   "id": "891016e9",
   "metadata": {},
   "outputs": [],
   "source": [
    "for seq_name in df_idrome.index:\n",
    "    df_idrome.loc[seq_name,'nu_svr'] = model_nu.predict(df_idrome.loc[seq_name,features_nu].values.reshape(1, -1))\n",
    "    df_idrome.loc[seq_name,'SPR_svr'] = model_spr.predict(df_idrome.loc[seq_name,features_spr].values.reshape(1, -1))\n",
    "df_idrome.nu_svr = df_idrome.nu_svr.apply(lambda x: round(x,3))\n",
    "df_idrome.to_csv('IDRome_DB.csv')"
   ]
  },
  {
   "cell_type": "code",
   "execution_count": 239,
   "id": "1cde481d",
   "metadata": {},
   "outputs": [],
   "source": [
    "df_idrome_spot = pd.read_csv('IDRome_DB_SPOT.csv',index_col=0)\n",
    "for seq_name in df_idrome_spot.index:\n",
    "    df_idrome_spot.loc[seq_name,'nu_svr'] = model_nu.predict(\n",
    "        df_idrome_spot.loc[seq_name,features_nu].values.reshape(1, -1))\n",
    "    df_idrome_spot.loc[seq_name,'SPR_svr'] = model_spr.predict(\n",
    "        df_idrome_spot.loc[seq_name,features_spr].values.reshape(1, -1))\n",
    "df_idrome_spot.nu_svr = df_idrome_spot.nu_svr.apply(lambda x: round(x,3))\n",
    "df_idrome_spot.to_csv('IDRome_DB_SPOT.csv')"
   ]
  },
  {
   "cell_type": "markdown",
   "id": "1574383e",
   "metadata": {},
   "source": [
    "#### Scaling exponents in validation set"
   ]
  },
  {
   "cell_type": "code",
   "execution_count": 5,
   "id": "bb72d019",
   "metadata": {},
   "outputs": [],
   "source": [
    "features_nu_60 = df_idrome.loc[inds60,features_nu].values\n",
    "nu_60 = df_idrome.loc[inds60,'nu'].values\n",
    "features_spr_60 = df_idrome.loc[inds60,features_spr].values\n",
    "spr_60 = df_idrome.loc[inds60,'nu'].values"
   ]
  },
  {
   "cell_type": "markdown",
   "id": "fd05ec47",
   "metadata": {},
   "source": [
    "####  Permutation feature importance testing"
   ]
  },
  {
   "cell_type": "code",
   "execution_count": 6,
   "id": "f98b4c89",
   "metadata": {},
   "outputs": [],
   "source": [
    "per_imp_nu = permutation_importance(model_nu,features_nu_60,nu_60)\n",
    "per_imp_spr = permutation_importance(model_spr,features_spr_60,spr_60)"
   ]
  },
  {
   "cell_type": "markdown",
   "id": "25c3035b",
   "metadata": {},
   "source": [
    "#### Extended Data Fig. 8"
   ]
  },
  {
   "cell_type": "code",
   "execution_count": 9,
   "id": "9b7aba4b",
   "metadata": {},
   "outputs": [
    {
     "name": "stdout",
     "output_type": "stream",
     "text": [
      "nu RMSE 0.019445635423673134 MAE 0.011704830053667261\n",
      "0.8755765742420111 0.8756937615147599 0.01679718393559424\n",
      "SPR RMSE 0.06282917616876674 MAE 0.04263580646985233\n",
      "0.9069305667093157 0.9070770492093438 0.009256277911668337\n",
      "(611,)\n",
      "0.9288700963126599 0.9282164660246144 0.011183040187829313\n",
      "(611,)\n",
      "0.876195015656532 0.8761202786006206 0.014990532574740211\n"
     ]
    },
    {
     "data": {
      "image/png": "[encoded data removed]",
      "text/plain": [
       "<Figure size 660x650 with 14 Axes>"
      ]
     },
     "metadata": {},
     "output_type": "display_data"
    }
   ],
   "source": [
    "f = plt.figure(figsize=(6.6,6.5))\n",
    "ax1 = plt.subplot2grid( (4,12), (0,0), rowspan=1, colspan=4 )\n",
    "ax2 = plt.subplot2grid( (4,12), (0,4), rowspan=1, colspan=4 )\n",
    "ax3 = plt.subplot2grid( (4,12), (0,8), rowspan=1, colspan=4 )\n",
    "ax4 = plt.subplot2grid( (4,12), (1,0), rowspan=1, colspan=4 )\n",
    "ax5 = plt.subplot2grid( (4,12), (1,4), rowspan=1, colspan=4 )\n",
    "ax6 = plt.subplot2grid( (4,12), (1,8), rowspan=1, colspan=4 )\n",
    "ax7 = plt.subplot2grid( (4,12), (2,0), rowspan=1, colspan=3 )\n",
    "ax8 = plt.subplot2grid( (4,12), (2,3), rowspan=1, colspan=3 )\n",
    "ax9 = plt.subplot2grid( (4,12), (2,6), rowspan=1, colspan=3 )\n",
    "ax10 = plt.subplot2grid( (4,12), (2,9), rowspan=1, colspan=3 )\n",
    "ax11 = plt.subplot2grid( (4,12), (3,0), rowspan=1, colspan=3 )\n",
    "ax12 = plt.subplot2grid( (4,12), (3,3), rowspan=1, colspan=3 )\n",
    "ax13 = plt.subplot2grid( (4,12), (3,6), rowspan=1, colspan=3 )\n",
    "ax14 = plt.subplot2grid( (4,12), (3,9), rowspan=1, colspan=3 )\n",
    "plt.rc('font', **{'family':'sans-serif','sans-serif':['Arial'], 'size': 6})\n",
    "\n",
    "axes = [ax1,ax2,ax3,ax4,ax5,ax6,ax7,ax8,ax9,ax10,ax11,ax12,ax13,ax14]\n",
    "\n",
    "features_nu = np.array(features_nu)\n",
    "sorted_idx = per_imp_nu.importances_mean.argsort()\n",
    "axes[0].barh(features_nu[sorted_idx],per_imp_nu.importances_mean[sorted_idx],color='tab:gray',height=.5)\n",
    "feature_labels = [feature_dict[f] for f in features_nu[sorted_idx]]\n",
    "axes[0].set_yticks(range(5))\n",
    "axes[0].set_yticklabels(feature_labels)\n",
    "axes[0].set_xlabel('Permutation Importance for $\\\\nu_\\mathrm{SVR}$')\n",
    "\n",
    "bin_width = .015\n",
    "bins = np.arange(0.14, .701, bin_width)\n",
    "x = bins[:-1]+bin_width/2\n",
    "\n",
    "for ax,feature,label in zip(axes[1:6],features_nu[sorted_idx][::-1],feature_labels[::-1]):\n",
    "\n",
    "    average = binned_statistic(df_idrome.nu,df_idrome[feature],bins=bins)[0]\n",
    "    standard_error = binned_statistic(df_idrome.nu,df_idrome[feature],statistic=se,\n",
    "                                     bins=bins)[0]\n",
    "    counts = binned_statistic(df_idrome.nu,df_idrome[feature],statistic='count',\n",
    "                                     bins=bins)[0]\n",
    "    \n",
    "    #print(feature,', '.join([str(int(x)) for x in counts[counts>2]]))\n",
    "\n",
    "    ax.errorbar(x[counts>2],average[counts>2],yerr=standard_error[counts>2],ms=2,marker='o',lw=0,zorder=0,\n",
    "             elinewidth=1,capsize=2,capthick=1,label=label,color='tab:gray')\n",
    "    \n",
    "    average = binned_statistic(df_idrome.nu_svr,df_idrome[feature],bins=bins)[0]\n",
    "    standard_error = binned_statistic(df_idrome.nu_svr,df_idrome[feature],statistic=se,\n",
    "                                     bins=bins)[0]\n",
    "    counts = binned_statistic(df_idrome.nu_svr,df_idrome[feature],statistic='count',\n",
    "                                     bins=bins)[0]\n",
    "\n",
    "    ax.errorbar(x[counts>2],average[counts>2],yerr=standard_error[counts>2],ms=2,marker='o',lw=0,zorder=0,\n",
    "             elinewidth=1,capsize=2,capthick=1,label=label,color='tab:red')\n",
    "\n",
    "    ax.set_ylabel(label)\n",
    "    ymin = np.nanmin(average)\n",
    "    ymin = ymin*1.3 if ymin <0 else ymin*.8\n",
    "    ymax = np.nanmax(average)*1.05\n",
    "    ax.vlines([.45,.55],ymin=-40,ymax=80,color='k',ls=':',lw=.7)\n",
    "    ax.set_ylim(ymin,ymax)\n",
    "    ax.set_xlim(.125,.708)\n",
    "    ax.set_xticks(np.arange(.2,.71,.2))\n",
    "    ax.set_xlabel('$\\\\nu$')\n",
    "    \n",
    "###############\n",
    "    \n",
    "features_spr = np.array(features_spr)\n",
    "sorted_idx = per_imp_spr.importances_mean.argsort()\n",
    "axes[6].barh(features_spr[sorted_idx],per_imp_spr.importances_mean[sorted_idx],color='tab:gray',height=.5)\n",
    "feature_labels = [feature_dict[f] for f in features_spr[sorted_idx]]\n",
    "axes[6].set_yticks(range(3))\n",
    "axes[6].set_yticklabels(feature_labels)\n",
    "axes[6].set_xlabel('Permutation Importance')\n",
    "\n",
    "bin_width = .05\n",
    "bins = np.arange(9.5, 11.4, bin_width)\n",
    "x = bins[:-1]+bin_width/2\n",
    "\n",
    "for ax,feature,label in zip(axes[7:10],features_spr[sorted_idx][::-1],feature_labels[::-1]):\n",
    "    \n",
    "    average = binned_statistic(df_idrome.SPR,df_idrome[feature],bins=bins)[0]\n",
    "    standard_error = binned_statistic(df_idrome.SPR,df_idrome[feature],statistic=se,\n",
    "                                     bins=bins)[0]\n",
    "    counts = binned_statistic(df_idrome.SPR,df_idrome[feature],statistic='count',\n",
    "                                     bins=bins)[0]\n",
    "    \n",
    "    #print(feature,', '.join([str(int(x)) for x in counts[counts>2]]))\n",
    "\n",
    "    ax.errorbar(x[counts>2],average[counts>2],yerr=standard_error[counts>2],ms=2,marker='o',lw=0,zorder=0,\n",
    "             elinewidth=1,capsize=2,capthick=1,label=label,color='tab:gray')\n",
    "    \n",
    "    average = binned_statistic(df_idrome.SPR_svr,df_idrome[feature],bins=bins)[0]\n",
    "    standard_error = binned_statistic(df_idrome.SPR_svr,df_idrome[feature],statistic=se,\n",
    "                                     bins=bins)[0]\n",
    "    counts = binned_statistic(df_idrome.SPR_svr,df_idrome[feature],statistic='count',\n",
    "                                     bins=bins)[0]\n",
    "\n",
    "    ax.errorbar(x[counts>2],average[counts>2],yerr=standard_error[counts>2],ms=2,marker='o',lw=0,zorder=0,\n",
    "             elinewidth=1,capsize=2,capthick=1,label=label,color='tab:red')\n",
    "\n",
    "    ax.set_ylabel(label)\n",
    "    ymin = np.nanmin(average)\n",
    "    ymin = ymin*1.3 if ymin <0 else ymin*.8\n",
    "    ymax = np.nanmax(average)*1.1\n",
    "    ax.set_ylim(ymin,ymax)\n",
    "    ax.set_xlabel(r'$S_\\mathrm{conf}$ / $N$ / $k_B$')\n",
    "    ax.set_xlim(9.45,11.25)\n",
    "\n",
    "axes[2].axhline(0,lw=.5,color='k')\n",
    "axes[2].set_ylim(-30,50)\n",
    "axes[3].set_ylim(.18,.78)\n",
    "axes[5].set_ylim(.18,.6)\n",
    "axes[9].axhline(0,lw=.5,color='k')\n",
    "axes[9].set_ylim(-14,82)\n",
    "\n",
    "##################\n",
    "\n",
    "df_idrome_spot = pd.read_csv('IDRome_DB_SPOT.csv',index_col=0).dropna()\n",
    "\n",
    "# test against held-out set\n",
    "\n",
    "for ax,feature in zip([ax11,ax13],['nu','SPR']):\n",
    "    \n",
    "    df_idrome_10 = df_idrome.loc[inds10]\n",
    "    test_10 = df_idrome.loc[inds10,feature]\n",
    "    test_10_svr = df_idrome.loc[inds10,feature+'_svr']\n",
    "\n",
    "    rmse = np.sqrt(np.mean(np.power(test_10-test_10_svr,2)))\n",
    "    print(feature,'RMSE',rmse,'MAE',np.abs(test_10-test_10_svr).mean())\n",
    "\n",
    "    pr = pearsonr(test_10,test_10_svr)[0]\n",
    "\n",
    "    bootstrap_nu = []\n",
    "    indices = np.arange(test_10.size)\n",
    "    for _ in range(1000):\n",
    "        picked = random.choices(indices,k=indices.size)\n",
    "        bootstrap_nu.append(pearsonr(test_10[picked],test_10_svr[picked])[0])\n",
    "    pr_mean = np.mean(bootstrap_nu)\n",
    "    pr_std = np.std(bootstrap_nu)\n",
    "    print(pr,pr_mean,pr_std)\n",
    "\n",
    "    ax.plot(test_10,test_10_svr,ms=1,marker='o',lw=0,color='tab:gray')\n",
    "    x = np.linspace(df_idrome[feature].min(),df_idrome[feature].max(),100)\n",
    "    ax.plot(x,x,lw=.5,zorder=4,color='k')\n",
    "    popt,_ = curve_fit(lambda x,a,b : a*x+b,test_10,test_10_svr)\n",
    "    ax.plot(x,popt[0]*x+popt[1],ls='--',lw=1,label='$r={:.2f} \\pm {:.2f}$'.format(\n",
    "        pr,pr_std),\n",
    "        zorder=4,color='k')\n",
    "    ax.set_aspect('equal')\n",
    "    ax.set_xlim(x.min(),x.max())\n",
    "    ax.set_ylim(x.min(),x.max())\n",
    "    leg = ax.legend(frameon=False,loc='lower right',handlelength=1.5,\n",
    "                    title='Held-out set',borderpad=0)\n",
    "    leg._legend_box.align = 'right'\n",
    "    \n",
    "# test against SPOT-based IDRs for UniProt IDs not in pLDDT-based set\n",
    "    \n",
    "for ax,feature in zip([ax12,ax14],['nu','SPR']):\n",
    "    \n",
    "    spot_unique = pd.read_csv('md_simulations/data/conf_prop_spot_unique.csv.gz',index_col=0).index\n",
    "    test_spot = df_idrome_spot.loc[spot_unique,feature]\n",
    "    test_spot_svr = df_idrome_spot.loc[spot_unique,feature+'_svr']\n",
    "\n",
    "    print(test_spot.shape)\n",
    "\n",
    "    pr = pearsonr(test_spot,test_spot_svr)[0]\n",
    "\n",
    "    bootstrap_nu = []\n",
    "    indices = np.arange(test_spot.size)\n",
    "    for _ in range(1000):\n",
    "        picked = random.choices(indices,k=indices.size)\n",
    "        bootstrap_nu.append(pearsonr(test_spot[picked],test_spot_svr[picked])[0])\n",
    "    pr_mean = np.mean(bootstrap_nu)\n",
    "    pr_std = np.std(bootstrap_nu)\n",
    "    print(pr,pr_mean,pr_std)\n",
    "\n",
    "    ax.plot(test_spot,test_spot_svr,ms=1,marker='o',lw=0,color='tab:gray')\n",
    "    x = np.linspace(df_idrome[feature].min(),df_idrome[feature].max(),100)\n",
    "    ax.plot(x,x,lw=.5,zorder=4,color='k')\n",
    "    popt,_ = curve_fit(lambda x,a,b : a*x+b,test_spot,test_spot_svr)\n",
    "    ax.plot(x,popt[0]*x+popt[1],ls='--',lw=1,label='$r={:.2f} \\pm {:.2f}$'.format(\n",
    "        pr,pr_std),zorder=4,color='k')\n",
    "\n",
    "    ax.set_aspect('equal')\n",
    "    ax.set_xlim(x.min(),x.max())\n",
    "    ax.set_ylim(x.min(),x.max())\n",
    "    leg = ax.legend(frameon=False,loc='lower right',handlelength=1.5,title='SPOT Unique')\n",
    "    leg._legend_box.align = 'right'\n",
    "\n",
    "for ax in [ax11,ax12]:\n",
    "    ax.set_xlabel('$\\\\nu$')\n",
    "    ax.set_ylabel('$\\\\nu_{SVR}$')\n",
    "for ax in [ax13,ax14]:\n",
    "    ax.set_xlabel(r'$S_\\mathrm{conf}$ / $N$ / $k_B$')\n",
    "    ax.set_ylabel(r'$S_{\\mathrm{conf},\\mathrm{SVR}}$ / $N$ / $k_B$')\n",
    "    \n",
    "f.text(0.01, .98, 'a', fontsize=10)\n",
    "f.text(0.34, .98, 'b', fontsize=10)\n",
    "f.text(0.675, .98, 'c', fontsize=10)\n",
    "f.text(0.01, .74, 'd', fontsize=10)\n",
    "f.text(0.34, .74, 'e', fontsize=10)\n",
    "f.text(0.675, .74, 'f', fontsize=10)\n",
    "\n",
    "f.text(0.01, .49, 'g', fontsize=10)\n",
    "f.text(0.26, .49, 'h', fontsize=10)\n",
    "f.text(0.51, .49, 'i', fontsize=10)\n",
    "f.text(0.76, .49, 'j', fontsize=10)\n",
    "\n",
    "f.text(0.01, .24, 'k', fontsize=10)\n",
    "f.text(0.26, .24, 'l', fontsize=10)\n",
    "f.text(0.51, .24, 'm', fontsize=10)\n",
    "f.text(0.76, .24, 'n', fontsize=10)\n",
    "    \n",
    "plt.tight_layout()\n",
    "plt.savefig('figs/ED_fig8.jpg',dpi=600)\n",
    "plt.show()"
   ]
  },
  {
   "cell_type": "code",
   "execution_count": null,
   "id": "de979400",
   "metadata": {},
   "outputs": [],
   "source": []
  }
 ],
 "metadata": {
  "kernelspec": {
   "display_name": "Python 3 (ipykernel)",
   "language": "python",
   "name": "python3"
  },
  "language_info": {
   "codemirror_mode": {
    "name": "ipython",
    "version": 3
   },
   "file_extension": ".py",
   "mimetype": "text/x-python",
   "name": "python",
   "nbconvert_exporter": "python",
   "pygments_lexer": "ipython3",
   "version": "3.8.16"
  }
 },
 "nbformat": 4,
 "nbformat_minor": 5
}
