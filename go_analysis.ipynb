{
 "cells": [
  {
   "cell_type": "markdown",
   "id": "61546d99",
   "metadata": {},
   "source": [
    "## Gene Ontology Analysis\n",
    "\n",
    "This notebook reproduces Fig. 2\n",
    "\n",
    "Authors: Anna Ida Trolle and Giulio Tesei\n",
    "\n",
    "Contact: giulio.tesei@bio.ku.dk"
   ]
  },
  {
   "cell_type": "code",
   "execution_count": 1,
   "id": "11562a0e",
   "metadata": {},
   "outputs": [],
   "source": [
    "import numpy as np \n",
    "import pandas as pd\n",
    "import matplotlib.pyplot as plt\n",
    "import matplotlib as mpl\n",
    "import seaborn as sns\n",
    "from collections import Counter\n",
    "import scipy as sc\n",
    "from scipy.stats import fisher_exact\n",
    "from scipy.stats.contingency import odds_ratio\n",
    "import pickle\n",
    "from matplotlib.patches import Patch\n",
    "from scipy import stats\n",
    "import statsmodels.stats.multitest\n",
    "from functools import partial\n",
    "from localcider.sequenceParameters import SequenceParameters\n",
    "from scipy.stats import binned_statistic\n",
    "from scipy.stats import binned_statistic_2d\n",
    "from ast import literal_eval\n",
    "import warnings\n",
    "warnings.filterwarnings('ignore')\n",
    "import networkx as nx\n",
    "import obonet\n",
    "from matplotlib.offsetbox import AnchoredOffsetbox, TextArea, HPacker, VPacker\n",
    "# function to calculate standard error of the mean\n",
    "se = lambda x : np.std(x)/np.sqrt(x.size)\n",
    "se.__name__ = 'SE'\n",
    "\n",
    "def error_prop_ratio(v1,v2,e1,e2):\n",
    "    ratio = v1/v2\n",
    "    return ratio*np.sqrt((e1/v1)**2+(e2/v2)**2)  \n",
    "\n",
    "def convert_pvalue_to_asterisks(pvalue):\n",
    "    if pvalue <= 0.0001:\n",
    "        return \"****\"\n",
    "    elif pvalue <= 0.001:\n",
    "        return \"***\"\n",
    "    elif pvalue <= 0.01:\n",
    "        return \"**\"\n",
    "    elif pvalue <= 0.05:\n",
    "        return \"*\"\n",
    "    return \"ns\"\n",
    "\n",
    "def map_to_curated_codes(graph, GO_terms, curated_GO_codes, nodes):\n",
    "    new_codes = np.empty(0)\n",
    "    for code in GO_terms:\n",
    "        if code in nodes and code != 'unknown':\n",
    "            ancestors = list(nx.dfs_predecessors(graph, source=code, depth_limit=None).values())\n",
    "            ancestors += list(nx.dfs_predecessors(graph, source=code, depth_limit=None).keys())\n",
    "            intersect = np.intersect1d(ancestors, curated_GO_codes)\n",
    "            if intersect.size==0:\n",
    "                intersect = np.append(intersect, 'other')\n",
    "            new_codes = np.append(new_codes, intersect)\n",
    "    return np.unique(new_codes).tolist()\n",
    "\n",
    "def calc_ORs(df_GO,GO_terms,intervals,curated_GO_terms):\n",
    "    #aggregate data based on bins\n",
    "    df_binned = df_GO.groupby(intervals).agg({'UniProt_ID':np.sum})\n",
    "    df_binned['GO'] = df_binned.UniProt_ID.apply(lambda x : GO_terms.loc[x].GO.sum())\n",
    "    df_binned['count_IDs'] = df_binned.UniProt_ID.apply(len)\n",
    "    df_binned['count_GO'] = df_binned.GO.apply(len)\n",
    "    \n",
    "    for GO in curated_GO_terms:\n",
    "        code = name_to_id[GO]\n",
    "        df_binned[GO] = df_binned.GO.apply(lambda x : x.count(code))\n",
    "    df_binned['other'] = df_binned.GO.apply(lambda x : x.count('other'))\n",
    "\n",
    "    df_stat = pd.DataFrame(index=curated_GO_terms+['other'], \n",
    "                             columns = ['OR','p_value','OR_errlow','OR_errhigh','asymmetric_err'])\n",
    "    for name in curated_GO_terms+['other']:\n",
    "        table = df_binned[[name, 'count_IDs']] \n",
    "        table.iloc[0]['count_IDs'] -= table.iloc[0][name]\n",
    "        table.iloc[1]['count_IDs'] -= table.iloc[1][name]\n",
    "        res = fisher_exact(table.values, alternative='two-sided')\n",
    "        df_stat.loc[name,'p_value'] = res.pvalue\n",
    "        res = odds_ratio(table.values,kind='conditional')\n",
    "        or_value = res.statistic\n",
    "        df_stat.loc[name,'OR'] = or_value\n",
    "        or_err = res.confidence_interval(confidence_level=0.95)\n",
    "        df_stat.loc[name,'OR_errlow'] = or_err.low\n",
    "        df_stat.loc[name,'OR_errhigh'] = or_err.high\n",
    "\n",
    "    for name in curated_GO_terms+['other']:\n",
    "        df_stat.at[name,'asymmetric_err'] = ([df_stat.loc[name, 'OR']-(df_stat.loc[name, 'OR_errlow']),\n",
    "                                                (df_stat.loc[name, 'OR_errhigh']-df_stat.loc[name, 'OR'])])\n",
    "\n",
    "    BenjaminiHochberg, correctedP = statsmodels.stats.multitest.fdrcorrection(df_stat['p_value'].values, \n",
    "                                                            alpha=0.05, method='indep', is_sorted=False)\n",
    "    df_stat['BenjaminiHochberg'] = BenjaminiHochberg\n",
    "    df_stat['correctedP'] = correctedP\n",
    "    return df_stat\n",
    "\n",
    "def calc_ORs_Expanded(df_GO,GO_terms,intervals,curated_GO_terms):\n",
    "    #aggregate data based on bins\n",
    "    df_binned = df_GO.groupby(intervals).agg({'UniProt_ID':np.sum})\n",
    "    df_binned['GO'] = df_binned.UniProt_ID.apply(lambda x : GO_terms.loc[x].GO.sum())\n",
    "    df_binned['count_IDs'] = df_binned.UniProt_ID.apply(len)\n",
    "    df_binned['count_GO'] = df_binned.GO.apply(len)\n",
    "    \n",
    "    for GO in curated_GO_terms:\n",
    "        code = name_to_id[GO]\n",
    "        df_binned[GO] = df_binned.GO.apply(lambda x : x.count(code))\n",
    "    df_binned['other'] = df_binned.GO.apply(lambda x : x.count('other'))\n",
    "\n",
    "    df_stat = pd.DataFrame(index=curated_GO_terms+['other'], \n",
    "                             columns = ['OR','p_value','OR_errlow','OR_errhigh','asymmetric_err'])\n",
    "    for name in curated_GO_terms+['other']:\n",
    "        table = df_binned[[name, 'count_IDs']]\n",
    "        table.iloc[0]['count_IDs'] -= table.iloc[0][name]\n",
    "        table.iloc[1]['count_IDs'] -= table.iloc[1][name]\n",
    "        table = table.iloc[::-1] \n",
    "        res = fisher_exact(table.values, alternative='two-sided')\n",
    "        df_stat.loc[name,'p_value'] = res.pvalue\n",
    "        res = odds_ratio(table.values,kind='conditional')\n",
    "        or_value = res.statistic\n",
    "        df_stat.loc[name,'OR'] = or_value\n",
    "        or_err = res.confidence_interval(confidence_level=0.95)\n",
    "        df_stat.loc[name,'OR_errlow'] = or_err.low\n",
    "        df_stat.loc[name,'OR_errhigh'] = or_err.high\n",
    "\n",
    "    for name in curated_GO_terms+['other']:\n",
    "        df_stat.at[name,'asymmetric_err'] = ([df_stat.loc[name, 'OR']-(df_stat.loc[name, 'OR_errlow']),\n",
    "                                                (df_stat.loc[name, 'OR_errhigh']-df_stat.loc[name, 'OR'])])\n",
    "\n",
    "    BenjaminiHochberg, correctedP = statsmodels.stats.multitest.fdrcorrection(df_stat['p_value'].values, \n",
    "                                                            alpha=0.05, method='indep', is_sorted=False)\n",
    "    df_stat['BenjaminiHochberg'] = BenjaminiHochberg\n",
    "    df_stat['correctedP'] = correctedP\n",
    "    return df_stat"
   ]
  },
  {
   "cell_type": "markdown",
   "id": "83fe7e33",
   "metadata": {},
   "source": [
    "#### Load basic version of the GO"
   ]
  },
  {
   "cell_type": "code",
   "execution_count": 2,
   "id": "47cc03de",
   "metadata": {},
   "outputs": [],
   "source": [
    "url = 'http://purl.obolibrary.org/obo/go/go-basic.obo'\n",
    "graph = obonet.read_obo(url)\n",
    "\n",
    "id_to_name = {id_: data.get('name') for id_, data in graph.nodes(data=True)}\n",
    "name_to_id = {data['name']: id_ for id_, data in graph.nodes(data=True) if 'name' in data}"
   ]
  },
  {
   "cell_type": "markdown",
   "id": "8cd822c2",
   "metadata": {},
   "source": [
    "#### Get nodes connected to molecular function, biological process, and cellular component"
   ]
  },
  {
   "cell_type": "code",
   "execution_count": 3,
   "id": "f650e991",
   "metadata": {},
   "outputs": [
    {
     "name": "stdout",
     "output_type": "stream",
     "text": [
      "GO:0003674 GO:0008150 GO:0005575\n"
     ]
    }
   ],
   "source": [
    "print(name_to_id['molecular_function'],name_to_id['biological_process'],name_to_id['cellular_component'])\n",
    "molfunc = list(nx.ancestors(graph, 'GO:0003674')) # all nodes connected to molecular function\n",
    "bioproc = list(nx.ancestors(graph, 'GO:0008150')) # all nodes connected to biological process\n",
    "cellcom = list(nx.ancestors(graph, 'GO:0005575')) # all nodes connected to cellular component"
   ]
  },
  {
   "cell_type": "markdown",
   "id": "a2c71cab",
   "metadata": {},
   "source": [
    "#### $\\nu$ values to identify IDRs in the most compact and most expanded 5%"
   ]
  },
  {
   "cell_type": "code",
   "execution_count": 4,
   "id": "cd817cf0",
   "metadata": {},
   "outputs": [],
   "source": [
    "lower_cutoff = 0.477\n",
    "upper_cutoff = 0.581"
   ]
  },
  {
   "cell_type": "markdown",
   "id": "2611862b",
   "metadata": {},
   "source": [
    "#### Searching for TFs analysed by Staller et al. (DOI: https://doi.org/10.1016/j.cels.2022.01.002)"
   ]
  },
  {
   "cell_type": "code",
   "execution_count": 5,
   "id": "c791adfe",
   "metadata": {},
   "outputs": [
    {
     "name": "stdout",
     "output_type": "stream",
     "text": [
      "Forkhead box protein O6\n",
      "Forkhead box protein O3\n",
      "Transcription factor SOX-11\n",
      "Forkhead box protein O4\n",
      "Zinc finger protein Rlf\n",
      "Zinc finger protein interacting with ribonucleoprotein K\n",
      "Transcription factor Gibbin\n",
      "Coiled-coil and C2 domain-containing protein 1A\n",
      "Pancreas transcription factor 1 subunit alpha\n",
      "Zinc finger and BTB domain-containing protein 46\n",
      "Adipocyte enhancer-binding protein 1\n",
      "Zinc finger protein 561\n",
      "Zinc finger and BTB domain-containing protein 44\n",
      "Zinc finger protein 473\n",
      "HMG box transcription factor BBX\n",
      "Zinc finger protein 419\n",
      "Zinc finger protein 469\n",
      "Zinc finger protein 42 homolog\n",
      "Homeobox protein ARX\n",
      "ETS-related transcription factor Elf-4\n",
      "PHD finger protein 20\n",
      "Zinc finger protein 644\n",
      "PR domain zinc finger protein 5\n",
      "CREB/ATF bZIP transcription factor\n",
      "CXXC-type zinc finger protein 1\n",
      "Zinc finger protein 639\n",
      "Zinc finger protein 777\n",
      "27\n"
     ]
    }
   ],
   "source": [
    "dataset_3 = pd.read_csv('https://ars.els-cdn.com/content/image/1-s2.0-S2405471222000023-mmc4.csv',\n",
    "           storage_options={'User-Agent': 'Mozilla/5.0'},index_col=2)\n",
    "\n",
    "df_idrome = pd.read_csv('IDRome_DB.csv',index_col=0)\n",
    "\n",
    "tfs_staller = []\n",
    "\n",
    "df_staller = df_idrome[df_idrome.UniProt_ID.isin(dataset_3.index)].query(f'nu <= {lower_cutoff:g}')\n",
    "for idr in df_staller.index:\n",
    "    if type(dataset_3.loc[df_staller.loc[idr].UniProt_ID].ProteinRegionSeq) == str:\n",
    "        if dataset_3.loc[df_staller.loc[idr].UniProt_ID].ProteinRegionSeq in df_staller.loc[idr].fasta:\n",
    "            print(df_staller.loc[idr].protein_name)\n",
    "            tfs_staller.append(idr)\n",
    "    else:\n",
    "        for seq in dataset_3.loc[df_staller.loc[idr].UniProt_ID].ProteinRegionSeq.values:\n",
    "            if seq in df_staller.loc[idr].fasta:\n",
    "                print(df_staller.loc[idr].protein_name)\n",
    "                tfs_staller.append(idr)\n",
    "print(len(tfs_staller))"
   ]
  },
  {
   "cell_type": "markdown",
   "id": "f3d08f09",
   "metadata": {},
   "source": [
    "### Analyses\n",
    "***"
   ]
  },
  {
   "cell_type": "markdown",
   "id": "ce2c4949",
   "metadata": {},
   "source": [
    "#### Calculate Odds Ratios for Enrichment of Molecular Functions in IDRs in the Most Compact 5%"
   ]
  },
  {
   "cell_type": "code",
   "execution_count": 6,
   "id": "4413e94a",
   "metadata": {},
   "outputs": [
    {
     "name": "stdout",
     "output_type": "stream",
     "text": [
      "(23916, 31)\n"
     ]
    }
   ],
   "source": [
    "# Load lists of GO terms for each UniProt ID (see go_analysis/uniprot_API_calls.py)\n",
    "GO_terms = pd.Series(pd.read_pickle('go_analysis/uniprot_dict.pkl')).to_frame(name='GO')\n",
    "# Load database\n",
    "df_GO = pd.read_csv('IDRome_DB.csv',index_col=0)\n",
    "\n",
    "# Map GO terms onto parent terms occurring at least 10 times\n",
    "g,u = np.unique(GO_terms.loc[df_GO.query(f'nu <= {lower_cutoff:g}').UniProt_ID].GO.sum(),return_counts=True)\n",
    "curated_GO_terms_molfunc = np.unique([id_to_name[x] if x in molfunc else '' for x in g[u>=10]])\n",
    "curated_GO_terms_molfunc = curated_GO_terms_molfunc[curated_GO_terms_molfunc!=''].tolist()\n",
    "curated_GO_codes = []\n",
    "for name in curated_GO_terms_molfunc:\n",
    "    curated_GO_codes.append(name_to_id[name]) \n",
    "GO_terms.GO = GO_terms.GO.apply( lambda x : map_to_curated_codes(graph, x, curated_GO_codes, molfunc) )\n",
    "\n",
    "df_GO['UniProt_ID'] = df_GO.UniProt_ID.apply(lambda x: [x])\n",
    "df_GO['count_GO_terms'] = df_GO.UniProt_ID.apply(lambda x : len(GO_terms.loc[x].GO.values[0]))\n",
    "df_GO = df_GO[df_GO['count_GO_terms']>0]\n",
    "df_GO['GO_terms'] = df_GO.UniProt_ID.apply(\n",
    "    lambda x : [id_to_name[c] if c!='other' else 'other' for c in GO_terms.loc[x].GO.values[0]])\n",
    "df_GO.drop('count_GO_terms',axis=1,inplace=True)\n",
    "\n",
    "print(df_GO.shape)\n",
    "\n",
    "# Bin nu values and calculate odds ratios\n",
    "nu_intervals = pd.cut(df_GO['nu'], np.array([0, lower_cutoff, .8]))\n",
    "df_nu_stat_compact = calc_ORs(df_GO,GO_terms,nu_intervals,curated_GO_terms_molfunc)\n",
    "\n",
    "df_nu_stat_compact.sort_values('OR',inplace=True)\n",
    "df_nu_stat_compact.to_csv('go_analysis/GO_function_analysis_compact.csv')"
   ]
  },
  {
   "cell_type": "code",
   "execution_count": 7,
   "id": "ef15a53b",
   "metadata": {},
   "outputs": [
    {
     "data": {
      "text/plain": [
       "1166"
      ]
     },
     "execution_count": 7,
     "metadata": {},
     "output_type": "execute_result"
    }
   ],
   "source": [
    "df_GO.query(f'nu <= {lower_cutoff:g}').GO_terms.apply(lambda x: np.array(x).size>0).sum()"
   ]
  },
  {
   "cell_type": "markdown",
   "id": "4001a1b0",
   "metadata": {},
   "source": [
    "#### Calculate Odds Ratios for Enrichment of Molecular Functions in IDRs  in the Most Expanded 5%"
   ]
  },
  {
   "cell_type": "code",
   "execution_count": 8,
   "id": "161221b4",
   "metadata": {},
   "outputs": [
    {
     "name": "stdout",
     "output_type": "stream",
     "text": [
      "(23916, 31)\n"
     ]
    }
   ],
   "source": [
    "# Load lists of GO terms for each UniProt ID\n",
    "GO_terms = pd.Series(pd.read_pickle('go_analysis/uniprot_dict.pkl')).to_frame(name='GO')\n",
    "# Load database\n",
    "df_GO = pd.read_csv('IDRome_DB.csv',index_col=0)\n",
    "\n",
    "g,u = np.unique(GO_terms.loc[df_GO.query(f'nu > {upper_cutoff:g}').UniProt_ID].GO.sum(),return_counts=True)\n",
    "\n",
    "curated_GO_terms_molfunc = np.unique([id_to_name[x] if x in molfunc else '' for x in g[u>=10]])\n",
    "curated_GO_terms_molfunc = curated_GO_terms_molfunc[curated_GO_terms_molfunc!=''].tolist()\n",
    "\n",
    "curated_GO_codes = []\n",
    "for name in curated_GO_terms_molfunc:\n",
    "    curated_GO_codes.append(name_to_id[name]) \n",
    "    \n",
    "GO_terms.GO = GO_terms.GO.apply( lambda x : map_to_curated_codes(graph, x, curated_GO_codes, molfunc) )\n",
    "\n",
    "df_GO['UniProt_ID'] = df_GO.UniProt_ID.apply(lambda x: [x])\n",
    "df_GO['count_GO_terms'] = df_GO.UniProt_ID.apply(lambda x : len(GO_terms.loc[x].GO.values[0]))\n",
    "df_GO = df_GO[df_GO['count_GO_terms']>0]\n",
    "df_GO['GO_terms'] = df_GO.UniProt_ID.apply(\n",
    "    lambda x : [id_to_name[c] if c!='other' else 'other' for c in GO_terms.loc[x].GO.values[0]])\n",
    "df_GO.drop('count_GO_terms',axis=1,inplace=True)\n",
    "\n",
    "print(df_GO.shape)\n",
    "\n",
    "# Bin nu values and calculate odds ratios\n",
    "nu_intervals = pd.cut(df_GO['nu'], np.array([0, upper_cutoff, .8]))\n",
    "df_nu_stat_expanded = calc_ORs_Expanded(df_GO,GO_terms,nu_intervals,curated_GO_terms_molfunc)\n",
    "\n",
    "df_nu_stat_expanded.sort_values('OR',inplace=True)\n",
    "df_nu_stat_expanded.to_csv('go_analysis/GO_function_analysis_expanded.csv')"
   ]
  },
  {
   "cell_type": "code",
   "execution_count": 9,
   "id": "5bb180b9",
   "metadata": {},
   "outputs": [
    {
     "data": {
      "text/plain": [
       "1334"
      ]
     },
     "execution_count": 9,
     "metadata": {},
     "output_type": "execute_result"
    }
   ],
   "source": [
    "df_GO.query(f'nu > {upper_cutoff:g}').GO_terms.apply(lambda x: np.array(x).size>0).sum()"
   ]
  },
  {
   "cell_type": "markdown",
   "id": "cb6a0f67",
   "metadata": {},
   "source": [
    "#### List IDRs with $\\nu > 0.581$ in disordered domain specific binding"
   ]
  },
  {
   "cell_type": "code",
   "execution_count": 10,
   "id": "c2f5af22",
   "metadata": {},
   "outputs": [
    {
     "name": "stdout",
     "output_type": "stream",
     "text": [
      "P07900 ['694-732'] - HSP90AA1 Heat shock protein HSP 90-alpha\n",
      "P08238 ['686-724'] - HSP90AB1 Heat shock protein HSP 90-beta\n",
      "Q00987 ['327-437'] - MDM2 E3 ubiquitin-protein ligase Mdm2\n",
      "Q09470 ['1-36'] - KCNA1 Potassium voltage-gated channel subfamily A member 1\n",
      "Q14318 ['1-90'] - FKBP8 Peptidyl-prolyl cis-trans isomerase FKBP8\n",
      "Q14980 ['387-419' '1091-1128'] - NUMA1 Nuclear mitotic apparatus protein 1\n",
      "Q15562 ['1-59'] - TEAD2 Transcriptional enhancer factor TEF-4\n",
      "Q58FF6 ['294-332'] - HSP90AB4P Putative heat shock protein HSP 90-beta 4\n",
      "Q58FF7 ['558-597' '193-242' '1-36'] - HSP90AB3P Putative heat shock protein HSP 90-beta-3\n",
      "Q58FG1 ['380-418'] - HSP90AA4P Putative heat shock protein HSP 90-alpha A4\n"
     ]
    }
   ],
   "source": [
    "name = 'disordered domain specific binding'\n",
    "df_idrome = pd.read_csv('IDRome_DB.csv',index_col=0)\n",
    "ID_s = GO_terms.loc[df_idrome.query(f'nu > {upper_cutoff:g}').UniProt_ID].GO.apply(lambda x:\n",
    "                                        np.sum([name_to_id[name]==i for i in x]))\n",
    "for uniprot_id in np.unique(ID_s[ID_s==1].index):\n",
    "    print(uniprot_id,\n",
    "         df_idrome.query(f\"UniProt_ID == '{uniprot_id:s}' and nu > {upper_cutoff:g}\").index.map(\n",
    "             lambda x: '-'.join(x.split('_')[1:])).values,\n",
    "         '-',df_idrome.query(f\"UniProt_ID == '{uniprot_id:s}'\").gene_name.unique()[0],\n",
    "         df_idrome.query(f\"UniProt_ID == '{uniprot_id:s}'\").protein_name.unique()[0])"
   ]
  },
  {
   "cell_type": "markdown",
   "id": "84baf504",
   "metadata": {},
   "source": [
    "#### List IDRs with $\\nu > 0.581$ in ATP-dependent protein folding chaperones "
   ]
  },
  {
   "cell_type": "code",
   "execution_count": 11,
   "id": "03a6e8ba",
   "metadata": {},
   "outputs": [
    {
     "name": "stdout",
     "output_type": "stream",
     "text": [
      "A6NM43 ['519-557'] - CCT8L1P Putative T-complex protein 1 subunit theta-like 1\n",
      "P07900 ['694-732'] - HSP90AA1 Heat shock protein HSP 90-alpha\n",
      "P08238 ['686-724'] - HSP90AB1 Heat shock protein HSP 90-beta\n",
      "P14625 ['754-803'] - HSP90B1 Endoplasmin\n",
      "P50991 ['1-31'] - CCT4 T-complex protein 1 subunit delta\n",
      "Q58FF3 ['346-399'] - HSP90B2P Putative endoplasmin-like protein\n",
      "Q58FF6 ['294-332'] - HSP90AB4P Putative heat shock protein HSP 90-beta 4\n",
      "Q58FF7 ['558-597' '193-242' '1-36'] - HSP90AB3P Putative heat shock protein HSP 90-beta-3\n",
      "Q58FG1 ['380-418'] - HSP90AA4P Putative heat shock protein HSP 90-alpha A4\n"
     ]
    }
   ],
   "source": [
    "name = 'ATP-dependent protein folding chaperone'\n",
    "df_idrome = pd.read_csv('IDRome_DB.csv',index_col=0)\n",
    "ID_s = GO_terms.loc[df_idrome.query(f'nu > {upper_cutoff:g}').UniProt_ID].GO.apply(lambda x:\n",
    "                                        np.sum([name_to_id[name]==i for i in x]))\n",
    "for uniprot_id in np.unique(ID_s[ID_s==1].index):\n",
    "    print(uniprot_id,\n",
    "         df_idrome.query(f\"UniProt_ID == '{uniprot_id:s}' and nu > {upper_cutoff:g}\").index.map(\n",
    "             lambda x: '-'.join(x.split('_')[1:])).values,\n",
    "         '-',df_idrome.query(f\"UniProt_ID == '{uniprot_id:s}'\").gene_name.unique()[0],\n",
    "         df_idrome.query(f\"UniProt_ID == '{uniprot_id:s}'\").protein_name.unique()[0])"
   ]
  },
  {
   "cell_type": "markdown",
   "id": "6b31ee84",
   "metadata": {},
   "source": [
    "#### Calculate Odds Ratios for Enrichment in Cell Components of IDRs  in the Most Compact 5%"
   ]
  },
  {
   "cell_type": "code",
   "execution_count": 12,
   "id": "959d5d05",
   "metadata": {},
   "outputs": [
    {
     "name": "stdout",
     "output_type": "stream",
     "text": [
      "(27129, 31)\n"
     ]
    }
   ],
   "source": [
    "# Load lists of GO terms for each UniProt ID (see go_analysis/uniprot_API_calls.py)\n",
    "GO_terms = pd.Series(pd.read_pickle('go_analysis/uniprot_dict.pkl')).to_frame(name='GO')\n",
    "# Load database\n",
    "df_GO = pd.read_csv('IDRome_DB.csv',index_col=0)\n",
    "\n",
    "g,u = np.unique(GO_terms.loc[df_GO.query(f'nu <= {lower_cutoff:g}').UniProt_ID].GO.sum(),return_counts=True)\n",
    "\n",
    "curated_GO_terms_cellcom = np.unique([id_to_name[x] if x in cellcom else '' for x in g[u>=10]])\n",
    "\n",
    "curated_GO_terms_cellcom = curated_GO_terms_cellcom[curated_GO_terms_cellcom!=''].tolist()\n",
    "\n",
    "curated_GO_codes = []\n",
    "for name in curated_GO_terms_cellcom:\n",
    "    curated_GO_codes.append(name_to_id[name]) \n",
    "\n",
    "GO_terms.GO = GO_terms.GO.apply( lambda x : map_to_curated_codes(graph, x, curated_GO_codes, cellcom) )\n",
    "\n",
    "df_GO['UniProt_ID'] = df_GO.UniProt_ID.apply(lambda x: [x])\n",
    "df_GO['count_GO_terms'] = df_GO.UniProt_ID.apply(lambda x : len(GO_terms.loc[x].GO.values[0]))\n",
    "df_GO = df_GO[df_GO['count_GO_terms']>0]\n",
    "df_GO['GO_terms'] = df_GO.UniProt_ID.apply(\n",
    "    lambda x : [id_to_name[c] if c!='other' else 'other' for c in GO_terms.loc[x].GO.values[0]])\n",
    "df_GO.drop('count_GO_terms',axis=1,inplace=True)\n",
    "\n",
    "print(df_GO.shape)\n",
    "\n",
    "# Bin nu values and calculate odds ratios\n",
    "nu_intervals = pd.cut(df_GO['nu'], np.array([0, lower_cutoff, .8]))\n",
    "df_nu_stat_compact = calc_ORs(df_GO,GO_terms,nu_intervals,curated_GO_terms_cellcom)\n",
    "\n",
    "df_nu_stat_compact.sort_values('OR',inplace=True)\n",
    "df_nu_stat_compact.to_csv('go_analysis/GO_component_analysis_compact.csv')"
   ]
  },
  {
   "cell_type": "code",
   "execution_count": 13,
   "id": "a82a58bf",
   "metadata": {},
   "outputs": [
    {
     "data": {
      "text/plain": [
       "1358"
      ]
     },
     "execution_count": 13,
     "metadata": {},
     "output_type": "execute_result"
    }
   ],
   "source": [
    "df_GO.query(f'nu <= {lower_cutoff:g}').GO_terms.apply(lambda x: np.array(x).size>0).sum()"
   ]
  },
  {
   "cell_type": "markdown",
   "id": "c7ede41e",
   "metadata": {},
   "source": [
    "#### List IDRs with $\\nu \\leq 0.477$ in the SWI/SNF Complex"
   ]
  },
  {
   "cell_type": "code",
   "execution_count": 14,
   "id": "fcf5e034",
   "metadata": {},
   "outputs": [
    {
     "name": "stdout",
     "output_type": "stream",
     "text": [
      "P51531 ['496-708' '1503-1590'] - SMARCA2 Probable global transcription activator SNF2L2\n",
      "P51532 ['1562-1647' '517-739'] - SMARCA4 Transcription activator BRG1\n",
      "Q86U86 ['1313-1391' '284-387'] - PBRM1 Protein polybromo-1\n",
      "Q8NFD5 ['1691-1782'] - ARID1B AT-rich interactive domain-containing protein 1B\n",
      "Q8TAQ2 ['267-421'] - SMARCC2 SWI/SNF complex subunit SMARCC2\n",
      "Q8WUB8 ['260-371'] - PHF10 PHD finger protein 10\n",
      "Q92785 ['1-264'] - DPF2 Zinc finger protein ubi-d4\n",
      "Q92922 ['294-447'] - SMARCC1 SWI/SNF complex subunit SMARCC1\n"
     ]
    }
   ],
   "source": [
    "name = 'SWI/SNF complex'\n",
    "df_idrome = pd.read_csv('IDRome_DB.csv',index_col=0)\n",
    "ID_s = GO_terms.loc[df_idrome.query(f'nu <= {lower_cutoff:g}').UniProt_ID].GO.apply(lambda x:\n",
    "                                        np.sum([name_to_id[name]==i for i in x]))\n",
    "for uniprot_id in np.unique(ID_s[ID_s==1].index):\n",
    "    print(uniprot_id,\n",
    "         df_idrome.query(f\"UniProt_ID == '{uniprot_id:s}' and nu <= {lower_cutoff:g}\").index.map(\n",
    "             lambda x: '-'.join(x.split('_')[1:])).values,\n",
    "         '-',df_idrome.query(f\"UniProt_ID == '{uniprot_id:s}'\").gene_name.unique()[0],\n",
    "         df_idrome.query(f\"UniProt_ID == '{uniprot_id:s}'\").protein_name.unique()[0])"
   ]
  },
  {
   "cell_type": "markdown",
   "id": "2a80ff0a",
   "metadata": {},
   "source": [
    "#### List IDRs with $\\nu \\leq 0.477$ in the Spliceosomal Complex"
   ]
  },
  {
   "cell_type": "code",
   "execution_count": 15,
   "id": "a0464d0a",
   "metadata": {},
   "outputs": [
    {
     "name": "stdout",
     "output_type": "stream",
     "text": [
      "A6NDE4 ['84-496'] - RBMY1B RNA-binding motif protein, Y chromosome, family 1 member B\n",
      "O14979 ['310-420'] - HNRNPDL Heterogeneous nuclear ribonucleoprotein D-like\n",
      "O15234 ['253-703'] - CASC3 Protein CASC3\n",
      "O43290 ['391-498'] - SART1 U4/U6.U5 tri-snRNP-associated protein 1\n",
      "O43390 ['417-633'] - HNRNPR Heterogeneous nuclear ribonucleoprotein R\n",
      "O60506 ['419-623'] - SYNCRIP Heterogeneous nuclear ribonucleoprotein Q\n",
      "O75400 ['801-957'] - PRPF40A Pre-mRNA-processing factor 40 homolog A\n",
      "O75643 ['1-269'] - SNRNP200 U5 small nuclear ribonucleoprotein 200 kDa helicase\n",
      "O94906 ['1-81'] - PRPF6 Pre-mRNA-processing factor 6\n",
      "O95232 ['287-432'] - LUC7L3 Luc7-like protein 3\n",
      "P08621 ['202-437'] - SNRNP70 U1 small nuclear ribonucleoprotein 70 kDa\n",
      "P09651 ['187-372'] - HNRNPA1 Heterogeneous nuclear ribonucleoprotein A1\n",
      "P19338 ['1-309'] - NCL Nucleolin\n",
      "P22626 ['194-353'] - HNRNPA2B1 Heterogeneous nuclear ribonucleoproteins A2/B1\n",
      "P31942 ['89-199'] - HNRNPH3 Heterogeneous nuclear ribonucleoprotein H3\n",
      "P38159 ['87-391'] - RBMX RNA-binding motif protein, X chromosome\n",
      "P51991 ['207-378'] - HNRNPA3 Heterogeneous nuclear ribonucleoprotein A3\n",
      "P61978 ['227-391'] - HNRNPK Heterogeneous nuclear ribonucleoprotein K\n",
      "P67809 ['144-324'] - YBX1 Y-box-binding protein 1\n",
      "P98179 ['78-157'] - RBM3 RNA-binding protein 3\n",
      "Q00839 ['42-269'] - HNRNPU Heterogeneous nuclear ribonucleoprotein U\n",
      "Q13123 ['280-325'] - IK Protein Red\n",
      "Q13435 ['692-895'] - SF3B2 Splicing factor 3B subunit 2\n",
      "Q13523 ['335-667'] - PRPF4B Serine/threonine-protein kinase PRP4 homolog\n",
      "Q14011 ['79-172'] - CIRBP Cold-inducible RNA-binding protein\n",
      "Q6NWY9 ['684-871'] - PRPF40B Pre-mRNA-processing factor 40 homolog B\n",
      "Q7L014 ['1-320'] - DDX46 Probable ATP-dependent RNA helicase DDX46\n",
      "Q8N7X1 ['574-1067' '79-573'] - RBMXL3 RNA-binding motif protein, X-linked-like-3\n",
      "Q8NAV1 ['180-312'] - PRPF38A Pre-mRNA-splicing factor 38A\n",
      "Q96E39 ['85-390'] - RBMXL1 RNA binding motif protein, X-linked-like-1\n",
      "Q9BRR8 ['637-931'] - GPATCH1 G patch domain-containing protein 1\n",
      "Q9H307 ['281-717'] - PNN Pinin\n",
      "Q9NW13 ['196-332'] - RBM28 RNA-binding protein 28\n",
      "Q9UBB9 ['1-322'] - TFIP11 Tuftelin-interacting protein 11\n",
      "Q9Y5S9 ['1-52'] - RBM8A RNA-binding protein 8A\n"
     ]
    }
   ],
   "source": [
    "name = 'spliceosomal complex'\n",
    "df_idrome = pd.read_csv('IDRome_DB.csv',index_col=0)\n",
    "ID_s = GO_terms.loc[df_idrome.query(f'nu <= {lower_cutoff:g}').UniProt_ID].GO.apply(lambda x:\n",
    "                                        np.sum([name_to_id[name]==i for i in x]))\n",
    "for uniprot_id in np.unique(ID_s[ID_s==1].index):\n",
    "    print(uniprot_id,\n",
    "         df_idrome.query(f\"UniProt_ID == '{uniprot_id:s}' and nu <= {lower_cutoff:g}\").index.map(\n",
    "             lambda x: '-'.join(x.split('_')[1:])).values,\n",
    "         '-',df_idrome.query(f\"UniProt_ID == '{uniprot_id:s}'\").gene_name.unique()[0],\n",
    "         df_idrome.query(f\"UniProt_ID == '{uniprot_id:s}'\").protein_name.unique()[0])"
   ]
  },
  {
   "cell_type": "markdown",
   "id": "2d84412d",
   "metadata": {},
   "source": [
    "#### Proteins with compact IDRs that localize in intracellular membraneless organelles"
   ]
  },
  {
   "cell_type": "code",
   "execution_count": 16,
   "id": "61c301c3",
   "metadata": {},
   "outputs": [
    {
     "data": {
      "text/plain": [
       "(472, 'intracellular non-membrane-bounded organelle')"
      ]
     },
     "execution_count": 16,
     "metadata": {},
     "output_type": "execute_result"
    }
   ],
   "source": [
    "GO_terms = pd.Series(pd.read_pickle('go_analysis/uniprot_dict.pkl')).to_frame(name='GO')\n",
    "curated_GO_terms_cellcom = ['nucleolus','nuclear speck','nuclear body','PML body',\n",
    "                            'intracellular non-membrane-bounded organelle']\n",
    "curated_GO_codes = []\n",
    "for name in curated_GO_terms_cellcom:\n",
    "    curated_GO_codes.append(name_to_id[name]) \n",
    "    \n",
    "GO_terms.GO = GO_terms.GO.apply( lambda x : map_to_curated_codes(graph, x, curated_GO_codes, cellcom) )\n",
    "\n",
    "all_mos = GO_terms.loc[df_idrome.query(f'nu <= {lower_cutoff:g}').UniProt_ID][\n",
    "    GO_terms.loc[df_idrome.query(f'nu <= {lower_cutoff:g}').UniProt_ID].GO.apply(lambda x:\n",
    "    ('GO:0043232' in x)>0).values].index.unique()\n",
    "all_mos.size, id_to_name['GO:0043232']"
   ]
  },
  {
   "cell_type": "markdown",
   "id": "be1e54bd",
   "metadata": {},
   "source": [
    "#### Proteins with compact IDRs that localize in nucleoli, nuclear speckles, nuclear bodies, and PML bodies"
   ]
  },
  {
   "cell_type": "code",
   "execution_count": 17,
   "id": "c70d34ec",
   "metadata": {},
   "outputs": [
    {
     "data": {
      "text/plain": [
       "(232, 'nucleolus', 'nuclear speck', 'nuclear body', 'PML body')"
      ]
     },
     "execution_count": 17,
     "metadata": {},
     "output_type": "execute_result"
    }
   ],
   "source": [
    "go_ids_nuclear_condensates = [name_to_id[name] for name in ['nucleolus','nuclear speck','nuclear body','PML body']]\n",
    "nuc_mos = GO_terms.loc[df_idrome.query(f'nu <= {lower_cutoff:g}').UniProt_ID][\n",
    "    GO_terms.loc[df_idrome.query(f'nu <= {lower_cutoff:g}').UniProt_ID].GO.apply(lambda x:\n",
    "    np.sum([i in go_ids_nuclear_condensates for i in x])>0).values].index.unique()\n",
    "nuc_mos.size, 'nucleolus', 'nuclear speck', 'nuclear body', 'PML body'"
   ]
  },
  {
   "cell_type": "markdown",
   "id": "235f51d0",
   "metadata": {},
   "source": [
    "#### Proteins with compact IDRs that localize in nucleoli, nuclear speckles, nuclear bodies, and PML bodies but are not annotated to localize in intracellular membraneless organelles"
   ]
  },
  {
   "cell_type": "code",
   "execution_count": 18,
   "id": "62de622d",
   "metadata": {},
   "outputs": [
    {
     "data": {
      "text/plain": [
       "54"
      ]
     },
     "execution_count": 18,
     "metadata": {},
     "output_type": "execute_result"
    }
   ],
   "source": [
    "go_ids_nuclear_condensates = [name_to_id[name] for name in ['nucleolus','nuclear speck','nuclear body','PML body']]\n",
    "nuc_mos_no_mos = GO_terms.loc[df_idrome.query(f'nu <= {lower_cutoff:g}').UniProt_ID][\n",
    "    GO_terms.loc[df_idrome.query(f'nu <= {lower_cutoff:g}').UniProt_ID].GO.apply(lambda x:\n",
    "    np.sum([i in go_ids_nuclear_condensates for i in x])>0 and 'GO:0043232' not in x).values].index.unique()\n",
    "nuc_mos_no_mos.size"
   ]
  },
  {
   "cell_type": "markdown",
   "id": "30e1def1",
   "metadata": {},
   "source": [
    "#### Calculate Odds Ratios for Enrichment in Cell Components of IDRs  in the Most Expanded 5%"
   ]
  },
  {
   "cell_type": "code",
   "execution_count": 19,
   "id": "be37bd84",
   "metadata": {},
   "outputs": [
    {
     "name": "stdout",
     "output_type": "stream",
     "text": [
      "(27129, 31)\n"
     ]
    }
   ],
   "source": [
    "# Load lists of GO terms for each UniProt ID (see go_analysis/uniprot_API_calls.py)\n",
    "GO_terms = pd.Series(pd.read_pickle('go_analysis/uniprot_dict.pkl')).to_frame(name='GO')\n",
    "# Load database\n",
    "df_GO = pd.read_csv('IDRome_DB.csv',index_col=0)\n",
    "\n",
    "g,u = np.unique(GO_terms.loc[df_GO.query(f'nu > {upper_cutoff:g}').UniProt_ID].GO.sum(),return_counts=True)\n",
    "\n",
    "curated_GO_terms_cellcom = np.unique([id_to_name[x] if x in cellcom else '' for x in g[u>=10]])\n",
    "\n",
    "curated_GO_terms_cellcom = curated_GO_terms_cellcom[curated_GO_terms_cellcom!=''].tolist()\n",
    "\n",
    "curated_GO_codes = []\n",
    "for name in curated_GO_terms_cellcom:\n",
    "    curated_GO_codes.append(name_to_id[name]) \n",
    "\n",
    "GO_terms.GO = GO_terms.GO.apply( lambda x : map_to_curated_codes(graph, x, curated_GO_codes, cellcom) )\n",
    "\n",
    "df_GO['UniProt_ID'] = df_GO.UniProt_ID.apply(lambda x: [x])\n",
    "df_GO['count_GO_terms'] = df_GO.UniProt_ID.apply(lambda x : len(GO_terms.loc[x].GO.values[0]))\n",
    "df_GO = df_GO[df_GO['count_GO_terms']>0]\n",
    "df_GO['GO_terms'] = df_GO.UniProt_ID.apply(\n",
    "    lambda x : [id_to_name[c] if c!='other' else 'other' for c in GO_terms.loc[x].GO.values[0]])\n",
    "df_GO.drop('count_GO_terms',axis=1,inplace=True)\n",
    "\n",
    "print(df_GO.shape)\n",
    "\n",
    "# bin nu values\n",
    "nu_intervals = pd.cut(df_GO['nu'], np.array([0, upper_cutoff, .8]))\n",
    "df_nu_stat_expanded = calc_ORs_Expanded(df_GO,GO_terms,nu_intervals,curated_GO_terms_cellcom)\n",
    "\n",
    "df_nu_stat_expanded.sort_values('OR',inplace=True)\n",
    "df_nu_stat_expanded.to_csv('go_analysis/GO_component_analysis_expanded.csv')"
   ]
  },
  {
   "cell_type": "code",
   "execution_count": 20,
   "id": "477bac47",
   "metadata": {},
   "outputs": [
    {
     "data": {
      "text/plain": [
       "1460"
      ]
     },
     "execution_count": 20,
     "metadata": {},
     "output_type": "execute_result"
    }
   ],
   "source": [
    "df_GO.query(f'nu > {upper_cutoff:g}').GO_terms.apply(lambda x: np.array(x).size>0).sum()"
   ]
  },
  {
   "cell_type": "markdown",
   "id": "d89cdeb1",
   "metadata": {},
   "source": [
    "#### Fig. 2"
   ]
  },
  {
   "cell_type": "code",
   "execution_count": null,
   "id": "2ecb2223",
   "metadata": {},
   "outputs": [
    {
     "name": "stdout",
     "output_type": "stream",
     "text": [
      "Molecular Function\n",
      "Compact DNA binding 1.4\n",
      "Compact transcription coregulator activity 1.5\n",
      "Compact chromatin binding 1.7\n",
      "Compact nucleic acid binding 1.8\n",
      "Compact RNA binding 2.0\n",
      "Compact helicase activity 2.3\n",
      "Compact single-stranded DNA binding 2.3\n",
      "Compact DNA helicase activity 2.3\n",
      "Compact histone binding 2.8\n",
      "Compact ATP-dependent chromatin remodeler activity 3.1\n",
      "Compact methylated histone binding 3.9\n",
      "Expanded RNA binding 1.6\n",
      "Expanded unfolded protein binding 3.2\n",
      "Expanded disordered domain specific binding 4.7\n",
      "Expanded ATP-dependent protein folding chaperone 5.1\n",
      "Expanded sodium-independent organic anion transmembrane transporter activity 5.9\n",
      "Expanded collagen fibril binding 18.8\n",
      "Expanded nucleosomal DNA binding 25.7\n",
      "Expanded structural constituent of chromatin 25.8\n",
      "Cell Component\n",
      "Compact intracellular membrane-bounded organelle 1.2\n",
      "Compact nucleoplasm 1.5\n",
      "Compact nucleus 1.5\n",
      "Compact nuclear body 1.7\n",
      "Compact nuclear chromosome 1.7\n",
      "Compact ribonucleoprotein complex 1.8\n",
      "Compact nucleolus 2.0\n",
      "Compact nuclear speck 2.1\n",
      "Compact nuclear matrix 2.2\n",
      "Compact spliceosomal complex 2.9\n",
      "Compact catalytic step 2 spliceosome 3.0\n",
      "Compact SWI/SNF complex 3.0\n",
      "Expanded nucleus 1.3\n",
      "Expanded intracellular membrane-bounded organelle 1.3\n",
      "Expanded cytoplasm 1.4\n",
      "Expanded protein-containing complex 1.4\n",
      "Expanded nucleoplasm 1.4\n",
      "Expanded cytosol 1.5\n",
      "Expanded nucleolus 1.7\n",
      "Expanded ribonucleoprotein complex 1.8\n",
      "Expanded nucleosome 6.2\n"
     ]
    }
   ],
   "source": [
    "# Load data on enrichment in compact chains\n",
    "df_nu_stat_compact_func = pd.read_csv('go_analysis/GO_function_analysis_compact.csv',index_col=0)\n",
    "df_nu_stat_compact_func = df_nu_stat_compact_func.query('correctedP < 0.01 and OR > 1')\n",
    "df_nu_stat_compact_comp = pd.read_csv('go_analysis/GO_component_analysis_compact.csv',index_col=0)\n",
    "df_nu_stat_compact_comp = df_nu_stat_compact_comp.query('correctedP < 0.01 and OR > 1')\n",
    "df_nu_stat_compact_func.asymmetric_err = df_nu_stat_compact_func.asymmetric_err.apply(lambda x : literal_eval(x))\n",
    "df_nu_stat_compact_comp.asymmetric_err = df_nu_stat_compact_comp.asymmetric_err.apply(lambda x : literal_eval(x))\n",
    "\n",
    "# Load data on enrichment in expanded chains\n",
    "df_nu_stat_expanded_func = pd.read_csv('go_analysis/GO_function_analysis_expanded.csv',index_col=0)\n",
    "df_nu_stat_expanded_func = df_nu_stat_expanded_func.query('correctedP < 0.001 and OR > 1')\n",
    "df_nu_stat_expanded_comp = pd.read_csv('go_analysis/GO_component_analysis_expanded.csv',index_col=0)\n",
    "df_nu_stat_expanded_comp = df_nu_stat_expanded_comp.query('correctedP < 0.001 and OR > 1')\n",
    "df_nu_stat_expanded_func.asymmetric_err = df_nu_stat_expanded_func.asymmetric_err.apply(lambda x : literal_eval(x))\n",
    "df_nu_stat_expanded_comp.asymmetric_err = df_nu_stat_expanded_comp.asymmetric_err.apply(lambda x : literal_eval(x))\n",
    "\n",
    "# Combine analyses for compact and expanded chains\n",
    "df_nu_stat_func = df_nu_stat_compact_func.join(df_nu_stat_expanded_func, lsuffix='_compact', rsuffix='_expanded', how='outer')\n",
    "df_nu_stat_func['OR'] = (df_nu_stat_func['OR_compact'].fillna(0) + df_nu_stat_func['OR_expanded'].fillna(0))/2\n",
    "df_nu_stat_func.sort_values('OR',inplace=True)\n",
    "\n",
    "df_nu_stat_comp = df_nu_stat_compact_comp.join(df_nu_stat_expanded_comp, lsuffix='_compact', rsuffix='_expanded', how='outer')\n",
    "df_nu_stat_comp['OR'] = (df_nu_stat_comp['OR_compact'].fillna(0) + df_nu_stat_comp['OR_expanded'].fillna(0))/2\n",
    "df_nu_stat_comp.sort_values('OR',inplace=True)\n",
    "\n",
    "fig, (ax1,ax2) = plt.subplots(2,1,figsize=(6.6,4.5))\n",
    "\n",
    "plt.setp(ax1.get_xticklabels(), visible=False)\n",
    "\n",
    "plt.rc('font', **{'family':'sans-serif','sans-serif':['Arial'], 'size': 6})\n",
    "\n",
    "y = np.arange(df_nu_stat_func.shape[0])+1\n",
    "\n",
    "df_nu_stat_func.asymmetric_err_compact = df_nu_stat_func.asymmetric_err_compact.apply(\n",
    "    lambda x : [np.nan,np.nan] if type(x)==float else x)\n",
    "asymmetric_error_compact = np.array(list(df_nu_stat_func.asymmetric_err_compact)).T\n",
    "\n",
    "ax1.errorbar(df_nu_stat_func.OR_compact,y,xerr=asymmetric_error_compact, fmt='.', ecolor = 'black',\n",
    "             elinewidth = 0.5,capsize = 1, color='k')\n",
    "\n",
    "df_nu_stat_func.asymmetric_err_expanded = df_nu_stat_func.asymmetric_err_expanded.apply(\n",
    "    lambda x : [np.nan,np.nan] if type(x)==float else x)\n",
    "asymmetric_error_expanded = np.array(list(df_nu_stat_func.asymmetric_err_expanded)).T\n",
    "\n",
    "ax1.errorbar(df_nu_stat_func.OR_expanded,y,xerr=asymmetric_error_expanded, fmt='.', ecolor = 'black',\n",
    "             elinewidth = 0.5,capsize = 1, color='k')\n",
    "    \n",
    "ax1.set_xscale('symlog')\n",
    "ax1.set_xticks([0,.5,1,1.5,2.5,5,10,20,50,100])\n",
    "ax1.set_xticklabels([f'{i:g}' for i in [0,.5,1,1.5,2.5,5,10,20,50,100]])\n",
    "ax1.set_yticks(y, df_nu_stat_func.index, rotation=0)\n",
    "ax1.set_ylim(0.2,df_nu_stat_func.shape[0]+1)\n",
    "ax1.set_xlim(.6,100)\n",
    "\n",
    "print('Molecular Function')\n",
    "\n",
    "labels = df_nu_stat_compact_func.index.values\n",
    "for func in labels:\n",
    "    y_text = df_nu_stat_func.index.get_loc(func)+.9\n",
    "    x_text = df_nu_stat_func.OR_compact[func]+df_nu_stat_func.asymmetric_err_compact[func][1]*1.2+.1\n",
    "    print('Compact',func,round(df_nu_stat_func.OR_compact[func],1))\n",
    "    correctedP = df_nu_stat_func.correctedP_compact[func]\n",
    "    ax1.text(x=x_text, y=y_text, \n",
    "             s=f'{correctedP:.1g} '+convert_pvalue_to_asterisks(correctedP),fontsize=6)\n",
    "for func in labels:\n",
    "    ax1.plot(df_nu_stat_func.loc[func].OR_compact,\n",
    "         df_nu_stat_func.index.get_loc(func)+1, marker='o', ms=3, \n",
    "             color=plt.cm.tab10(1),zorder=10)\n",
    "    \n",
    "labels = df_nu_stat_expanded_func.index.values\n",
    "for func in labels:\n",
    "    y_text = df_nu_stat_func.index.get_loc(func)+.9\n",
    "    x_text = df_nu_stat_func.OR_expanded[func]+df_nu_stat_func.asymmetric_err_expanded[func][1]*1.2\n",
    "    print('Expanded',func,round(df_nu_stat_func.OR_expanded[func],1))\n",
    "    if func in ['RNA binding']:\n",
    "        x_text = df_nu_stat_func.OR_expanded[func]-df_nu_stat_func.asymmetric_err_expanded[func][0]-.45\n",
    "    correctedP = df_nu_stat_func.correctedP_expanded[func]\n",
    "    ax1.text(x=x_text, y=y_text, \n",
    "             s=f'{correctedP:.1g} '+convert_pvalue_to_asterisks(correctedP),fontsize=6)\n",
    "for func in labels:\n",
    "    ax1.plot(df_nu_stat_func.loc[func].OR_expanded,\n",
    "         df_nu_stat_func.index.get_loc(func)+1, marker='o', ms=3, \n",
    "             color=plt.cm.tab10(2),zorder=10)\n",
    "    \n",
    "########################\n",
    "\n",
    "y = np.arange(df_nu_stat_comp.shape[0])+1\n",
    "\n",
    "df_nu_stat_comp.asymmetric_err_compact = df_nu_stat_comp.asymmetric_err_compact.apply(\n",
    "    lambda x : [np.nan,np.nan] if type(x)==float else x)\n",
    "asymmetric_error_compact = np.array(list(df_nu_stat_comp.asymmetric_err_compact)).T\n",
    "\n",
    "ax2.errorbar(df_nu_stat_comp.OR_compact,y,xerr=asymmetric_error_compact, fmt='.', ecolor = 'black',\n",
    "             elinewidth = 0.5,capsize = 1, color='k',label='$\\\\nu\\leq0.477$')\n",
    "\n",
    "df_nu_stat_comp.asymmetric_err_expanded = df_nu_stat_comp.asymmetric_err_expanded.apply(\n",
    "    lambda x : [np.nan,np.nan] if type(x)==float else x)\n",
    "asymmetric_error_expanded = np.array(list(df_nu_stat_comp.asymmetric_err_expanded)).T\n",
    "\n",
    "ax2.errorbar(df_nu_stat_comp.OR_expanded,y,xerr=asymmetric_error_expanded, fmt='.', ecolor = 'black',\n",
    "             elinewidth = 0.5,capsize = 1, color='k',label='$\\\\nu>0.581$')\n",
    "\n",
    "ax2.set_xscale('symlog')\n",
    "ax2.set_xticks([0,.5,1,1.5,2.5,5,10,20,50,100])\n",
    "ax2.set_xticklabels([f'{i:g}' for i in [0,.5,1,1.5,2.5,5,10,20,50,100]])\n",
    "ax2.set_yticks(y, [name.replace('speck','speckle') for name in df_nu_stat_comp.index], rotation=0)\n",
    "ax2.set_ylim(0.2,df_nu_stat_comp.shape[0]+1)\n",
    "ax2.set_xlim(.6,100)\n",
    "\n",
    "\n",
    "xbox1 = TextArea('Enrichment of GO Term in', textprops=dict(color='k',size=6,rotation=0,ha='left',va='bottom'))\n",
    "xbox2 = TextArea('Compact',     textprops=dict(color='tab:orange', size=6,rotation=0,ha='left',va='bottom'))\n",
    "xbox3 = TextArea('or', textprops=dict(color='k',size=6,rotation=0,ha='left',va='bottom'))\n",
    "xbox4 = TextArea('Expanded', textprops=dict(color='tab:green',size=6,rotation=0,ha='left',va='bottom'))\n",
    "xbox5 = TextArea('IDRs (Odds Ratio)', textprops=dict(color='k',size=6,rotation=0,ha='left',va='bottom'))\n",
    "\n",
    "\n",
    "xbox = HPacker(children=[xbox1, xbox2, xbox3, xbox4, xbox5],align=\"bottom\", pad=0, sep=2)\n",
    "\n",
    "anchored_ybox = AnchoredOffsetbox(loc=8, child=xbox, pad=0., frameon=False, bbox_to_anchor=(0.5, -.185), \n",
    "                                  bbox_transform=ax2.transAxes, borderpad=0.)\n",
    "\n",
    "ax2.add_artist(anchored_ybox)\n",
    "#ax2.set_xlabel(r'Enrichment in Compact or Expanded IDRs (Odds Ratio)')\n",
    "\n",
    "print('Cell Component')\n",
    "\n",
    "labels = df_nu_stat_compact_comp.index.values\n",
    "for comp in labels:\n",
    "    y_text = df_nu_stat_comp.index.get_loc(comp)+.9\n",
    "    x_text = df_nu_stat_comp.OR_compact[comp]+df_nu_stat_comp.asymmetric_err_compact[comp][1]*1.2+.1\n",
    "    print('Compact',comp,round(df_nu_stat_comp.OR_compact[comp],1))\n",
    "    if comp in ['intracellular membrane-bounded organelle']:\n",
    "        x_text = df_nu_stat_comp.OR_expanded[comp]-df_nu_stat_comp.asymmetric_err_expanded[comp][0]-.45\n",
    "    correctedP = df_nu_stat_comp.correctedP_compact[comp]\n",
    "    ax2.text(x=x_text, y=y_text, \n",
    "             s=f'{correctedP:.1g} '+convert_pvalue_to_asterisks(correctedP),fontsize=6)\n",
    "for comp in labels:\n",
    "    ax2.plot(df_nu_stat_comp.loc[comp].OR_compact,\n",
    "         df_nu_stat_comp.index.get_loc(comp)+1, marker='o', ms=3, \n",
    "             color=plt.cm.tab10(1),zorder=10)\n",
    "    \n",
    "labels = df_nu_stat_expanded_comp.index.values\n",
    "for comp in labels:\n",
    "    y_text = df_nu_stat_comp.index.get_loc(comp)+.9\n",
    "    x_text = df_nu_stat_comp.OR_expanded[comp]+df_nu_stat_comp.asymmetric_err_expanded[comp][1]*1.2+.1\n",
    "    print('Expanded',comp,round(df_nu_stat_comp.OR_expanded[comp],1))\n",
    "    if comp in ['nucleolus','ribonucleoprotein complex','nucleoplasm','nucleus']:\n",
    "        x_text = df_nu_stat_comp.OR_expanded[comp]-df_nu_stat_comp.asymmetric_err_expanded[comp][0]-.45\n",
    "    correctedP = df_nu_stat_comp.correctedP_expanded[comp]\n",
    "    ax2.text(x=x_text, y=y_text, \n",
    "             s=f'{correctedP:.1g} '+convert_pvalue_to_asterisks(correctedP),fontsize=6)\n",
    "for comp in labels:\n",
    "    ax2.plot(df_nu_stat_comp.loc[comp].OR_expanded,\n",
    "         df_nu_stat_comp.index.get_loc(comp)+1, marker='o', ms=3, \n",
    "             color=plt.cm.tab10(2),zorder=10)\n",
    "    \n",
    "ax1.spines['right'].set_visible(False)\n",
    "ax1.spines['top'].set_visible(False)\n",
    "ax2.spines['right'].set_visible(False)\n",
    "ax2.spines['top'].set_visible(False)\n",
    "\n",
    "ax1.annotate(f'$\\\\nu\\leq{lower_cutoff:g}$',xy=(.7,.22),xycoords='axes fraction',\n",
    "             color='tab:orange',fontsize=8)\n",
    "ax1.annotate(f'$\\\\nu>{upper_cutoff:g}$',xy=(.7,.12),xycoords='axes fraction',\n",
    "             color='tab:green',fontsize=8)\n",
    "\n",
    "ax2.annotate(f'$\\\\nu\\leq{lower_cutoff:g}$',xy=(.7,.22),xycoords='axes fraction',\n",
    "             color='tab:orange',fontsize=8)\n",
    "ax2.annotate(f'$\\\\nu>{upper_cutoff:g}$',xy=(.7,.12),xycoords='axes fraction',\n",
    "             color='tab:green',fontsize=8)\n",
    "    \n",
    "fig.text(0.02, .96, 'A', fontsize=10)\n",
    "fig.text(0.02, .52, 'B', fontsize=10)\n",
    "    \n",
    "plt.tight_layout()\n",
    "plt.savefig('figs/fig2.pdf')"
   ]
  },
  {
   "cell_type": "markdown",
   "id": "60a5b146",
   "metadata": {},
   "source": [
    "#### Generate table with molecular functions"
   ]
  },
  {
   "cell_type": "code",
   "execution_count": 22,
   "id": "88ff3f8f",
   "metadata": {},
   "outputs": [],
   "source": [
    "# Load lists of GO terms for each UniProt ID (see go_analysis/uniprot_API_calls.py)\n",
    "GO_terms = pd.Series(pd.read_pickle('go_analysis/uniprot_dict.pkl')).to_frame(name='GO')\n",
    "# Load database\n",
    "df_GO = pd.read_csv('IDRome_DB.csv',index_col=0)[['nu','UniProt_ID']]\n",
    "\n",
    "curated_GO_codes = []\n",
    "for name in df_nu_stat_func.index:\n",
    "    curated_GO_codes.append(name_to_id[name]) \n",
    "GO_terms.GO = GO_terms.GO.apply( lambda x : map_to_curated_codes(graph, x, curated_GO_codes, molfunc) )\n",
    "\n",
    "for code,func in zip(curated_GO_codes,df_nu_stat_func.index):    \n",
    "    df_GO[func.replace(' ','_')] = df_GO.UniProt_ID.apply(lambda x : code in GO_terms.loc[x].GO)\n",
    "    \n",
    "df_GO.to_csv('go_analysis/IDRome_molfunc.csv')\n",
    "df_GO.to_excel('go_analysis/IDRome_molfunc.xlsx')  "
   ]
  },
  {
   "cell_type": "markdown",
   "id": "834df750",
   "metadata": {},
   "source": [
    "#### Generate table with cellular component"
   ]
  },
  {
   "cell_type": "code",
   "execution_count": 23,
   "id": "e99f96cd",
   "metadata": {},
   "outputs": [],
   "source": [
    "# Load lists of GO terms for each UniProt ID (see go_analysis/uniprot_API_calls.py)\n",
    "GO_terms = pd.Series(pd.read_pickle('go_analysis/uniprot_dict.pkl')).to_frame(name='GO')\n",
    "# Load database\n",
    "df_GO = pd.read_csv('IDRome_DB.csv',index_col=0)[['nu','UniProt_ID']]\n",
    "\n",
    "curated_GO_codes = []\n",
    "for name in df_nu_stat_comp.index:\n",
    "    curated_GO_codes.append(name_to_id[name]) \n",
    "GO_terms.GO = GO_terms.GO.apply( lambda x : map_to_curated_codes(graph, x, curated_GO_codes, cellcom) )\n",
    "\n",
    "for code,func in zip(curated_GO_codes,df_nu_stat_comp.index):    \n",
    "    df_GO[func.replace(' ','_')] = df_GO.UniProt_ID.apply(lambda x : code in GO_terms.loc[x].GO)\n",
    "    \n",
    "df_GO.to_csv('go_analysis/IDRome_cellcom.csv')\n",
    "df_GO.to_excel('go_analysis/IDRome_cellcom.xlsx')  "
   ]
  },
  {
   "cell_type": "code",
   "execution_count": null,
   "id": "4d36a188",
   "metadata": {},
   "outputs": [],
   "source": []
  }
 ],
 "metadata": {
  "kernelspec": {
   "display_name": "Python 3 (ipykernel)",
   "language": "python",
   "name": "python3"
  },
  "language_info": {
   "codemirror_mode": {
    "name": "ipython",
    "version": 3
   },
   "file_extension": ".py",
   "mimetype": "text/x-python",
   "name": "python",
   "nbconvert_exporter": "python",
   "pygments_lexer": "ipython3",
   "version": "3.8.16"
  }
 },
 "nbformat": 4,
 "nbformat_minor": 5
}
