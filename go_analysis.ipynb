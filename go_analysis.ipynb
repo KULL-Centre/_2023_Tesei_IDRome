{
 "cells": [
  {
   "cell_type": "markdown",
   "id": "61546d99",
   "metadata": {},
   "source": [
    "## Gene Ontology Analysis\n",
    "\n",
    "This notebook reproduces Fig. 2\n",
    "\n",
    "Authors: Anna Ida Trolle and Giulio Tesei\n",
    "\n",
    "Contact: giulio.tesei@bio.ku.dk"
   ]
  },
  {
   "cell_type": "code",
   "execution_count": 18,
   "id": "11562a0e",
   "metadata": {},
   "outputs": [],
   "source": [
    "import numpy as np \n",
    "import pandas as pd\n",
    "import matplotlib.pyplot as plt\n",
    "import matplotlib as mpl\n",
    "import seaborn as sns\n",
    "from collections import Counter\n",
    "import scipy as sc\n",
    "from scipy.stats import fisher_exact\n",
    "from scipy.stats.contingency import odds_ratio\n",
    "import pickle\n",
    "from matplotlib.patches import Patch\n",
    "from scipy import stats\n",
    "import statsmodels.stats.multitest\n",
    "from functools import partial\n",
    "from localcider.sequenceParameters import SequenceParameters\n",
    "from scipy.stats import binned_statistic\n",
    "from scipy.stats import binned_statistic_2d\n",
    "from scipy import integrate\n",
    "from ast import literal_eval\n",
    "import warnings\n",
    "warnings.filterwarnings('ignore')\n",
    "import networkx as nx\n",
    "import obonet\n",
    "from matplotlib.offsetbox import AnchoredOffsetbox, TextArea, HPacker, VPacker\n",
    "# function to calculate standard error of the mean\n",
    "se = lambda x : np.std(x)/np.sqrt(x.size)\n",
    "se.__name__ = 'SE'\n",
    "\n",
    "def map_to_curated_codes(graph, GO_terms, curated_GO_codes, nodes):\n",
    "    new_codes = np.empty(0)\n",
    "    for code in GO_terms:\n",
    "        if code in nodes and code != 'unknown':\n",
    "            ancestors = list(nx.dfs_predecessors(graph, source=code, depth_limit=None).values())\n",
    "            ancestors += list(nx.dfs_predecessors(graph, source=code, depth_limit=None).keys())\n",
    "            intersect = np.intersect1d(ancestors, curated_GO_codes)\n",
    "            if intersect.size==0:\n",
    "                intersect = np.append(intersect, 'other')\n",
    "            new_codes = np.append(new_codes, intersect)\n",
    "    return np.unique(new_codes).tolist()\n",
    "    \n",
    "def generate_BM_pvalues_csv(df_idrome,prop_nu,prop_SPR,GO_dict,nodes_cat,label):\n",
    "    # Copy dict of GO terms for each UniProt ID (see go_analysis/uniprot_API_calls.py)\n",
    "    GO_terms = GO_dict.copy() \n",
    "    # Copy database\n",
    "    df_GO = df_idrome.copy()\n",
    "    \n",
    "    g,u = np.unique(GO_dict.loc[df_idrome.UniProt_ID].GO.sum(),return_counts=True)\n",
    "    curated_GO_codes = g[u>=200]\n",
    "    curated_GO_codes = np.unique(np.intersect1d(curated_GO_codes,nodes_cat))\n",
    "    curated_GO_terms = [id_to_name[x] for x in curated_GO_codes]\n",
    "    GO_terms.GO = GO_terms.GO.apply( lambda x : map_to_curated_codes(graph, x, curated_GO_codes, nodes_cat) )\n",
    "\n",
    "    df_GO['UniProt_ID'] = df_GO.UniProt_ID.apply(lambda x: [x])\n",
    "    df_GO['count_GO_terms'] = df_GO.UniProt_ID.apply(lambda x : len(GO_terms.loc[x].GO.values[0]))\n",
    "    df_GO = df_GO[df_GO['count_GO_terms']>0]\n",
    "    df_GO['GO_terms'] = df_GO.UniProt_ID.apply(\n",
    "        lambda x : [id_to_name[c] if c!='other' else 'other' for c in GO_terms.loc[x].GO.values[0]])\n",
    "    df_GO.drop('count_GO_terms',axis=1,inplace=True)\n",
    "    \n",
    "    print(df_GO.shape[0])\n",
    "    \n",
    "    pvalues = pd.DataFrame(index=curated_GO_terms)\n",
    "    for name in curated_GO_terms:\n",
    "        bool_term = df_GO.GO_terms.apply(lambda x : name in x).values\n",
    "        pvalues.loc[name,'nu_two_sided'] = stats.brunnermunzel(df_GO[bool_term][prop_nu], \n",
    "                        df_GO[~bool_term][prop_nu], alternative='two-sided')[1]\n",
    "        pvalues.loc[name,'nu_pvalue_g'] = stats.brunnermunzel(df_GO[bool_term][prop_nu], \n",
    "                        df_GO[~bool_term][prop_nu], alternative='greater')[1]\n",
    "        pvalues.loc[name,'nu_pvalue_l'] = stats.brunnermunzel(df_GO[bool_term][prop_nu], \n",
    "                        df_GO[~bool_term][prop_nu], alternative='less')[1]\n",
    "        \n",
    "        if pvalues.loc[name,'nu_pvalue_l'] < pvalues.loc[name,'nu_pvalue_g']:\n",
    "            pvalues.loc[name,'nu_one_sided'] = pvalues.loc[name,\"nu_pvalue_l\"]\n",
    "            if pvalues.loc[name,'nu_one_sided'] < 1e-10:\n",
    "                text_in_table = '\\textcolor{orange}{'+f'$<${1e-10:.1g}'+'}'\n",
    "            else:\n",
    "                text_in_table = '\\textcolor{orange}{'+f'{pvalues.loc[name,\"nu_one_sided\"]:.1g}'+'}'\n",
    "            pvalues.loc[name,'nu_one_sided_table'] = text_in_table\n",
    "        else:\n",
    "            pvalues.loc[name,'nu_one_sided'] = pvalues.loc[name,\"nu_pvalue_g\"]\n",
    "            if pvalues.loc[name,'nu_one_sided'] < 1e-10:\n",
    "                text_in_table = '\\textcolor{green}{'+f'$<${1e-10:.1g}'+'}'\n",
    "            else:\n",
    "                text_in_table = '\\textcolor{green}{'+f'{pvalues.loc[name,\"nu_one_sided\"]:.1g}'+'}'\n",
    "            pvalues.loc[name,'nu_one_sided_table'] = text_in_table\n",
    "            \n",
    "        pvalues.loc[name,'SPR_two_sided'] = stats.brunnermunzel(df_GO[bool_term][prop_SPR], \n",
    "                        df_GO[~bool_term][prop_SPR], alternative='two-sided')[1]\n",
    "        pvalues.loc[name,'SPR_pvalue_g'] = stats.brunnermunzel(df_GO[bool_term][prop_SPR], \n",
    "                        df_GO[~bool_term][prop_SPR], alternative='greater')[1]\n",
    "        pvalues.loc[name,'SPR_pvalue_l'] = stats.brunnermunzel(df_GO[bool_term][prop_SPR], \n",
    "                        df_GO[~bool_term][prop_SPR], alternative='less')[1]\n",
    "        \n",
    "        if pvalues.loc[name,'SPR_pvalue_l'] < pvalues.loc[name,'SPR_pvalue_g']:\n",
    "            pvalues.loc[name,'SPR_one_sided'] = pvalues.loc[name,\"SPR_pvalue_l\"]\n",
    "            if pvalues.loc[name,'SPR_one_sided'] < 1e-10:\n",
    "                text_in_table = '\\textcolor{orange}{'+f'$<${1e-10:.1g}'+'}'\n",
    "            else:\n",
    "                text_in_table = '\\textcolor{orange}{'+f'{pvalues.loc[name,\"SPR_one_sided\"]:.1g}'+'}'\n",
    "            pvalues.loc[name,'SPR_one_sided_table'] = text_in_table\n",
    "        else:\n",
    "            pvalues.loc[name,'SPR_one_sided'] = pvalues.loc[name,\"SPR_pvalue_g\"]\n",
    "            if pvalues.loc[name,'SPR_one_sided'] < 1e-10:\n",
    "                text_in_table = '\\textcolor{green}{'+f'$<${1e-10:.1g}'+'}'\n",
    "            else:\n",
    "                text_in_table = '\\textcolor{green}{'+f'{pvalues.loc[name,\"SPR_one_sided\"]:.1g}'+'}'\n",
    "            pvalues.loc[name,'SPR_one_sided_table'] = text_in_table\n",
    "            \n",
    "        pvalues.loc[name,'n'] = df_GO[bool_term].shape[0]\n",
    "    pvalues = pvalues.query('nu_one_sided<=1e-5 or SPR_one_sided<=1e-5').sort_values(by='nu_two_sided')\n",
    "    pvalues.to_csv(f'go_analysis/GO_BM_pvalues_{label:s}.csv')\n",
    "    return df_GO"
   ]
  },
  {
   "cell_type": "markdown",
   "id": "83fe7e33",
   "metadata": {},
   "source": [
    "#### Load basic version of the GO"
   ]
  },
  {
   "cell_type": "code",
   "execution_count": 19,
   "id": "47cc03de",
   "metadata": {},
   "outputs": [],
   "source": [
    "url = 'http://purl.obolibrary.org/obo/go/go-basic.obo'\n",
    "graph = obonet.read_obo(url)\n",
    "\n",
    "id_to_name = {id_: data.get('name') for id_, data in graph.nodes(data=True)}\n",
    "name_to_id = {data['name']: id_ for id_, data in graph.nodes(data=True) if 'name' in data}"
   ]
  },
  {
   "cell_type": "markdown",
   "id": "8cd822c2",
   "metadata": {},
   "source": [
    "#### Get nodes connected to molecular function, biological process, and cellular component"
   ]
  },
  {
   "cell_type": "code",
   "execution_count": 20,
   "id": "f650e991",
   "metadata": {},
   "outputs": [
    {
     "name": "stdout",
     "output_type": "stream",
     "text": [
      "GO:0003674 GO:0008150 GO:0005575\n"
     ]
    }
   ],
   "source": [
    "print(name_to_id['molecular_function'],name_to_id['biological_process'],name_to_id['cellular_component'])\n",
    "molfunc = list(nx.ancestors(graph, 'GO:0003674')) # all nodes connected to molecular function\n",
    "bioproc = list(nx.ancestors(graph, 'GO:0008150')) # all nodes connected to biological process\n",
    "cellcom = list(nx.ancestors(graph, 'GO:0005575')) # all nodes connected to cellular component"
   ]
  },
  {
   "cell_type": "markdown",
   "id": "5dc7f541",
   "metadata": {},
   "source": [
    "# Brunner Munzel Test on $\\nu$ and $S_{conf}$ Distributions"
   ]
  },
  {
   "cell_type": "code",
   "execution_count": 21,
   "id": "a87b7193",
   "metadata": {},
   "outputs": [
    {
     "name": "stdout",
     "output_type": "stream",
     "text": [
      "22449\n",
      "25368\n"
     ]
    }
   ],
   "source": [
    "df_idrome = pd.read_csv('IDRome_DB.csv',index_col=0)\n",
    "GO_dict = pd.Series(pd.read_pickle('go_analysis/uniprot_dict.pkl')).to_frame(name='GO')\n",
    "df_GO_molfunc = generate_BM_pvalues_csv(df_idrome,'nu','SPR',GO_dict,molfunc,'molfunc')\n",
    "df_GO_cellcom = generate_BM_pvalues_csv(df_idrome,'nu','SPR',GO_dict,cellcom,'cellcom')\n",
    "\n",
    "df_GO_molfunc.to_pickle('go_analysis/df_GO_molfunc.pkl')\n",
    "df_GO_cellcom.to_pickle('go_analysis/df_GO_cellcom.pkl')"
   ]
  },
  {
   "cell_type": "code",
   "execution_count": 26,
   "id": "6759687c",
   "metadata": {},
   "outputs": [
    {
     "name": "stdout",
     "output_type": "stream",
     "text": [
      "17245\n",
      "19620\n"
     ]
    }
   ],
   "source": [
    "df_idrome = pd.read_csv('IDRome_DB.csv',index_col=0)\n",
    "df_idrome = df_idrome.query('fdomain == 0')\n",
    "GO_dict = pd.Series(pd.read_pickle('go_analysis/uniprot_dict.pkl')).to_frame(name='GO')\n",
    "_ = generate_BM_pvalues_csv(df_idrome,'nu','SPR',GO_dict,molfunc,'molfunc_no_domains')\n",
    "_ = generate_BM_pvalues_csv(df_idrome,'nu','SPR',GO_dict,cellcom,'cellcom_no_domains')"
   ]
  },
  {
   "cell_type": "code",
   "execution_count": 27,
   "id": "114d824e",
   "metadata": {},
   "outputs": [
    {
     "name": "stdout",
     "output_type": "stream",
     "text": [
      "17136\n",
      "19293\n"
     ]
    }
   ],
   "source": [
    "df_idrome_spot = pd.read_csv('IDRome_DB_SPOT.csv',index_col=0)\n",
    "GO_dict_spot = pd.Series(pd.read_pickle('go_analysis/uniprot_dict_SPOT.pkl')).to_frame(name='GO')\n",
    "_ = generate_BM_pvalues_csv(df_idrome_spot,'nu_svr','SPR_svr',GO_dict_spot,molfunc,'molfunc_spot')\n",
    "_ = generate_BM_pvalues_csv(df_idrome_spot,'nu_svr','SPR_svr',GO_dict_spot,cellcom,'cellcom_spot')"
   ]
  },
  {
   "cell_type": "code",
   "execution_count": 28,
   "id": "ee4891d2",
   "metadata": {},
   "outputs": [],
   "source": [
    "df_molfunc = pd.read_csv('go_analysis/GO_BM_pvalues_molfunc.csv',index_col=0)\n",
    "df_molfunc_no_domains = pd.read_csv('go_analysis/GO_BM_pvalues_molfunc_no_domains.csv',index_col=0)\n",
    "df_molfunc_spot = pd.read_csv('go_analysis/GO_BM_pvalues_molfunc_spot.csv',index_col=0)\n",
    "\n",
    "df_cellcom = pd.read_csv('go_analysis/GO_BM_pvalues_cellcom.csv',index_col=0)\n",
    "df_cellcom_no_domains = pd.read_csv('go_analysis/GO_BM_pvalues_cellcom_no_domains.csv',index_col=0)\n",
    "df_cellcom_spot = pd.read_csv('go_analysis/GO_BM_pvalues_cellcom_spot.csv',index_col=0)"
   ]
  },
  {
   "cell_type": "markdown",
   "id": "ce6632bb",
   "metadata": {},
   "source": [
    "#### Tab. S1"
   ]
  },
  {
   "cell_type": "code",
   "execution_count": 29,
   "id": "005cc60c",
   "metadata": {},
   "outputs": [],
   "source": [
    "df_molfunc_all = df_molfunc[['nu_one_sided','nu_one_sided_table','SPR_one_sided_table']].join(\n",
    "                 df_molfunc_no_domains[['nu_one_sided_table','SPR_one_sided_table']], \n",
    "                 lsuffix='_pLDDT', rsuffix='_nodomain', how='outer')\n",
    "df_molfunc_all = df_molfunc_all.join(\n",
    "                 df_molfunc_spot[['nu_one_sided_table','SPR_one_sided_table']],how='outer')\n",
    "df_molfunc_all = df_molfunc_all.sort_values('nu_one_sided')\n",
    "df_molfunc_all.drop('nu_one_sided',axis=1,inplace=True)\n",
    "df_molfunc_all.dropna().index\n",
    "with pd.option_context(\"max_colwidth\", 1000):\n",
    "    a = df_molfunc_all.dropna().to_latex()\n",
    "#print(a.replace('\\\\','').replace('textbackslash ','\\\\').replace(\n",
    "#    'toprule','').replace('midrule','').replace('bottomrule','').replace('\\n','\\\\\\\\\\n\\hline\\n'))"
   ]
  },
  {
   "cell_type": "markdown",
   "id": "5f26112d",
   "metadata": {},
   "source": [
    "#### Tab. S2"
   ]
  },
  {
   "cell_type": "code",
   "execution_count": 30,
   "id": "ed8388e9",
   "metadata": {},
   "outputs": [],
   "source": [
    "df_cellcom_all = df_cellcom[['nu_one_sided','nu_one_sided_table','SPR_one_sided_table']].join(\n",
    "                 df_cellcom_no_domains[['nu_one_sided_table','SPR_one_sided_table']], \n",
    "                 lsuffix='_pLDDT', rsuffix='_nodomain', how='outer')\n",
    "df_cellcom_all = df_cellcom_all.join(\n",
    "                 df_cellcom_spot[['nu_one_sided_table','SPR_one_sided_table']],how='outer')\n",
    "df_cellcom_all = df_cellcom_all.sort_values('nu_one_sided')\n",
    "df_cellcom_all.drop('nu_one_sided',axis=1,inplace=True)\n",
    "df_cellcom_all.dropna().index\n",
    "with pd.option_context(\"max_colwidth\", 1000):\n",
    "    a = df_cellcom_all.dropna().to_latex()\n",
    "#print(a.replace('\\\\','').replace('textbackslash ','\\\\').replace(\n",
    "#    'toprule','').replace('midrule','').replace('bottomrule','').replace('\\n','\\\\\\\\\\n\\hline\\n'))"
   ]
  },
  {
   "cell_type": "markdown",
   "id": "a973a4d2",
   "metadata": {},
   "source": [
    "#### Fig. 2 _A_"
   ]
  },
  {
   "cell_type": "code",
   "execution_count": 32,
   "id": "70aa32a6",
   "metadata": {},
   "outputs": [
    {
     "name": "stdout",
     "output_type": "stream",
     "text": [
      "transcription cis-regulatory region binding two-sided 0\n",
      "transcription cis-regulatory region binding less 0\n",
      "transcription cis-regulatory region binding greater 1\n",
      "G protein-coupled receptor activity two-sided 3e-06\n",
      "G protein-coupled receptor activity less 1\n",
      "G protein-coupled receptor activity greater 1e-06\n",
      "chromatin binding two-sided 1e-07\n",
      "chromatin binding less 5e-08\n",
      "chromatin binding greater 1\n",
      "GTP binding two-sided 5e-08\n",
      "GTP binding less 1\n",
      "GTP binding greater 2e-08\n",
      "ATP binding two-sided 1e-17\n",
      "ATP binding less 1\n",
      "ATP binding greater 7e-18\n",
      "signaling receptor activity two-sided 1e-30\n",
      "signaling receptor activity less 1\n",
      "signaling receptor activity greater 5e-31\n"
     ]
    },
    {
     "data": {
      "image/png": "[encoded data removed]",
      "text/plain": [
       "<Figure size 300x380 with 6 Axes>"
      ]
     },
     "metadata": {},
     "output_type": "display_data"
    }
   ],
   "source": [
    "f, axes = plt.subplots(3, 2, sharex=False, sharey=False, figsize=(3,3.8))\n",
    "plt.rc('font', **{'family':'sans-serif','sans-serif':['Arial'], 'size': 6})\n",
    "\n",
    "bin_width = .006\n",
    "bins = np.arange(0.25, .74,bin_width)\n",
    "x = bins[:-1]+bin_width/2.\n",
    "\n",
    "for name,ax in zip(['transcription cis-regulatory region binding','G protein-coupled receptor activity',\n",
    "                    'chromatin binding','GTP binding'],axes.flatten()):\n",
    "    bool_term = df_GO_molfunc.GO_terms.apply(lambda x : name in x).values\n",
    "    #bool_term *= (df_GO_molfunc.fdomain == 0)\n",
    "    \n",
    "    h = np.histogram(df_GO_molfunc[bool_term].nu,bins=bins,density=True)[0]\n",
    "    \n",
    "    N_IDRs = df_GO_molfunc[bool_term].shape[0]\n",
    "    \n",
    "    ax.hist(df_GO_molfunc[~bool_term].nu,bins,density=True,histtype='step',color='k',zorder=0)\n",
    "\n",
    "    res = stats.levene(df_GO_molfunc[bool_term].nu, df_GO_molfunc[~bool_term].nu)\n",
    "    statistic, p_twosided = stats.brunnermunzel(df_GO_molfunc[bool_term].nu, \n",
    "                                                df_GO_molfunc[~bool_term].nu, alternative='two-sided')\n",
    "    statistic, p_less = stats.brunnermunzel(df_GO_molfunc[bool_term].nu, \n",
    "                                            df_GO_molfunc[~bool_term].nu, alternative='less')\n",
    "    statistic, p_greater = stats.brunnermunzel(df_GO_molfunc[bool_term].nu, \n",
    "                                               df_GO_molfunc[~bool_term].nu, alternative='greater')\n",
    "    \n",
    "    p_value = p_twosided\n",
    "    if p_twosided<0.05 and p_less<0.05 and p_less<p_greater:\n",
    "        color = 'tab:orange'\n",
    "        label = f'{p_twosided:.1g}'\n",
    "        p_value = p_less\n",
    "        if p_twosided<p_less:\n",
    "            print('p_twosided<p_less')\n",
    "    elif p_twosided<0.05 and p_greater<0.05:\n",
    "        color = 'tab:green'\n",
    "        label = f'{p_twosided:.1g}'\n",
    "        p_value = p_greater\n",
    "        if p_twosided<p_greater:\n",
    "            print('p_twosided<p_greater')\n",
    "    else:\n",
    "        color = 'k'\n",
    "        \n",
    "    print(name,'two-sided',f'{p_twosided:.1g}')\n",
    "    print(name,'less',f'{p_less:.1g}')\n",
    "    print(name,'greater',f'{p_greater:.1g}')\n",
    "    \n",
    "    p_value_label = f'{p_value:.1g}' if p_value >= 1e-10 else '$<$1e-10'\n",
    "    \n",
    "    ax.bar(x,h,alpha=.7,width=bin_width,color=color,\n",
    "          label=f'{N_IDRs:d}\\nIDRs'+f'\\n\\n$p$-value:\\n'+p_value_label)\n",
    "    \n",
    "    if name == 'transcription cis-regulatory region binding':\n",
    "        ax.set_title('Transcription cis-regulatory\\nregion binding')\n",
    "    elif name == 'GTP binding':\n",
    "        ax.set_title('GTP binding')\n",
    "    elif name == 'chromatin binding':\n",
    "        ax.set_title('Chromatin binding')\n",
    "    elif name == 'G protein-coupled receptor activity':\n",
    "        ax.set_title('G protein-coupled\\nreceptor activity')\n",
    "    else:\n",
    "        ax.set_title(name.capitalize())\n",
    "    ax.set_xlim(.38,.69)\n",
    "    legend = ax.legend(handlelength=0,frameon=False,borderpad=0,loc=(-.02,.28))\n",
    "    legend.get_title().set_ha('center')  \n",
    "    \n",
    "bin_width = .03\n",
    "bins = np.arange(9.3, 11.5,bin_width)\n",
    "x = bins[:-1]+bin_width/2.\n",
    "\n",
    "for name,ax in zip(['ATP binding',\n",
    "                    'signaling receptor activity'],axes.flatten()[-2:]):\n",
    "    bool_term = df_GO_molfunc.GO_terms.apply(lambda x : name in x).values\n",
    "    bool_term *= (df_GO_molfunc.fdomain == 0)\n",
    "    \n",
    "    h = np.histogram(df_GO_molfunc[bool_term].SPR,bins=bins,density=True)[0]\n",
    "        \n",
    "    N_IDRs = df_GO_molfunc[bool_term].shape[0]\n",
    "    \n",
    "    ax.hist(df_GO_molfunc[~bool_term].SPR,bins,density=True,histtype='step',color='k',zorder=0)\n",
    "\n",
    "    res = stats.levene(df_GO_molfunc[bool_term].SPR, df_GO_molfunc[~bool_term].SPR)\n",
    "    statistic, p_twosided = stats.brunnermunzel(df_GO_molfunc[bool_term].SPR, \n",
    "                                                df_GO_molfunc[~bool_term].SPR, alternative='two-sided')\n",
    "    statistic, p_less = stats.brunnermunzel(df_GO_molfunc[bool_term].SPR, \n",
    "                                            df_GO_molfunc[~bool_term].SPR, alternative='less')\n",
    "    statistic, p_greater = stats.brunnermunzel(df_GO_molfunc[bool_term].SPR, \n",
    "                                               df_GO_molfunc[~bool_term].SPR, alternative='greater')\n",
    "    \n",
    "    p_value = p_twosided\n",
    "    if p_twosided<0.05 and p_less<0.05 and p_less<p_greater:\n",
    "        color = 'tab:orange'\n",
    "        label = f'{p_twosided:.1g}'\n",
    "        p_value = p_less\n",
    "        if p_twosided<p_less:\n",
    "            print('p_twosided<p_less')\n",
    "    elif p_twosided<0.05 and p_greater<0.05:\n",
    "        color = 'tab:green'\n",
    "        label = f'{p_twosided:.1g}'\n",
    "        p_value = p_greater\n",
    "        if p_twosided<p_greater:\n",
    "            print('p_twosided<p_greater')\n",
    "    else:\n",
    "        color = 'k'\n",
    "        \n",
    "    print(name,'two-sided',f'{p_twosided:.1g}')\n",
    "    print(name,'less',f'{p_less:.1g}')\n",
    "    print(name,'greater',f'{p_greater:.1g}')\n",
    "    \n",
    "    p_value_label = f'{p_value:.1g}' if p_value >= 1e-10 else '$<$1e-10'\n",
    "    \n",
    "    ax.bar(x,h,alpha=.7,width=bin_width,color=color,\n",
    "          label=f'{N_IDRs:d}\\nIDRs'+f'\\n\\n$p$-value:\\n'+p_value_label)\n",
    "    if name == 'ATP binding':\n",
    "        ax.set_title('ATP binding')\n",
    "    else:\n",
    "        ax.set_title(name.capitalize())\n",
    "    ax.set_xlim(9.5,10.8)\n",
    "    legend = ax.legend(handlelength=0,frameon=False,borderpad=0,loc=(-.02,.28))\n",
    "    legend.get_title().set_ha('center')    \n",
    "    \n",
    "for ax in axes[:2,:].flatten():\n",
    "    ax.set_xlabel('$\\\\nu$')\n",
    "for ax in axes[:2,0]:\n",
    "    ax.set_ylabel('$P(\\\\nu)$')\n",
    "for ax in axes[-1,:]:\n",
    "    ax.set_xlabel('$S_{conf}/N$')\n",
    "for ax in axes[-1:,0]:\n",
    "    ax.set_ylabel('$P(S_{conf}/N)$')    \n",
    "    \n",
    "plt.tight_layout(h_pad=0)\n",
    "plt.savefig('figs/fig2_molfunc.pdf')\n",
    "plt.show()"
   ]
  },
  {
   "cell_type": "markdown",
   "id": "c78ee9e8",
   "metadata": {},
   "source": [
    "#### Fig. 2 _B_"
   ]
  },
  {
   "cell_type": "code",
   "execution_count": 33,
   "id": "c12b1770",
   "metadata": {},
   "outputs": [
    {
     "name": "stdout",
     "output_type": "stream",
     "text": [
      "nucleus two-sided 0\n",
      "nucleus less 0\n",
      "nucleus greater 1\n",
      "nuclear body two-sided 1e-06\n",
      "nuclear body less 7e-07\n",
      "nuclear body greater 1\n",
      "mitochondrion two-sided 2e-27\n",
      "mitochondrion less 1\n",
      "mitochondrion greater 1e-27\n",
      "endosome two-sided 6e-16\n",
      "endosome less 1\n",
      "endosome greater 3e-16\n",
      "chromatin two-sided 3e-09\n",
      "chromatin less 2e-09\n",
      "chromatin greater 1\n"
     ]
    },
    {
     "data": {
      "image/png": "[encoded data removed]",
      "text/plain": [
       "<Figure size 380x380 with 9 Axes>"
      ]
     },
     "metadata": {},
     "output_type": "display_data"
    }
   ],
   "source": [
    "f, axes = plt.subplots(3, 3, sharex=True, sharey=False, figsize=(3.8,3.8))\n",
    "plt.rc('font', **{'family':'sans-serif','sans-serif':['Arial'], 'size': 6})\n",
    "\n",
    "bin_width = .006\n",
    "bins = np.arange(0.25, .74,bin_width)\n",
    "x = bins[:-1]+bin_width/2.\n",
    "\n",
    "for name,i in zip(['nucleus','nuclear body','mitochondrion','endosome','chromatin'],[2,5,6,7,8]):\n",
    "    ax = axes.flatten()[i]\n",
    "    bool_term = df_GO_cellcom.GO_terms.apply(lambda x : name in x).values\n",
    "    h_1 = np.histogram(df_GO_cellcom[~bool_term].nu,bins=bins,density=True)[0]\n",
    "    h_2 = np.histogram(df_GO_cellcom[bool_term].nu,bins=bins,density=True)[0]\n",
    "    \n",
    "    N_IDRs = df_GO_cellcom[bool_term].shape[0]\n",
    "    N_all_IDRs = df_GO_cellcom.shape[0]\n",
    "    \n",
    "    ax.hist(df_GO_cellcom[~bool_term].nu,bins,density=True,histtype='step',color='k',zorder=0)\n",
    "    \n",
    "    statistic, p_twosided = stats.brunnermunzel(df_GO_cellcom[bool_term].nu, df_GO_cellcom[~bool_term].nu, \n",
    "                                            alternative='two-sided')\n",
    "    print(name,'two-sided',f'{p_twosided:.1g}')\n",
    "    statistic, p_less = stats.brunnermunzel(df_GO_cellcom[bool_term].nu, df_GO_cellcom[~bool_term].nu, \n",
    "                                            alternative='less')\n",
    "    print(name,'less',f'{p_less:.1g}')\n",
    "    statistic, p_greater = stats.brunnermunzel(df_GO_cellcom[bool_term].nu, df_GO_cellcom[~bool_term].nu, \n",
    "                                            alternative='greater')\n",
    "    print(name,'greater',f'{p_greater:.1g}')\n",
    "    \n",
    "    p_value = p_twosided\n",
    "    if p_twosided<0.05 and p_less<0.05 and p_less<p_greater:\n",
    "        color = 'tab:orange'\n",
    "        label = f'{p_twosided:.1g}'\n",
    "        p_value = p_less\n",
    "        if p_twosided<p_less:\n",
    "            print('p_twosided<p_less')\n",
    "    elif p_twosided<0.05 and p_greater<0.05:\n",
    "        color = 'tab:green'\n",
    "        label = f'{p_twosided:.1g}'\n",
    "        p_value = p_greater\n",
    "        if p_twosided<p_greater:\n",
    "            print('p_twosided<p_greater')\n",
    "    else:\n",
    "        color = 'k'\n",
    "        \n",
    "    p_value_label = f'{p_value:.1g}' if p_value >= 1e-10 else '$<$1e-10'\n",
    "    \n",
    "    ax.bar(x,h_2,alpha=.7,width=bin_width,color=color,\n",
    "           label=f'{N_IDRs:d}\\nIDRs'+f'\\n\\n$p$-value:\\n'+p_value_label)\n",
    "\n",
    "    ax.set_title(name.capitalize())\n",
    "\n",
    "    ax.set_xlim(.38,.65)\n",
    "    ax.set_xticks([.4,.5,.6])\n",
    "    legend = ax.legend(handlelength=0,frameon=False,borderpad=0,loc=(-.04,.41))\n",
    "\n",
    "    ax.yaxis.tick_right()\n",
    "    ax.yaxis.set_label_position(\"right\")\n",
    "    \n",
    "for ax in axes[-1,:]:\n",
    "    ax.set_xlabel('$\\\\nu$')\n",
    "for ax in axes[:,2]:\n",
    "    ax.set_ylabel('$P(\\\\nu)$')\n",
    "for ax in axes[:2,:2].flatten():\n",
    "    ax.axis('off')\n",
    "plt.tight_layout()\n",
    "plt.savefig('figs/fig2_cellcom.pdf')\n",
    "plt.show()"
   ]
  },
  {
   "cell_type": "markdown",
   "id": "e1c82398",
   "metadata": {},
   "source": [
    "#### Searching for TFs analysed by Staller et al. (DOI: https://doi.org/10.1016/j.cels.2022.01.002)"
   ]
  },
  {
   "cell_type": "code",
   "execution_count": 34,
   "id": "648a8de3",
   "metadata": {},
   "outputs": [
    {
     "name": "stdout",
     "output_type": "stream",
     "text": [
      "Forkhead box protein O6 0.455\n",
      "Transcription factor SOX-11 0.474\n",
      "Forkhead box protein O4 0.443\n",
      "Zinc finger protein interacting with ribonucleoprotein K 0.472\n",
      "Coiled-coil and C2 domain-containing protein 1A 0.438\n",
      "Pancreas transcription factor 1 subunit alpha 0.401\n",
      "Zinc finger and BTB domain-containing protein 46 0.456\n",
      "Adipocyte enhancer-binding protein 1 0.438\n",
      "Zinc finger protein 561 0.454\n",
      "Zinc finger protein 473 0.439\n",
      "HMG box transcription factor BBX 0.413\n",
      "Zinc finger protein 419 0.464\n",
      "Zinc finger protein 42 homolog 0.468\n",
      "Homeobox protein ARX 0.41\n",
      "ETS-related transcription factor Elf-4 0.448\n",
      "Zinc finger protein 644 0.438\n",
      "PR domain zinc finger protein 5 0.457\n",
      "CXXC-type zinc finger protein 1 0.456\n",
      "Zinc finger protein 639 0.465\n",
      "Zinc finger protein 777 0.412\n",
      "20\n"
     ]
    }
   ],
   "source": [
    "dataset_3 = pd.read_csv('https://ars.els-cdn.com/content/image/1-s2.0-S2405471222000023-mmc4.csv',\n",
    "           storage_options={'User-Agent': 'Mozilla/5.0'},index_col=2)\n",
    "\n",
    "tfs_staller = []\n",
    "\n",
    "df_staller = df_GO_molfunc[df_GO_molfunc.UniProt_ID.apply(lambda x: x[0]).isin(dataset_3.index)]\n",
    "bool_term = df_staller.GO_terms.apply(lambda x : 'transcription cis-regulatory region binding' in x).values\n",
    "df_staller = df_staller[bool_term].query('nu <= 0.475')\n",
    "for idr in df_staller.index:\n",
    "    if type(dataset_3.loc[df_staller.loc[idr].UniProt_ID].ProteinRegionSeq) == str:\n",
    "        if dataset_3.loc[df_staller.loc[idr].UniProt_ID].ProteinRegionSeq in df_staller.loc[idr].fasta:\n",
    "            print(df_staller.loc[idr].protein_name,df_staller.loc[idr].nu)\n",
    "            tfs_staller.append(idr)\n",
    "    else:\n",
    "        for seq in dataset_3.loc[df_staller.loc[idr].UniProt_ID].ProteinRegionSeq.values:\n",
    "            if seq in df_staller.loc[idr].fasta:\n",
    "                print(df_staller.loc[idr].protein_name,df_staller.loc[idr].nu)\n",
    "                tfs_staller.append(idr)\n",
    "print(np.unique(tfs_staller).size)"
   ]
  },
  {
   "cell_type": "code",
   "execution_count": 35,
   "id": "18dd3d4f",
   "metadata": {},
   "outputs": [
    {
     "name": "stdout",
     "output_type": "stream",
     "text": [
      "107\n"
     ]
    }
   ],
   "source": [
    "dataset_3 = pd.read_csv('https://ars.els-cdn.com/content/image/1-s2.0-S2405471222000023-mmc4.csv',\n",
    "           storage_options={'User-Agent': 'Mozilla/5.0'},index_col=2)\n",
    "\n",
    "tfs_staller = []\n",
    "\n",
    "df_staller = df_GO_molfunc[df_GO_molfunc.UniProt_ID.apply(lambda x: x[0]).isin(dataset_3.index)]\n",
    "for idr in df_staller.index:\n",
    "    if type(dataset_3.loc[df_staller.loc[idr].UniProt_ID].ProteinRegionSeq) == str:\n",
    "        if dataset_3.loc[df_staller.loc[idr].UniProt_ID].ProteinRegionSeq in df_staller.loc[idr].fasta:\n",
    "            #print(df_staller.loc[idr].protein_name,df_staller.loc[idr].GO_terms)\n",
    "            tfs_staller.append(idr)\n",
    "    else:\n",
    "        for seq in dataset_3.loc[df_staller.loc[idr].UniProt_ID].ProteinRegionSeq.values:\n",
    "            if seq in df_staller.loc[idr].fasta:\n",
    "                #print(df_staller.loc[idr].protein_name,df_staller.loc[idr].GO_terms)\n",
    "                tfs_staller.append(idr)\n",
    "print(np.unique(tfs_staller).size)"
   ]
  },
  {
   "cell_type": "markdown",
   "id": "85cb1920",
   "metadata": {},
   "source": [
    "#### Proteins with compact IDRs that localize in intracellular membraneless organelles"
   ]
  },
  {
   "cell_type": "code",
   "execution_count": 36,
   "id": "3fbda016",
   "metadata": {},
   "outputs": [
    {
     "data": {
      "text/plain": [
       "(340, 'intracellular non-membrane-bounded organelle')"
      ]
     },
     "execution_count": 36,
     "metadata": {},
     "output_type": "execute_result"
    }
   ],
   "source": [
    "GO_terms = pd.Series(pd.read_pickle('go_analysis/uniprot_dict.pkl')).to_frame(name='GO')\n",
    "go_ids_mlos = [name_to_id[name] for name in ['intracellular non-membrane-bounded organelle']]\n",
    "GO_terms.GO = GO_terms.GO.apply( lambda x : map_to_curated_codes(graph, x, go_ids_mlos, cellcom) )\n",
    "nuc_mos = GO_terms.loc[df_idrome.query('nu <= 0.475').UniProt_ID][\n",
    "    GO_terms.loc[df_idrome.query('nu <= 0.475').UniProt_ID].GO.apply(lambda x:\n",
    "    np.sum([i in go_ids_mlos for i in x])>0).values].index.unique()\n",
    "nuc_mos.size, 'intracellular non-membrane-bounded organelle'"
   ]
  },
  {
   "cell_type": "markdown",
   "id": "92bf6248",
   "metadata": {},
   "source": [
    "#### Proteins with compact IDRs that localize in nucleoli, nuclear speckles, nuclear bodies, and PML bodies"
   ]
  },
  {
   "cell_type": "code",
   "execution_count": 37,
   "id": "9fa7b47e",
   "metadata": {},
   "outputs": [
    {
     "data": {
      "text/plain": [
       "(189, 'nucleolus', 'nuclear speck', 'nuclear body', 'PML body')"
      ]
     },
     "execution_count": 37,
     "metadata": {},
     "output_type": "execute_result"
    }
   ],
   "source": [
    "GO_terms = pd.Series(pd.read_pickle('go_analysis/uniprot_dict.pkl')).to_frame(name='GO')\n",
    "go_ids_nuclear_condensates = [name_to_id[name] for name in ['nucleolus','nuclear speck','nuclear body','PML body']]\n",
    "GO_terms.GO = GO_terms.GO.apply( lambda x : map_to_curated_codes(graph, x, go_ids_nuclear_condensates, cellcom) )\n",
    "nuc_mos = GO_terms.loc[df_idrome.query('nu <= 0.475').UniProt_ID][\n",
    "    GO_terms.loc[df_idrome.query('nu <= 0.475').UniProt_ID].GO.apply(lambda x:\n",
    "    np.sum([i in go_ids_nuclear_condensates for i in x])>0).values].index.unique()\n",
    "nuc_mos.size, 'nucleolus', 'nuclear speck', 'nuclear body', 'PML body'"
   ]
  },
  {
   "cell_type": "markdown",
   "id": "fae481d3",
   "metadata": {},
   "source": [
    "#### Example: Find IDRs with a specific GO term"
   ]
  },
  {
   "cell_type": "code",
   "execution_count": 38,
   "id": "f77e8cb8",
   "metadata": {},
   "outputs": [
    {
     "data": {
      "text/plain": [
       "seq_name\n",
       "A0A024RBG1_145_181    Diphosphoinositol polyphosphate phosphohydrola...\n",
       "A0A0B4J2F2_350_783       Putative serine/threonine-protein kinase SIK1B\n",
       "A0A0B4J2F2_278_307       Putative serine/threonine-protein kinase SIK1B\n",
       "A0A0U1RR11_239_272                  Centromere protein V-like protein 1\n",
       "A0A0U1RR11_1_90                     Centromere protein V-like protein 1\n",
       "                                            ...                        \n",
       "Q9Y6X9_576_795                                             ATPase MORC2\n",
       "Q9Y6Y8_1_269                                  SEC23-interacting protein\n",
       "Q9Y6Y8_595_653                                SEC23-interacting protein\n",
       "Q9Y6Y8_709_773                                SEC23-interacting protein\n",
       "Q9Y6Y8_853_947                                SEC23-interacting protein\n",
       "Name: protein_name, Length: 6731, dtype: object"
      ]
     },
     "execution_count": 38,
     "metadata": {},
     "output_type": "execute_result"
    }
   ],
   "source": [
    "# Load lists of GO terms for each UniProt ID (see go_analysis/uniprot_API_calls.py)\n",
    "GO_terms = pd.Series(pd.read_pickle('go_analysis/uniprot_dict.pkl')).to_frame(name='GO')\n",
    "# Load database\n",
    "df_GO = pd.read_csv('IDRome_DB.csv',index_col=0)\n",
    "# Map GO terms that have catalytic activity as parent term\n",
    "curated_GO_codes = ['GO:0003824']\n",
    "GO_terms.GO = GO_terms.GO.apply( lambda x : map_to_curated_codes(graph, x, curated_GO_codes, molfunc) )\n",
    "\n",
    "df_GO['UniProt_ID'] = df_GO.UniProt_ID.apply(lambda x: [x])\n",
    "df_GO['count_GO_terms'] = df_GO.UniProt_ID.apply(lambda x : len(GO_terms.loc[x].GO.values[0]))\n",
    "df_GO = df_GO[df_GO['count_GO_terms']>0]\n",
    "df_GO['GO_terms'] = df_GO.UniProt_ID.apply(\n",
    "    lambda x : [id_to_name[c] if c!='other' else 'other' for c in GO_terms.loc[x].GO.values[0]])\n",
    "df_GO['GO_terms'] = df_GO.GO_terms.apply(lambda x : 0 if x==['other'] else x[0])\n",
    "df_GO.drop('count_GO_terms',axis=1,inplace=True)\n",
    "df_GO['UniProt_ID'] = df_GO.UniProt_ID.apply(lambda x: x[0])\n",
    "\n",
    "df_idrome = pd.read_csv('IDRome_DB.csv',index_col=0)\n",
    "df_idrome['is_enzyme'] = False\n",
    "df_idrome.loc[df_GO.query('GO_terms != 0').index,'is_enzyme'] = True \n",
    "\n",
    "df_idrome.query('is_enzyme').protein_name"
   ]
  },
  {
   "cell_type": "code",
   "execution_count": null,
   "id": "62f696e0",
   "metadata": {},
   "outputs": [],
   "source": []
  }
 ],
 "metadata": {
  "kernelspec": {
   "display_name": "Python 3 (ipykernel)",
   "language": "python",
   "name": "python3"
  },
  "language_info": {
   "codemirror_mode": {
    "name": "ipython",
    "version": 3
   },
   "file_extension": ".py",
   "mimetype": "text/x-python",
   "name": "python",
   "nbconvert_exporter": "python",
   "pygments_lexer": "ipython3",
   "version": "3.8.16"
  }
 },
 "nbformat": 4,
 "nbformat_minor": 5
}
