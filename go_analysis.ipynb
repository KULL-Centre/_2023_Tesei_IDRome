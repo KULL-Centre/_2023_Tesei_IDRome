{
 "cells": [
  {
   "cell_type": "markdown",
   "id": "61546d99",
   "metadata": {},
   "source": [
    "## Gene Ontology Analysis\n",
    "\n",
    "This notebook reproduces Fig. 2\n",
    "\n",
    "Authors: Anna Ida Trolle and Giulio Tesei\n",
    "\n",
    "Contact: giulio.tesei@bio.ku.dk"
   ]
  },
  {
   "cell_type": "code",
   "execution_count": 2,
   "id": "11562a0e",
   "metadata": {},
   "outputs": [],
   "source": [
    "import numpy as np \n",
    "import pandas as pd\n",
    "import matplotlib.pyplot as plt\n",
    "import matplotlib as mpl\n",
    "import seaborn as sns\n",
    "from collections import Counter\n",
    "import scipy as sc\n",
    "from scipy.stats import fisher_exact\n",
    "from scipy.stats.contingency import odds_ratio\n",
    "import pickle\n",
    "from matplotlib.patches import Patch\n",
    "from scipy import stats\n",
    "import statsmodels.stats.multitest\n",
    "from functools import partial\n",
    "from localcider.sequenceParameters import SequenceParameters\n",
    "from scipy.stats import binned_statistic\n",
    "from scipy.stats import binned_statistic_2d\n",
    "from ast import literal_eval\n",
    "import warnings\n",
    "warnings.filterwarnings('ignore')\n",
    "import networkx as nx\n",
    "import obonet\n",
    "from matplotlib.offsetbox import AnchoredOffsetbox, TextArea, HPacker, VPacker\n",
    "# function to calculate standard error of the mean\n",
    "se = lambda x : np.std(x)/np.sqrt(x.size)\n",
    "se.__name__ = 'SE'\n",
    "\n",
    "def error_prop_ratio(v1,v2,e1,e2):\n",
    "    ratio = v1/v2\n",
    "    return ratio*np.sqrt((e1/v1)**2+(e2/v2)**2)  \n",
    "\n",
    "def convert_pvalue_to_asterisks(pvalue):\n",
    "    if pvalue <= 0.0001:\n",
    "        return \"****\"\n",
    "    elif pvalue <= 0.001:\n",
    "        return \"***\"\n",
    "    elif pvalue <= 0.01:\n",
    "        return \"**\"\n",
    "    elif pvalue <= 0.05:\n",
    "        return \"*\"\n",
    "    return \"ns\"\n",
    "\n",
    "def map_to_curated_codes(graph, GO_terms, curated_GO_codes, nodes):\n",
    "    new_codes = np.empty(0)\n",
    "    for code in GO_terms:\n",
    "        if code in nodes and code != 'unknown':\n",
    "            ancestors = list(nx.dfs_predecessors(graph, source=code, depth_limit=None).values())\n",
    "            ancestors += list(nx.dfs_predecessors(graph, source=code, depth_limit=None).keys())\n",
    "            intersect = np.intersect1d(ancestors, curated_GO_codes)\n",
    "            if intersect.size==0:\n",
    "                intersect = np.append(intersect, 'other')\n",
    "            new_codes = np.append(new_codes, intersect)\n",
    "    return np.unique(new_codes).tolist()\n",
    "\n",
    "def calc_ORs(df_GO,GO_terms,intervals,curated_GO_terms):\n",
    "    #aggregate data based on bins\n",
    "    df_binned = df_GO.groupby(intervals).agg({'UniProt_ID':np.sum})\n",
    "    df_binned['GO'] = df_binned.UniProt_ID.apply(lambda x : GO_terms.loc[x].GO.sum())\n",
    "    df_binned['count_IDs'] = df_binned.UniProt_ID.apply(len)\n",
    "    df_binned['count_GO'] = df_binned.GO.apply(len)\n",
    "    \n",
    "    for GO in curated_GO_terms:\n",
    "        code = name_to_id[GO]\n",
    "        df_binned[GO] = df_binned.GO.apply(lambda x : x.count(code))\n",
    "    df_binned['other'] = df_binned.GO.apply(lambda x : x.count('other'))\n",
    "\n",
    "    df_stat = pd.DataFrame(index=curated_GO_terms+['other'], \n",
    "                             columns = ['OR','p_value','OR_errlow','OR_errhigh','asymmetric_err'])\n",
    "    for name in curated_GO_terms+['other']:\n",
    "        table = df_binned[[name, 'count_IDs']] \n",
    "        table.iloc[0]['count_IDs'] -= table.iloc[0][name]\n",
    "        table.iloc[1]['count_IDs'] -= table.iloc[1][name]\n",
    "        res = fisher_exact(table.values, alternative='two-sided')\n",
    "        df_stat.loc[name,'p_value'] = res.pvalue\n",
    "        res = odds_ratio(table.values,kind='conditional')\n",
    "        or_value = res.statistic\n",
    "        df_stat.loc[name,'OR'] = or_value\n",
    "        or_err = res.confidence_interval(confidence_level=0.95)\n",
    "        df_stat.loc[name,'OR_errlow'] = or_err.low\n",
    "        df_stat.loc[name,'OR_errhigh'] = or_err.high\n",
    "\n",
    "    for name in curated_GO_terms+['other']:\n",
    "        df_stat.at[name,'asymmetric_err'] = ([df_stat.loc[name, 'OR']-(df_stat.loc[name, 'OR_errlow']),\n",
    "                                                (df_stat.loc[name, 'OR_errhigh']-df_stat.loc[name, 'OR'])])\n",
    "\n",
    "    BenjaminiHochberg, correctedP = statsmodels.stats.multitest.fdrcorrection(df_stat['p_value'].values, \n",
    "                                                            alpha=0.05, method='indep', is_sorted=False)\n",
    "    df_stat['BenjaminiHochberg'] = BenjaminiHochberg\n",
    "    df_stat['correctedP'] = correctedP\n",
    "    return df_stat\n",
    "\n",
    "def calc_ORs_Expanded(df_GO,GO_terms,intervals,curated_GO_terms):\n",
    "    #aggregate data based on bins\n",
    "    df_binned = df_GO.groupby(intervals).agg({'UniProt_ID':np.sum})\n",
    "    df_binned['GO'] = df_binned.UniProt_ID.apply(lambda x : GO_terms.loc[x].GO.sum())\n",
    "    df_binned['count_IDs'] = df_binned.UniProt_ID.apply(len)\n",
    "    df_binned['count_GO'] = df_binned.GO.apply(len)\n",
    "    \n",
    "    for GO in curated_GO_terms:\n",
    "        code = name_to_id[GO]\n",
    "        df_binned[GO] = df_binned.GO.apply(lambda x : x.count(code))\n",
    "    df_binned['other'] = df_binned.GO.apply(lambda x : x.count('other'))\n",
    "\n",
    "    df_stat = pd.DataFrame(index=curated_GO_terms+['other'], \n",
    "                             columns = ['OR','p_value','OR_errlow','OR_errhigh','asymmetric_err'])\n",
    "    for name in curated_GO_terms+['other']:\n",
    "        table = df_binned[[name, 'count_IDs']]\n",
    "        table.iloc[0]['count_IDs'] -= table.iloc[0][name]\n",
    "        table.iloc[1]['count_IDs'] -= table.iloc[1][name]\n",
    "        table = table.iloc[::-1] \n",
    "        res = fisher_exact(table.values, alternative='two-sided')\n",
    "        df_stat.loc[name,'p_value'] = res.pvalue\n",
    "        res = odds_ratio(table.values,kind='conditional')\n",
    "        or_value = res.statistic\n",
    "        df_stat.loc[name,'OR'] = or_value\n",
    "        or_err = res.confidence_interval(confidence_level=0.95)\n",
    "        df_stat.loc[name,'OR_errlow'] = or_err.low\n",
    "        df_stat.loc[name,'OR_errhigh'] = or_err.high\n",
    "\n",
    "    for name in curated_GO_terms+['other']:\n",
    "        df_stat.at[name,'asymmetric_err'] = ([df_stat.loc[name, 'OR']-(df_stat.loc[name, 'OR_errlow']),\n",
    "                                                (df_stat.loc[name, 'OR_errhigh']-df_stat.loc[name, 'OR'])])\n",
    "\n",
    "    BenjaminiHochberg, correctedP = statsmodels.stats.multitest.fdrcorrection(df_stat['p_value'].values, \n",
    "                                                            alpha=0.05, method='indep', is_sorted=False)\n",
    "    df_stat['BenjaminiHochberg'] = BenjaminiHochberg\n",
    "    df_stat['correctedP'] = correctedP\n",
    "    return df_stat"
   ]
  },
  {
   "cell_type": "markdown",
   "id": "83fe7e33",
   "metadata": {},
   "source": [
    "#### Load basic version of the GO"
   ]
  },
  {
   "cell_type": "code",
   "execution_count": 3,
   "id": "47cc03de",
   "metadata": {},
   "outputs": [],
   "source": [
    "url = 'http://purl.obolibrary.org/obo/go/go-basic.obo'\n",
    "graph = obonet.read_obo(url)\n",
    "\n",
    "id_to_name = {id_: data.get('name') for id_, data in graph.nodes(data=True)}\n",
    "name_to_id = {data['name']: id_ for id_, data in graph.nodes(data=True) if 'name' in data}"
   ]
  },
  {
   "cell_type": "markdown",
   "id": "8cd822c2",
   "metadata": {},
   "source": [
    "#### Get nodes connected to molecular function, biological process, and cellular component"
   ]
  },
  {
   "cell_type": "code",
   "execution_count": 4,
   "id": "f650e991",
   "metadata": {},
   "outputs": [
    {
     "name": "stdout",
     "output_type": "stream",
     "text": [
      "GO:0003674 GO:0008150 GO:0005575\n"
     ]
    }
   ],
   "source": [
    "print(name_to_id['molecular_function'],name_to_id['biological_process'],name_to_id['cellular_component'])\n",
    "molfunc = list(nx.ancestors(graph, 'GO:0003674')) # all nodes connected to molecular function\n",
    "bioproc = list(nx.ancestors(graph, 'GO:0008150')) # all nodes connected to biological process\n",
    "cellcom = list(nx.ancestors(graph, 'GO:0005575')) # all nodes connected to cellular component"
   ]
  },
  {
   "cell_type": "markdown",
   "id": "f3d08f09",
   "metadata": {},
   "source": [
    "### Analyses\n",
    "***"
   ]
  },
  {
   "cell_type": "markdown",
   "id": "ce2c4949",
   "metadata": {},
   "source": [
    "#### Calculate Odds Ratios for Enrichment of Molecular Functions in IDRs with $\\nu \\leq 0.45$"
   ]
  },
  {
   "cell_type": "code",
   "execution_count": 4,
   "id": "4413e94a",
   "metadata": {},
   "outputs": [
    {
     "name": "stdout",
     "output_type": "stream",
     "text": [
      "(23916, 31)\n"
     ]
    }
   ],
   "source": [
    "# Load lists of GO terms for each UniProt ID (see go_analysis/uniprot_API_calls.py)\n",
    "GO_terms = pd.Series(pd.read_pickle('go_analysis/uniprot_dict.pkl')).to_frame(name='GO')\n",
    "# Load database\n",
    "df_GO = pd.read_csv('IDRome_DB.csv',index_col=0)\n",
    "\n",
    "# Map GO terms onto parent terms occurring at least 10 times\n",
    "g,u = np.unique(GO_terms.loc[df_GO.query(\"nu <= 0.45\").UniProt_ID].GO.sum(),return_counts=True)\n",
    "curated_GO_terms_molfunc = np.unique([id_to_name[x] if x in molfunc else '' for x in g[u>=10]])\n",
    "curated_GO_terms_molfunc = curated_GO_terms_molfunc[curated_GO_terms_molfunc!=''].tolist()\n",
    "curated_GO_codes = []\n",
    "for name in curated_GO_terms_molfunc:\n",
    "    curated_GO_codes.append(name_to_id[name]) \n",
    "GO_terms.GO = GO_terms.GO.apply( lambda x : map_to_curated_codes(graph, x, curated_GO_codes, molfunc) )\n",
    "\n",
    "df_GO['UniProt_ID'] = df_GO.UniProt_ID.apply(lambda x: [x])\n",
    "df_GO['count_GO_terms'] = df_GO.UniProt_ID.apply(lambda x : len(GO_terms.loc[x].GO.values[0]))\n",
    "df_GO = df_GO[df_GO['count_GO_terms']>0]\n",
    "df_GO['GO_terms'] = df_GO.UniProt_ID.apply(\n",
    "    lambda x : [id_to_name[c] if c!='other' else 'other' for c in GO_terms.loc[x].GO.values[0]])\n",
    "df_GO.drop('count_GO_terms',axis=1,inplace=True)\n",
    "\n",
    "print(df_GO.shape)\n",
    "\n",
    "# Bin nu values and calculate odds ratios\n",
    "nu_intervals = pd.cut(df_GO['nu'], np.array([0, .45, .7]))\n",
    "df_nu_stat_45 = calc_ORs(df_GO,GO_terms,nu_intervals,curated_GO_terms_molfunc)\n",
    "\n",
    "df_nu_stat_45.sort_values('OR',inplace=True)\n",
    "df_nu_stat_45.to_csv('go_analysis/GO_function_analysis_045.csv')"
   ]
  },
  {
   "cell_type": "code",
   "execution_count": 5,
   "id": "ef15a53b",
   "metadata": {},
   "outputs": [
    {
     "data": {
      "text/plain": [
       "839"
      ]
     },
     "execution_count": 5,
     "metadata": {},
     "output_type": "execute_result"
    }
   ],
   "source": [
    "df_GO.query('nu <= 0.45').GO_terms.apply(lambda x: np.array(x).size>0).sum()"
   ]
  },
  {
   "cell_type": "markdown",
   "id": "4001a1b0",
   "metadata": {},
   "source": [
    "#### Calculate Odds Ratios for Enrichment of Molecular Functions in IDRs with $\\nu > 0.55$"
   ]
  },
  {
   "cell_type": "code",
   "execution_count": 6,
   "id": "161221b4",
   "metadata": {},
   "outputs": [
    {
     "name": "stdout",
     "output_type": "stream",
     "text": [
      "(23916, 31)\n"
     ]
    }
   ],
   "source": [
    "# Load lists of GO terms for each UniProt ID\n",
    "GO_terms = pd.Series(pd.read_pickle('go_analysis/uniprot_dict.pkl')).to_frame(name='GO')\n",
    "# Load database\n",
    "df_GO = pd.read_csv('IDRome_DB.csv',index_col=0)\n",
    "\n",
    "g,u = np.unique(GO_terms.loc[df_GO.query(\"nu > 0.55\").UniProt_ID].GO.sum(),return_counts=True)\n",
    "\n",
    "curated_GO_terms_molfunc = np.unique([id_to_name[x] if x in molfunc else '' for x in g[u>=10]])\n",
    "curated_GO_terms_molfunc = curated_GO_terms_molfunc[curated_GO_terms_molfunc!=''].tolist()\n",
    "\n",
    "curated_GO_codes = []\n",
    "for name in curated_GO_terms_molfunc:\n",
    "    curated_GO_codes.append(name_to_id[name]) \n",
    "    \n",
    "GO_terms.GO = GO_terms.GO.apply( lambda x : map_to_curated_codes(graph, x, curated_GO_codes, molfunc) )\n",
    "\n",
    "df_GO['UniProt_ID'] = df_GO.UniProt_ID.apply(lambda x: [x])\n",
    "df_GO['count_GO_terms'] = df_GO.UniProt_ID.apply(lambda x : len(GO_terms.loc[x].GO.values[0]))\n",
    "df_GO = df_GO[df_GO['count_GO_terms']>0]\n",
    "df_GO['GO_terms'] = df_GO.UniProt_ID.apply(\n",
    "    lambda x : [id_to_name[c] if c!='other' else 'other' for c in GO_terms.loc[x].GO.values[0]])\n",
    "df_GO.drop('count_GO_terms',axis=1,inplace=True)\n",
    "\n",
    "print(df_GO.shape)\n",
    "\n",
    "# Bin nu values and calculate odds ratios\n",
    "nu_intervals = pd.cut(df_GO['nu'], np.array([0, .55, .7]))\n",
    "df_nu_stat_55 = calc_ORs_Expanded(df_GO,GO_terms,nu_intervals,curated_GO_terms_molfunc)\n",
    "\n",
    "df_nu_stat_55.sort_values('OR',inplace=True)\n",
    "df_nu_stat_55.to_csv('go_analysis/GO_function_analysis_055.csv')"
   ]
  },
  {
   "cell_type": "code",
   "execution_count": 7,
   "id": "5bb180b9",
   "metadata": {},
   "outputs": [
    {
     "data": {
      "text/plain": [
       "3112"
      ]
     },
     "execution_count": 7,
     "metadata": {},
     "output_type": "execute_result"
    }
   ],
   "source": [
    "df_GO.query('nu > 0.55').GO_terms.apply(lambda x: np.array(x).size>0).sum()"
   ]
  },
  {
   "cell_type": "markdown",
   "id": "6b31ee84",
   "metadata": {},
   "source": [
    "#### Calculate Odds Ratios for Enrichment in Cell Components of IDRs with $\\nu \\leq 0.45$"
   ]
  },
  {
   "cell_type": "code",
   "execution_count": 8,
   "id": "959d5d05",
   "metadata": {},
   "outputs": [
    {
     "name": "stdout",
     "output_type": "stream",
     "text": [
      "(27129, 31)\n"
     ]
    }
   ],
   "source": [
    "# Load lists of GO terms for each UniProt ID (see go_analysis/uniprot_API_calls.py)\n",
    "GO_terms = pd.Series(pd.read_pickle('go_analysis/uniprot_dict.pkl')).to_frame(name='GO')\n",
    "# Load database\n",
    "df_GO = pd.read_csv('IDRome_DB.csv',index_col=0)\n",
    "\n",
    "g,u = np.unique(GO_terms.loc[df_GO.query(\"nu <= 0.45\").UniProt_ID].GO.sum(),return_counts=True)\n",
    "\n",
    "curated_GO_terms_cellcom = np.unique([id_to_name[x] if x in cellcom else '' for x in g[u>=10]])\n",
    "\n",
    "curated_GO_terms_cellcom = curated_GO_terms_cellcom[curated_GO_terms_cellcom!=''].tolist()\n",
    "\n",
    "curated_GO_codes = []\n",
    "for name in curated_GO_terms_cellcom:\n",
    "    curated_GO_codes.append(name_to_id[name]) \n",
    "\n",
    "GO_terms.GO = GO_terms.GO.apply( lambda x : map_to_curated_codes(graph, x, curated_GO_codes, cellcom) )\n",
    "\n",
    "df_GO['UniProt_ID'] = df_GO.UniProt_ID.apply(lambda x: [x])\n",
    "df_GO['count_GO_terms'] = df_GO.UniProt_ID.apply(lambda x : len(GO_terms.loc[x].GO.values[0]))\n",
    "df_GO = df_GO[df_GO['count_GO_terms']>0]\n",
    "df_GO['GO_terms'] = df_GO.UniProt_ID.apply(\n",
    "    lambda x : [id_to_name[c] if c!='other' else 'other' for c in GO_terms.loc[x].GO.values[0]])\n",
    "df_GO.drop('count_GO_terms',axis=1,inplace=True)\n",
    "\n",
    "print(df_GO.shape)\n",
    "\n",
    "# Bin nu values and calculate odds ratios\n",
    "nu_intervals = pd.cut(df_GO['nu'], np.array([0, .45, .7]))\n",
    "df_nu_stat_45 = calc_ORs(df_GO,GO_terms,nu_intervals,curated_GO_terms_cellcom)\n",
    "\n",
    "df_nu_stat_45.sort_values('OR',inplace=True)\n",
    "df_nu_stat_45.to_csv('go_analysis/GO_component_analysis_045.csv')"
   ]
  },
  {
   "cell_type": "code",
   "execution_count": 9,
   "id": "a82a58bf",
   "metadata": {},
   "outputs": [
    {
     "data": {
      "text/plain": [
       "984"
      ]
     },
     "execution_count": 9,
     "metadata": {},
     "output_type": "execute_result"
    }
   ],
   "source": [
    "df_GO.query('nu <= 0.45').GO_terms.apply(lambda x: np.array(x).size>0).sum()"
   ]
  },
  {
   "cell_type": "markdown",
   "id": "c7ede41e",
   "metadata": {},
   "source": [
    "#### List IDRs with $\\nu \\leq 0.45$ in the SWI/SNF Complex"
   ]
  },
  {
   "cell_type": "code",
   "execution_count": 10,
   "id": "fcf5e034",
   "metadata": {},
   "outputs": [
    {
     "name": "stdout",
     "output_type": "stream",
     "text": [
      "P06400 ['1-55'] - RB1 Retinoblastoma-associated protein\n",
      "P51531 ['496-708' '1503-1590'] - SMARCA2 Probable global transcription activator SNF2L2\n",
      "P51532 ['1562-1647' '517-739'] - SMARCA4 Transcription activator BRG1\n",
      "Q86U86 ['1313-1391'] - PBRM1 Protein polybromo-1\n",
      "Q8NFD5 ['1691-1782'] - ARID1B AT-rich interactive domain-containing protein 1B\n",
      "Q8TAQ2 ['267-421'] - SMARCC2 SWI/SNF complex subunit SMARCC2\n",
      "Q8WUB8 ['260-371'] - PHF10 PHD finger protein 10\n",
      "Q92785 ['1-264'] - DPF2 Zinc finger protein ubi-d4\n",
      "Q92922 ['294-447'] - SMARCC1 SWI/SNF complex subunit SMARCC1\n"
     ]
    }
   ],
   "source": [
    "name = 'SWI/SNF complex'\n",
    "df_idrome = pd.read_csv('IDRome_DB.csv',index_col=0)\n",
    "ID_s = GO_terms.loc[df_idrome.query(\"nu <= 0.45\").UniProt_ID].GO.apply(lambda x:\n",
    "                                        np.sum([name_to_id[name]==i for i in x]))\n",
    "for uniprot_id in np.unique(ID_s[ID_s==1].index):\n",
    "    print(uniprot_id,\n",
    "         df_idrome.query(f\"UniProt_ID == '{uniprot_id:s}' and nu <= .45\").index.map(\n",
    "             lambda x: '-'.join(x.split('_')[1:])).values,\n",
    "         '-',df_idrome.query(f\"UniProt_ID == '{uniprot_id:s}'\").gene_name.unique()[0],\n",
    "         df_idrome.query(f\"UniProt_ID == '{uniprot_id:s}'\").protein_name.unique()[0])"
   ]
  },
  {
   "cell_type": "markdown",
   "id": "2a80ff0a",
   "metadata": {},
   "source": [
    "#### List IDRs with $\\nu \\leq 0.45$ in the Spliceosomal Complex"
   ]
  },
  {
   "cell_type": "code",
   "execution_count": 11,
   "id": "a0464d0a",
   "metadata": {},
   "outputs": [
    {
     "name": "stdout",
     "output_type": "stream",
     "text": [
      "A6NDE4 ['84-496'] - RBMY1B RNA-binding motif protein, Y chromosome, family 1 member B\n",
      "O43290 ['391-498'] - SART1 U4/U6.U5 tri-snRNP-associated protein 1\n",
      "O43390 ['417-633'] - HNRNPR Heterogeneous nuclear ribonucleoprotein R\n",
      "O60506 ['419-623'] - SYNCRIP Heterogeneous nuclear ribonucleoprotein Q\n",
      "O75400 ['801-957'] - PRPF40A Pre-mRNA-processing factor 40 homolog A\n",
      "O75643 ['1-269'] - SNRNP200 U5 small nuclear ribonucleoprotein 200 kDa helicase\n",
      "O94906 ['1-81'] - PRPF6 Pre-mRNA-processing factor 6\n",
      "O95232 ['287-432'] - LUC7L3 Luc7-like protein 3\n",
      "P08621 ['202-437'] - SNRNP70 U1 small nuclear ribonucleoprotein 70 kDa\n",
      "P09651 ['187-372'] - HNRNPA1 Heterogeneous nuclear ribonucleoprotein A1\n",
      "P19338 ['1-309'] - NCL Nucleolin\n",
      "P22626 ['194-353'] - HNRNPA2B1 Heterogeneous nuclear ribonucleoproteins A2/B1\n",
      "P31942 ['89-199'] - HNRNPH3 Heterogeneous nuclear ribonucleoprotein H3\n",
      "P51991 ['207-378'] - HNRNPA3 Heterogeneous nuclear ribonucleoprotein A3\n",
      "P61978 ['227-391'] - HNRNPK Heterogeneous nuclear ribonucleoprotein K\n",
      "P67809 ['144-324'] - YBX1 Y-box-binding protein 1\n",
      "Q00839 ['42-269'] - HNRNPU Heterogeneous nuclear ribonucleoprotein U\n",
      "Q13123 ['280-325'] - IK Protein Red\n",
      "Q13435 ['692-895'] - SF3B2 Splicing factor 3B subunit 2\n",
      "Q13523 ['335-667'] - PRPF4B Serine/threonine-protein kinase PRP4 homolog\n",
      "Q14011 ['79-172'] - CIRBP Cold-inducible RNA-binding protein\n",
      "Q6NWY9 ['684-871'] - PRPF40B Pre-mRNA-processing factor 40 homolog B\n",
      "Q7L014 ['1-320'] - DDX46 Probable ATP-dependent RNA helicase DDX46\n",
      "Q8N7X1 ['574-1067' '79-573'] - RBMXL3 RNA-binding motif protein, X-linked-like-3\n",
      "Q8NAV1 ['180-312'] - PRPF38A Pre-mRNA-splicing factor 38A\n",
      "Q8WXA9 ['359-508'] - SREK1 Splicing regulatory glutamine/lysine-rich protein 1\n",
      "Q9BRR8 ['637-931'] - GPATCH1 G patch domain-containing protein 1\n",
      "Q9BZJ0 ['819-848'] - CRNKL1 Crooked neck-like protein 1\n",
      "Q9H307 ['281-717'] - PNN Pinin\n",
      "Q9NW13 ['196-332'] - RBM28 RNA-binding protein 28\n",
      "Q9UBB9 ['1-322'] - TFIP11 Tuftelin-interacting protein 11\n",
      "Q9Y5S9 ['1-52'] - RBM8A RNA-binding protein 8A\n"
     ]
    }
   ],
   "source": [
    "name = 'spliceosomal complex'\n",
    "df_idrome = pd.read_csv('IDRome_DB.csv',index_col=0)\n",
    "ID_s = GO_terms.loc[df_idrome.query(\"nu <= 0.45\").UniProt_ID].GO.apply(lambda x:\n",
    "                                        np.sum([name_to_id[name]==i for i in x]))\n",
    "for uniprot_id in np.unique(ID_s[ID_s==1].index):\n",
    "    print(uniprot_id,\n",
    "         df_idrome.query(f\"UniProt_ID == '{uniprot_id:s}' and nu <= .45\").index.map(\n",
    "             lambda x: '-'.join(x.split('_')[1:])).values,\n",
    "         '-',df_idrome.query(f\"UniProt_ID == '{uniprot_id:s}'\").gene_name.unique()[0],\n",
    "         df_idrome.query(f\"UniProt_ID == '{uniprot_id:s}'\").protein_name.unique()[0])"
   ]
  },
  {
   "cell_type": "markdown",
   "id": "2d84412d",
   "metadata": {},
   "source": [
    "#### Proteins with compact IDRs that localize in intracellular membraneless organelles"
   ]
  },
  {
   "cell_type": "code",
   "execution_count": 12,
   "id": "61c301c3",
   "metadata": {},
   "outputs": [
    {
     "data": {
      "text/plain": [
       "(372, 'intracellular non-membrane-bounded organelle')"
      ]
     },
     "execution_count": 12,
     "metadata": {},
     "output_type": "execute_result"
    }
   ],
   "source": [
    "GO_terms = pd.Series(pd.read_pickle('go_analysis/uniprot_dict.pkl')).to_frame(name='GO')\n",
    "curated_GO_terms_cellcom = ['nucleolus','nuclear speck','nuclear body','PML body',\n",
    "                            'intracellular non-membrane-bounded organelle']\n",
    "curated_GO_codes = []\n",
    "for name in curated_GO_terms_cellcom:\n",
    "    curated_GO_codes.append(name_to_id[name]) \n",
    "    \n",
    "GO_terms.GO = GO_terms.GO.apply( lambda x : map_to_curated_codes(graph, x, curated_GO_codes, cellcom) )\n",
    "\n",
    "all_mos = GO_terms.loc[df_idrome.query(\"nu <= 0.45\").UniProt_ID][\n",
    "    GO_terms.loc[df_idrome.query(\"nu <= 0.45\").UniProt_ID].GO.apply(lambda x:\n",
    "    ('GO:0043232' in x)>0).values].index.unique()\n",
    "all_mos.size, id_to_name['GO:0043232']"
   ]
  },
  {
   "cell_type": "markdown",
   "id": "be1e54bd",
   "metadata": {},
   "source": [
    "#### Proteins with compact IDRs that localize in nucleoli, nuclear speckles, nuclear bodies, and PML bodies"
   ]
  },
  {
   "cell_type": "code",
   "execution_count": 13,
   "id": "c70d34ec",
   "metadata": {},
   "outputs": [
    {
     "data": {
      "text/plain": [
       "(191, 'nucleolus', 'nuclear speck', 'nuclear body', 'PML body')"
      ]
     },
     "execution_count": 13,
     "metadata": {},
     "output_type": "execute_result"
    }
   ],
   "source": [
    "go_ids_nuclear_condensates = [name_to_id[name] for name in ['nucleolus','nuclear speck','nuclear body','PML body']]\n",
    "nuc_mos = GO_terms.loc[df_idrome.query(\"nu <= 0.45\").UniProt_ID][\n",
    "    GO_terms.loc[df_idrome.query(\"nu <= 0.45\").UniProt_ID].GO.apply(lambda x:\n",
    "    np.sum([i in go_ids_nuclear_condensates for i in x])>0).values].index.unique()\n",
    "nuc_mos.size, 'nucleolus', 'nuclear speck', 'nuclear body', 'PML body'"
   ]
  },
  {
   "cell_type": "markdown",
   "id": "235f51d0",
   "metadata": {},
   "source": [
    "#### Proteins with compact IDRs that localize in nucleoli, nuclear speckles, nuclear bodies, and PML bodies but are not annotated to localize in intracellular membraneless organelles"
   ]
  },
  {
   "cell_type": "code",
   "execution_count": 14,
   "id": "62de622d",
   "metadata": {},
   "outputs": [
    {
     "data": {
      "text/plain": [
       "43"
      ]
     },
     "execution_count": 14,
     "metadata": {},
     "output_type": "execute_result"
    }
   ],
   "source": [
    "go_ids_nuclear_condensates = [name_to_id[name] for name in ['nucleolus','nuclear speck','nuclear body','PML body']]\n",
    "nuc_mos_no_mos = GO_terms.loc[df_idrome.query(\"nu <= 0.45\").UniProt_ID][\n",
    "    GO_terms.loc[df_idrome.query(\"nu <= 0.45\").UniProt_ID].GO.apply(lambda x:\n",
    "    np.sum([i in go_ids_nuclear_condensates for i in x])>0 and 'GO:0043232' not in x).values].index.unique()\n",
    "nuc_mos_no_mos.size"
   ]
  },
  {
   "cell_type": "markdown",
   "id": "30e1def1",
   "metadata": {},
   "source": [
    "#### Calculate Odds Ratios for Enrichment in Cell Components of IDRs with $\\nu > 0.55$"
   ]
  },
  {
   "cell_type": "code",
   "execution_count": 15,
   "id": "be37bd84",
   "metadata": {},
   "outputs": [
    {
     "name": "stdout",
     "output_type": "stream",
     "text": [
      "(27129, 31)\n"
     ]
    }
   ],
   "source": [
    "# Load lists of GO terms for each UniProt ID (see go_analysis/uniprot_API_calls.py)\n",
    "GO_terms = pd.Series(pd.read_pickle('go_analysis/uniprot_dict.pkl')).to_frame(name='GO')\n",
    "# Load database\n",
    "df_GO = pd.read_csv('IDRome_DB.csv',index_col=0)\n",
    "\n",
    "g,u = np.unique(GO_terms.loc[df_GO.query(\"nu > 0.55\").UniProt_ID].GO.sum(),return_counts=True)\n",
    "\n",
    "curated_GO_terms_cellcom = np.unique([id_to_name[x] if x in cellcom else '' for x in g[u>=10]])\n",
    "\n",
    "curated_GO_terms_cellcom = curated_GO_terms_cellcom[curated_GO_terms_cellcom!=''].tolist()\n",
    "\n",
    "curated_GO_codes = []\n",
    "for name in curated_GO_terms_cellcom:\n",
    "    curated_GO_codes.append(name_to_id[name]) \n",
    "\n",
    "GO_terms.GO = GO_terms.GO.apply( lambda x : map_to_curated_codes(graph, x, curated_GO_codes, cellcom) )\n",
    "\n",
    "df_GO['UniProt_ID'] = df_GO.UniProt_ID.apply(lambda x: [x])\n",
    "df_GO['count_GO_terms'] = df_GO.UniProt_ID.apply(lambda x : len(GO_terms.loc[x].GO.values[0]))\n",
    "df_GO = df_GO[df_GO['count_GO_terms']>0]\n",
    "df_GO['GO_terms'] = df_GO.UniProt_ID.apply(\n",
    "    lambda x : [id_to_name[c] if c!='other' else 'other' for c in GO_terms.loc[x].GO.values[0]])\n",
    "df_GO.drop('count_GO_terms',axis=1,inplace=True)\n",
    "\n",
    "print(df_GO.shape)\n",
    "\n",
    "# bin nu values\n",
    "nu_intervals = pd.cut(df_GO['nu'], np.array([0, .55, .7]))\n",
    "df_nu_stat_55 = calc_ORs_Expanded(df_GO,GO_terms,nu_intervals,curated_GO_terms_cellcom)\n",
    "\n",
    "df_nu_stat_55.sort_values('OR',inplace=True)\n",
    "df_nu_stat_55.to_csv('go_analysis/GO_component_analysis_055.csv')"
   ]
  },
  {
   "cell_type": "code",
   "execution_count": 16,
   "id": "477bac47",
   "metadata": {},
   "outputs": [
    {
     "data": {
      "text/plain": [
       "3478"
      ]
     },
     "execution_count": 16,
     "metadata": {},
     "output_type": "execute_result"
    }
   ],
   "source": [
    "df_GO.query('nu > 0.55').GO_terms.apply(lambda x: np.array(x).size>0).sum()"
   ]
  },
  {
   "cell_type": "markdown",
   "id": "d89cdeb1",
   "metadata": {},
   "source": [
    "#### Fig. 2"
   ]
  },
  {
   "cell_type": "code",
   "execution_count": 6,
   "id": "2ecb2223",
   "metadata": {},
   "outputs": [
    {
     "name": "stdout",
     "output_type": "stream",
     "text": [
      "Molecular Function\n",
      "45 DNA binding 1.4\n",
      "45 transcription coregulator activity 1.7\n",
      "45 ATP hydrolysis activity 1.7\n",
      "45 transcription coactivator activity 1.8\n",
      "45 chromatin binding 1.9\n",
      "45 nucleic acid binding 2.0\n",
      "45 RNA binding 2.4\n",
      "45 single-stranded DNA binding 2.6\n",
      "45 histone binding 2.7\n",
      "45 ATP-dependent chromatin remodeler activity 3.1\n",
      "45 methylated histone binding 4.2\n",
      "55 RNA binding 1.4\n",
      "55 organic anion transmembrane transporter activity 2.2\n",
      "55 rRNA binding 3.6\n",
      "55 ATP-dependent protein folding chaperone 4.0\n",
      "55 bile acid transmembrane transporter activity 4.4\n",
      "55 sodium-independent organic anion transmembrane transporter activity 5.8\n",
      "55 structural constituent of chromatin 11.2\n",
      "55 collagen fibril binding 13.4\n",
      "55 nucleosomal DNA binding 13.4\n",
      "55 NADH dehydrogenase (ubiquinone) activity 18.4\n",
      "Cell Component\n",
      "45 nucleus 1.4\n",
      "45 nucleoplasm 1.5\n",
      "45 nuclear body 1.8\n",
      "45 ribonucleoprotein complex 2.1\n",
      "45 nucleolus 2.3\n",
      "45 nuclear speck 2.5\n",
      "45 voltage-gated calcium channel complex 2.8\n",
      "45 spliceosomal complex 3.7\n",
      "45 catalytic step 2 spliceosome 4.2\n",
      "45 SWI/SNF complex 4.3\n",
      "55 intracellular membrane-bounded organelle 1.2\n",
      "55 protein-containing complex 1.2\n",
      "55 nucleoplasm 1.2\n",
      "55 cytosol 1.3\n",
      "55 cytoplasm 1.4\n",
      "55 nucleolus 1.4\n",
      "55 mitochondrial membrane 1.5\n",
      "55 mitochondrion 1.6\n",
      "55 ribonucleoprotein complex 1.6\n",
      "55 mitochondrial matrix 2.0\n",
      "55 mitochondrial inner membrane 2.0\n",
      "55 nucleosome 3.6\n",
      "55 mitochondrial respiratory chain complex I 8.2\n"
     ]
    },
    {
     "data": {
      "image/png": "[encoded data removed]",
      "text/plain": [
       "<Figure size 660x450 with 2 Axes>"
      ]
     },
     "metadata": {},
     "output_type": "display_data"
    }
   ],
   "source": [
    "# Load data on enrichment in compact chains\n",
    "df_nu_stat_45_func = pd.read_csv('go_analysis/GO_function_analysis_045.csv',index_col=0)\n",
    "df_nu_stat_45_func = df_nu_stat_45_func.query('correctedP < 0.01 and OR > 1')\n",
    "df_nu_stat_45_comp = pd.read_csv('go_analysis/GO_component_analysis_045.csv',index_col=0)\n",
    "df_nu_stat_45_comp = df_nu_stat_45_comp.query('correctedP < 0.01 and OR > 1')\n",
    "df_nu_stat_45_func.asymmetric_err = df_nu_stat_45_func.asymmetric_err.apply(lambda x : literal_eval(x))\n",
    "df_nu_stat_45_comp.asymmetric_err = df_nu_stat_45_comp.asymmetric_err.apply(lambda x : literal_eval(x))\n",
    "\n",
    "# Load data on enrichment in expanded chains\n",
    "df_nu_stat_55_func = pd.read_csv('go_analysis/GO_function_analysis_055.csv',index_col=0)\n",
    "df_nu_stat_55_func = df_nu_stat_55_func.query('correctedP < 0.001 and OR > 1')\n",
    "df_nu_stat_55_comp = pd.read_csv('go_analysis/GO_component_analysis_055.csv',index_col=0)\n",
    "df_nu_stat_55_comp = df_nu_stat_55_comp.query('correctedP < 0.001 and OR > 1')\n",
    "df_nu_stat_55_func.asymmetric_err = df_nu_stat_55_func.asymmetric_err.apply(lambda x : literal_eval(x))\n",
    "df_nu_stat_55_comp.asymmetric_err = df_nu_stat_55_comp.asymmetric_err.apply(lambda x : literal_eval(x))\n",
    "\n",
    "# Combine analyses for compact and expanded chains\n",
    "df_nu_stat_func = df_nu_stat_45_func.join(df_nu_stat_55_func, lsuffix='_45', rsuffix='_55', how='outer')\n",
    "df_nu_stat_func['OR'] = (df_nu_stat_func['OR_45'].fillna(0) + df_nu_stat_func['OR_55'].fillna(0))/2\n",
    "df_nu_stat_func.sort_values('OR',inplace=True)\n",
    "\n",
    "df_nu_stat_comp = df_nu_stat_45_comp.join(df_nu_stat_55_comp, lsuffix='_45', rsuffix='_55', how='outer')\n",
    "df_nu_stat_comp['OR'] = (df_nu_stat_comp['OR_45'].fillna(0) + df_nu_stat_comp['OR_55'].fillna(0))/2\n",
    "df_nu_stat_comp.sort_values('OR',inplace=True)\n",
    "\n",
    "fig, (ax1,ax2) = plt.subplots(2,1,figsize=(6.6,4.5))\n",
    "\n",
    "plt.setp(ax1.get_xticklabels(), visible=False)\n",
    "\n",
    "plt.rc('font', **{'family':'sans-serif','sans-serif':['Arial'], 'size': 6})\n",
    "\n",
    "y = np.arange(df_nu_stat_func.shape[0])+1\n",
    "\n",
    "df_nu_stat_func.asymmetric_err_45 = df_nu_stat_func.asymmetric_err_45.apply(\n",
    "    lambda x : [np.nan,np.nan] if type(x)==float else x)\n",
    "asymmetric_error_45 = np.array(list(df_nu_stat_func.asymmetric_err_45)).T\n",
    "\n",
    "ax1.errorbar(df_nu_stat_func.OR_45,y,xerr=asymmetric_error_45, fmt='.', ecolor = 'black',\n",
    "             elinewidth = 0.5,capsize = 1, color='k')\n",
    "\n",
    "df_nu_stat_func.asymmetric_err_55 = df_nu_stat_func.asymmetric_err_55.apply(\n",
    "    lambda x : [np.nan,np.nan] if type(x)==float else x)\n",
    "asymmetric_error_55 = np.array(list(df_nu_stat_func.asymmetric_err_55)).T\n",
    "\n",
    "ax1.errorbar(df_nu_stat_func.OR_55,y,xerr=asymmetric_error_55, fmt='.', ecolor = 'black',\n",
    "             elinewidth = 0.5,capsize = 1, color='k')\n",
    "    \n",
    "ax1.set_xscale('symlog')\n",
    "ax1.set_xticks([0,.5,1,1.5,2.5,5,10,20,50,100])\n",
    "ax1.set_xticklabels([f'{i:g}' for i in [0,.5,1,1.5,2.5,5,10,20,50,100]])\n",
    "ax1.set_yticks(y, df_nu_stat_func.index, rotation=0)\n",
    "ax1.set_ylim(0.2,df_nu_stat_func.shape[0]+1)\n",
    "ax1.set_xlim(.6,100)\n",
    "\n",
    "print('Molecular Function')\n",
    "\n",
    "labels = df_nu_stat_45_func.index.values\n",
    "for func in labels:\n",
    "    y_text = df_nu_stat_func.index.get_loc(func)+.9\n",
    "    x_text = df_nu_stat_func.OR_45[func]+df_nu_stat_func.asymmetric_err_45[func][1]*1.2+.1\n",
    "    print('45',func,round(df_nu_stat_func.OR_45[func],1))\n",
    "    correctedP = df_nu_stat_func.correctedP_45[func]\n",
    "    ax1.text(x=x_text, y=y_text, \n",
    "             s=f'{correctedP:.1g} '+convert_pvalue_to_asterisks(correctedP),fontsize=6)\n",
    "for func in labels:\n",
    "    ax1.plot(df_nu_stat_func.loc[func].OR_45,\n",
    "         df_nu_stat_func.index.get_loc(func)+1, marker='o', ms=3, \n",
    "             color=plt.cm.tab10(1),zorder=10)\n",
    "    \n",
    "labels = df_nu_stat_55_func.index.values\n",
    "for func in labels:\n",
    "    y_text = df_nu_stat_func.index.get_loc(func)+.9\n",
    "    x_text = df_nu_stat_func.OR_55[func]+df_nu_stat_func.asymmetric_err_55[func][1]*1.2\n",
    "    print('55',func,round(df_nu_stat_func.OR_55[func],1))\n",
    "    correctedP = df_nu_stat_func.correctedP_55[func]\n",
    "    ax1.text(x=x_text, y=y_text, \n",
    "             s=f'{correctedP:.1g} '+convert_pvalue_to_asterisks(correctedP),fontsize=6)\n",
    "for func in labels:\n",
    "    ax1.plot(df_nu_stat_func.loc[func].OR_55,\n",
    "         df_nu_stat_func.index.get_loc(func)+1, marker='o', ms=3, \n",
    "             color=plt.cm.tab10(2),zorder=10)\n",
    "    \n",
    "########################\n",
    "\n",
    "y = np.arange(df_nu_stat_comp.shape[0])+1\n",
    "\n",
    "df_nu_stat_comp.asymmetric_err_45 = df_nu_stat_comp.asymmetric_err_45.apply(\n",
    "    lambda x : [np.nan,np.nan] if type(x)==float else x)\n",
    "asymmetric_error_45 = np.array(list(df_nu_stat_comp.asymmetric_err_45)).T\n",
    "\n",
    "ax2.errorbar(df_nu_stat_comp.OR_45,y,xerr=asymmetric_error_45, fmt='.', ecolor = 'black',\n",
    "             elinewidth = 0.5,capsize = 1, color='k',label='$\\\\nu\\leq0.45$')\n",
    "\n",
    "df_nu_stat_comp.asymmetric_err_55 = df_nu_stat_comp.asymmetric_err_55.apply(\n",
    "    lambda x : [np.nan,np.nan] if type(x)==float else x)\n",
    "asymmetric_error_55 = np.array(list(df_nu_stat_comp.asymmetric_err_55)).T\n",
    "\n",
    "ax2.errorbar(df_nu_stat_comp.OR_55,y,xerr=asymmetric_error_55, fmt='.', ecolor = 'black',\n",
    "             elinewidth = 0.5,capsize = 1, color='k',label='$\\\\nu>0.55$')\n",
    "\n",
    "ax2.set_xscale('symlog')\n",
    "ax2.set_xticks([0,.5,1,1.5,2.5,5,10,20,50,100])\n",
    "ax2.set_xticklabels([f'{i:g}' for i in [0,.5,1,1.5,2.5,5,10,20,50,100]])\n",
    "ax2.set_yticks(y, [name.replace('speck','speckle') for name in df_nu_stat_comp.index], rotation=0)\n",
    "ax2.set_ylim(0.2,df_nu_stat_comp.shape[0]+1)\n",
    "ax2.set_xlim(.6,100)\n",
    "\n",
    "\n",
    "xbox1 = TextArea('Enrichment of GO Term in', textprops=dict(color='k',size=6,rotation=0,ha='left',va='bottom'))\n",
    "xbox2 = TextArea('Compact',     textprops=dict(color='tab:orange', size=6,rotation=0,ha='left',va='bottom'))\n",
    "xbox3 = TextArea('or', textprops=dict(color='k',size=6,rotation=0,ha='left',va='bottom'))\n",
    "xbox4 = TextArea('Expanded', textprops=dict(color='tab:green',size=6,rotation=0,ha='left',va='bottom'))\n",
    "xbox5 = TextArea('IDRs (Odds Ratio)', textprops=dict(color='k',size=6,rotation=0,ha='left',va='bottom'))\n",
    "\n",
    "\n",
    "xbox = HPacker(children=[xbox1, xbox2, xbox3, xbox4, xbox5],align=\"bottom\", pad=0, sep=2)\n",
    "\n",
    "anchored_ybox = AnchoredOffsetbox(loc=8, child=xbox, pad=0., frameon=False, bbox_to_anchor=(0.5, -.185), \n",
    "                                  bbox_transform=ax2.transAxes, borderpad=0.)\n",
    "\n",
    "ax2.add_artist(anchored_ybox)\n",
    "#ax2.set_xlabel(r'Enrichment in Compact or Expanded IDRs (Odds Ratio)')\n",
    "\n",
    "print('Cell Component')\n",
    "\n",
    "labels = df_nu_stat_45_comp.index.values\n",
    "for comp in labels:\n",
    "    y_text = df_nu_stat_comp.index.get_loc(comp)+.9\n",
    "    x_text = df_nu_stat_comp.OR_45[comp]+df_nu_stat_comp.asymmetric_err_45[comp][1]*1.2+.1\n",
    "    print('45',comp,round(df_nu_stat_comp.OR_45[comp],1))\n",
    "    correctedP = df_nu_stat_comp.correctedP_45[comp]\n",
    "    ax2.text(x=x_text, y=y_text, \n",
    "             s=f'{correctedP:.1g} '+convert_pvalue_to_asterisks(correctedP),fontsize=6)\n",
    "for comp in labels:\n",
    "    ax2.plot(df_nu_stat_comp.loc[comp].OR_45,\n",
    "         df_nu_stat_comp.index.get_loc(comp)+1, marker='o', ms=3, \n",
    "             color=plt.cm.tab10(1),zorder=10)\n",
    "    \n",
    "labels = df_nu_stat_55_comp.index.values\n",
    "for comp in labels:\n",
    "    y_text = df_nu_stat_comp.index.get_loc(comp)+.9\n",
    "    x_text = df_nu_stat_comp.OR_55[comp]+df_nu_stat_comp.asymmetric_err_55[comp][1]*1.2+.1\n",
    "    print('55',comp,round(df_nu_stat_comp.OR_55[comp],1))\n",
    "    if comp in ['nucleolus','nucleoplasm','ribonucleoprotein complex']:\n",
    "        x_text = df_nu_stat_comp.OR_55[comp]-df_nu_stat_comp.asymmetric_err_55[comp][0]-.45\n",
    "    correctedP = df_nu_stat_comp.correctedP_55[comp]\n",
    "    ax2.text(x=x_text, y=y_text, \n",
    "             s=f'{correctedP:.1g} '+convert_pvalue_to_asterisks(correctedP),fontsize=6)\n",
    "for comp in labels:\n",
    "    ax2.plot(df_nu_stat_comp.loc[comp].OR_55,\n",
    "         df_nu_stat_comp.index.get_loc(comp)+1, marker='o', ms=3, \n",
    "             color=plt.cm.tab10(2),zorder=10)\n",
    "    \n",
    "ax1.spines['right'].set_visible(False)\n",
    "ax1.spines['top'].set_visible(False)\n",
    "ax2.spines['right'].set_visible(False)\n",
    "ax2.spines['top'].set_visible(False)\n",
    "\n",
    "ax1.annotate('$\\\\nu\\leq0.45$',xy=(.7,.22),xycoords='axes fraction',\n",
    "             color='tab:orange',fontsize=8)\n",
    "ax1.annotate('$\\\\nu>0.55$',xy=(.7,.12),xycoords='axes fraction',\n",
    "             color='tab:green',fontsize=8)\n",
    "\n",
    "ax2.annotate('$\\\\nu\\leq0.45$',xy=(.7,.22),xycoords='axes fraction',\n",
    "             color='tab:orange',fontsize=8)\n",
    "ax2.annotate('$\\\\nu>0.55$',xy=(.7,.12),xycoords='axes fraction',\n",
    "             color='tab:green',fontsize=8)\n",
    "    \n",
    "fig.text(0.02, .96, 'A', fontsize=10)\n",
    "fig.text(0.02, .52, 'B', fontsize=10)\n",
    "    \n",
    "plt.tight_layout()\n",
    "plt.savefig('figs/fig2.pdf')"
   ]
  },
  {
   "cell_type": "markdown",
   "id": "60a5b146",
   "metadata": {},
   "source": [
    "#### Generate table with molecular functions"
   ]
  },
  {
   "cell_type": "code",
   "execution_count": 18,
   "id": "88ff3f8f",
   "metadata": {},
   "outputs": [],
   "source": [
    "# Load lists of GO terms for each UniProt ID (see go_analysis/uniprot_API_calls.py)\n",
    "GO_terms = pd.Series(pd.read_pickle('go_analysis/uniprot_dict.pkl')).to_frame(name='GO')\n",
    "# Load database\n",
    "df_GO = pd.read_csv('IDRome_DB.csv',index_col=0)[['nu','UniProt_ID']]\n",
    "\n",
    "curated_GO_codes = []\n",
    "for name in df_nu_stat_func.index:\n",
    "    curated_GO_codes.append(name_to_id[name]) \n",
    "GO_terms.GO = GO_terms.GO.apply( lambda x : map_to_curated_codes(graph, x, curated_GO_codes, molfunc) )\n",
    "\n",
    "for code,func in zip(curated_GO_codes,df_nu_stat_func.index):    \n",
    "    df_GO[func.replace(' ','_')] = df_GO.UniProt_ID.apply(lambda x : code in GO_terms.loc[x].GO)\n",
    "    \n",
    "df_GO.to_csv('go_analysis/IDRome_molfunc.csv')\n",
    "df_GO.to_excel('go_analysis/IDRome_molfunc.xlsx')  "
   ]
  },
  {
   "cell_type": "markdown",
   "id": "834df750",
   "metadata": {},
   "source": [
    "#### Generate table with cellular component"
   ]
  },
  {
   "cell_type": "code",
   "execution_count": 19,
   "id": "e99f96cd",
   "metadata": {},
   "outputs": [],
   "source": [
    "# Load lists of GO terms for each UniProt ID (see go_analysis/uniprot_API_calls.py)\n",
    "GO_terms = pd.Series(pd.read_pickle('go_analysis/uniprot_dict.pkl')).to_frame(name='GO')\n",
    "# Load database\n",
    "df_GO = pd.read_csv('IDRome_DB.csv',index_col=0)[['nu','UniProt_ID']]\n",
    "\n",
    "curated_GO_codes = []\n",
    "for name in df_nu_stat_comp.index:\n",
    "    curated_GO_codes.append(name_to_id[name]) \n",
    "GO_terms.GO = GO_terms.GO.apply( lambda x : map_to_curated_codes(graph, x, curated_GO_codes, cellcom) )\n",
    "\n",
    "for code,func in zip(curated_GO_codes,df_nu_stat_comp.index):    \n",
    "    df_GO[func.replace(' ','_')] = df_GO.UniProt_ID.apply(lambda x : code in GO_terms.loc[x].GO)\n",
    "    \n",
    "df_GO.to_csv('go_analysis/IDRome_cellcom.csv')\n",
    "df_GO.to_excel('go_analysis/IDRome_cellcom.xlsx')  "
   ]
  },
  {
   "cell_type": "code",
   "execution_count": null,
   "id": "4d36a188",
   "metadata": {},
   "outputs": [],
   "source": []
  }
 ],
 "metadata": {
  "kernelspec": {
   "display_name": "Python 3 (ipykernel)",
   "language": "python",
   "name": "python3"
  },
  "language_info": {
   "codemirror_mode": {
    "name": "ipython",
    "version": 3
   },
   "file_extension": ".py",
   "mimetype": "text/x-python",
   "name": "python",
   "nbconvert_exporter": "python",
   "pygments_lexer": "ipython3",
   "version": "3.8.13"
  }
 },
 "nbformat": 4,
 "nbformat_minor": 5
}
