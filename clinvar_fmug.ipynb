{
 "cells": [
  {
   "cell_type": "markdown",
   "id": "0ff02100",
   "metadata": {},
   "source": [
    "## Analyses of clinical data and number of publications obtained from the [FMUG tool](https://fmug.amaral.northwestern.edu/)\n",
    "\n",
    "This notebook reproduces Fig. 5, S10, and S11\n",
    "\n",
    "Authors: Giulio Tesei\n",
    "\n",
    "Contact: giulio.tesei@bio.ku.dk"
   ]
  },
  {
   "cell_type": "code",
   "execution_count": 1,
   "id": "f36e5140",
   "metadata": {},
   "outputs": [],
   "source": [
    "import numpy as np\n",
    "import pandas as pd\n",
    "import glob \n",
    "import time\n",
    "import os\n",
    "import random\n",
    "from mpl_toolkits.axes_grid1 import make_axes_locatable\n",
    "from matplotlib.colors import LogNorm\n",
    "from scipy.optimize import curve_fit\n",
    "import itertools\n",
    "import matplotlib as mpl\n",
    "import matplotlib.pyplot as plt\n",
    "from scipy.stats import pearsonr, spearmanr, gaussian_kde, ttest_ind\n",
    "from scipy.stats import binned_statistic, binned_statistic_2d\n",
    "from ast import literal_eval\n",
    "import seaborn as sns\n",
    "from joblib import dump, load\n",
    "from localcider.sequenceParameters import SequenceParameters\n",
    "# function to calculate standard error of the mean\n",
    "se = lambda x : np.std(x)/np.sqrt(x.size)\n",
    "se.__name__ = 'SE'\n",
    "\n",
    "def plot_hist_variants(ax,df_idrome,intervals,xlabel,w=.6,\n",
    "                      hatch='////',color=['tab:orange']*8+['tab:blue']*2+['tab:green']*4):\n",
    "    \n",
    "    mean_se = df_idrome.groupby(intervals).agg(['mean',se])\n",
    "    mean_se.rename(columns={'n_benign': 'Benign', 'n_pathogenic':'Pathogenic'},\n",
    "                   inplace=True)\n",
    "    \n",
    "    mean_se.xs('mean',axis=1,level=1).plot(rot=90, ax=ax, kind='bar', \n",
    "                    yerr=mean_se.xs('SE',axis=1,level=1),\n",
    "                    width=w,zorder=1,\n",
    "                    error_kw=dict(ecolor='black',elinewidth=0.5,capsize=1.5),\n",
    "                    label='w/o del',hatch=hatch,color='w',\n",
    "                    edgecolor=['tab:orange']*8+['tab:blue']*2+['tab:green']*4,legend=False)\n",
    "    \n",
    "    subset = mean_se.copy()\n",
    "    subset.iloc[8:] = np.nan\n",
    "    \n",
    "    subset.xs('mean',axis=1,level=1).plot(rot=90, ax=ax, kind='bar', \n",
    "                    width=w,zorder=1,hatch=hatch,color=['tab:orange','w'],\n",
    "                    edgecolor=['tab:orange']*8+['w']*5,legend=False)\n",
    "    \n",
    "    subset = mean_se.copy()\n",
    "    subset.iloc[:8] = np.nan\n",
    "    subset.iloc[10:] = np.nan\n",
    "    \n",
    "    subset.xs('mean',axis=1,level=1).plot(rot=90, ax=ax, kind='bar', \n",
    "                    width=w,zorder=1,hatch=hatch,color=['tab:blue','w'],\n",
    "                    edgecolor=['w']*8+['tab:blue']*2+['w']*4,legend=False)\n",
    "    \n",
    "    subset = mean_se.copy()\n",
    "    subset.iloc[:10] = np.nan\n",
    "    \n",
    "    subset.xs('mean',axis=1,level=1).plot(rot=90, ax=ax, kind='bar', \n",
    "                    width=w,zorder=1,hatch=hatch,color=['tab:green','w'],\n",
    "                    edgecolor=['w']*10+['tab:green']*4,legend=False)\n",
    "    \n",
    "    ax.set_xlabel(xlabel)\n",
    "    \n",
    "def calc_seq_prop(df,r,name,model):\n",
    "    features = ['scd','shd','kappa','fcr','mean_lambda']\n",
    "    features_WT = ['scd_WT','shd_WT','kappa_WT','fcr_WT','mean_lambda_WT']\n",
    "    \n",
    "    fasta = list(df.loc[name].fasta).copy()\n",
    "    fasta_WT = list(df.loc[name].fasta_WT).copy()\n",
    "    fasta_kappa = fasta.copy()\n",
    "    fasta_kappa_WT = fasta_WT.copy()\n",
    "    \n",
    "    N = len(fasta)\n",
    "    N_WT = len(fasta_WT)\n",
    "    \n",
    "    df.loc[name,'mean_lambda'] = np.mean(r.loc[fasta].lambdas)\n",
    "    df.loc[name,'mean_lambda_WT'] = np.mean(r.loc[fasta_WT].lambdas)\n",
    "    \n",
    "    #########\n",
    "    \n",
    "    pairs = np.array(list(itertools.combinations(fasta,2)))\n",
    "    pairs_indices = np.array(list(itertools.combinations(range(N),2)))\n",
    "    # calculate sequence separations\n",
    "    ij_dist = np.diff(pairs_indices,axis=1).flatten().astype(float)\n",
    "    # calculate lambda sums\n",
    "    ll = r.lambdas.loc[pairs[:,0]].values+r.lambdas.loc[pairs[:,1]].values\n",
    "    # calculate SHD\n",
    "    beta = -1\n",
    "    df.loc[name,'shd'] = np.sum(ll*np.power(np.abs(ij_dist),beta))/N\n",
    "    \n",
    "    # fix charges\n",
    "    if df.loc[name,'N_term'] == True:\n",
    "        r.loc['X'] = r.loc[fasta[0]]\n",
    "        r.loc['X','q'] = r.loc[fasta[0],'q'] + 1.\n",
    "        fasta[0] = 'X'\n",
    "        if r.loc['X','q'] > 0:\n",
    "            fasta_kappa[0] = 'K'\n",
    "        else:\n",
    "            fasta_kappa[0] = 'A'\n",
    "    if df.loc[name,'C_term'] == True:\n",
    "        r.loc['Z'] = r.loc[fasta[-1]]\n",
    "        r.loc['Z','q'] = r.loc[fasta[-1],'q'] - 1.\n",
    "        fasta[-1] = 'Z'\n",
    "        if r.loc['Z','q'] < 0:\n",
    "            fasta_kappa[-1] = 'D'\n",
    "        else:\n",
    "            fasta_kappa[-1] = 'A'\n",
    "    \n",
    "    pairs = np.array(list(itertools.combinations(fasta,2)))\n",
    "    # calculate charge products\n",
    "    qq = r.q.loc[pairs[:,0]].values*r.q.loc[pairs[:,1]].values\n",
    "    # calculate SCD\n",
    "    df.loc[name,'scd'] = np.sum(qq*np.sqrt(ij_dist))/N\n",
    "    SeqOb = SequenceParameters(''.join(fasta_kappa))\n",
    "    kappa = SeqOb.get_kappa()\n",
    "    df.loc[name,'kappa'] = 0 if kappa==-1 else kappa\n",
    "    df.loc[name,'fcr'] = r.q.loc[list(fasta)].abs().mean()\n",
    "    df.loc[name,'ncpr'] = r.q.loc[list(fasta)].mean()\n",
    "    \n",
    "    #########\n",
    "    \n",
    "    pairs = np.array(list(itertools.combinations(fasta_WT,2)))\n",
    "    pairs_indices = np.array(list(itertools.combinations(range(N_WT),2)))\n",
    "    # calculate sequence separations\n",
    "    ij_dist = np.diff(pairs_indices,axis=1).flatten().astype(float)\n",
    "    # calculate lambda sums\n",
    "    ll = r.lambdas.loc[pairs[:,0]].values+r.lambdas.loc[pairs[:,1]].values\n",
    "    # calculate SHD\n",
    "    beta = -1\n",
    "    df.loc[name,'shd_WT'] = np.sum(ll*np.power(np.abs(ij_dist),beta))/N_WT\n",
    "    \n",
    "    # fix charges\n",
    "    if df.loc[name,'N_term'] == True:\n",
    "        r.loc['X'] = r.loc[fasta_WT[0]]\n",
    "        r.loc['X','q'] = r.loc[fasta_WT[0],'q'] + 1.\n",
    "        fasta_WT[0] = 'X'\n",
    "        if r.loc['X','q'] > 0:\n",
    "            fasta_kappa_WT[0] = 'K'\n",
    "        else:\n",
    "            fasta_kappa_WT[0] = 'A'\n",
    "    if df.loc[name,'C_term'] == True:\n",
    "        r.loc['Z'] = r.loc[fasta_WT[-1]]\n",
    "        r.loc['Z','q'] = r.loc[fasta_WT[-1],'q'] - 1.\n",
    "        fasta_WT[-1] = 'Z'\n",
    "        if r.loc['Z','q'] < 0:\n",
    "            fasta_kappa_WT[-1] = 'D'\n",
    "        else:\n",
    "            fasta_kappa_WT[-1] = 'A'\n",
    "    \n",
    "    pairs = np.array(list(itertools.combinations(fasta_WT,2)))\n",
    "    # calculate charge products\n",
    "    qq = r.q.loc[pairs[:,0]].values*r.q.loc[pairs[:,1]].values\n",
    "    # calculate SCD\n",
    "    df.loc[name,'scd_WT'] = np.sum(qq*np.sqrt(ij_dist))/N\n",
    "    SeqOb = SequenceParameters(''.join(fasta_kappa_WT))\n",
    "    kappa = SeqOb.get_kappa()\n",
    "    df.loc[name,'kappa_WT'] = 0 if kappa==-1 else kappa\n",
    "    df.loc[name,'fcr_WT'] = r.q.loc[list(fasta_WT)].abs().mean()\n",
    "    df.loc[name,'ncpr_WT'] = r.q.loc[list(fasta_WT)].mean()\n",
    "            \n",
    "    df.loc[name,'nu'] = model.predict(df.loc[name,features].values.reshape(1, -1))\n",
    "    df.loc[name,'nu_WT'] = model.predict(df.loc[name,features_WT].values.reshape(1, -1))"
   ]
  },
  {
   "cell_type": "markdown",
   "id": "28d27304",
   "metadata": {},
   "source": [
    "#### Generate sequences of missense variants from ClinVar"
   ]
  },
  {
   "cell_type": "code",
   "execution_count": 2,
   "id": "b35de58f",
   "metadata": {},
   "outputs": [],
   "source": [
    "# Load dataframes\n",
    "df_variants = pd.DataFrame()\n",
    "df_idrome = pd.read_csv('IDRome_DB.csv',index_col=0)\n",
    "r = pd.read_csv('md_simulations/data/residues.csv').set_index('one',drop=False)\n",
    "clinvar_info = pd.read_csv('clinvar_fmug/data/idr_fragments_clinvar_info.csv',index_col='idr_fragment')\n",
    "clinvar_info.Clinvar_ID = clinvar_info.Clinvar_ID.apply(lambda x: literal_eval(x))\n",
    "clinvar_info.Clinvar_signifiance = clinvar_info.Clinvar_signifiance.apply(lambda x: literal_eval(x))\n",
    "clinvar_info.variants = clinvar_info.variants.apply(lambda x: literal_eval(x))\n",
    "clinvar_info.drop('membrane_protein',axis=1,inplace=True)\n",
    "clinvar_info = clinvar_info.groupby('idr_fragment').sum()\n",
    "\n",
    "# Load pLDDT scores\n",
    "pLDDT = pd.read_csv('idr_selection/idr_pLDDT.csv.gz',header=0,sep=';')\n",
    "pLDDT.sort_values('uniprot',inplace=True)\n",
    "pLDDT['seq_name'] = pLDDT.uniprot+'_'+pLDDT['first'].apply(\n",
    "    lambda x : '{:g}'.format(x))+'_'+pLDDT['last'].apply(lambda x : '{:g}'.format(x))\n",
    "pLDDT['pLDDT_w20'] = pLDDT['pLDDT_w20'].apply(lambda x : 100*np.array(eval(x.replace(':',','))))\n",
    "pLDDT.set_index('seq_name',inplace=True)\n",
    "\n",
    "# Generate dataframe with sequences of variants\n",
    "idrs_w_variants = clinvar_info[clinvar_info.variants.map(len)>0].index\n",
    "for name in idrs_w_variants:\n",
    "    fasta_WT = df_idrome.loc[name].fasta\n",
    "    for x,s in zip(clinvar_info.loc[name,'variants'],clinvar_info.loc[name,'Clinvar_signifiance']):\n",
    "        fasta_var = fasta_WT\n",
    "        res_num_var = int(x[1:-1])-df_idrome.loc[name,'first']\n",
    "        fasta_var = fasta_WT[:res_num_var] + x[-1] + fasta_WT[res_num_var+1:]\n",
    "        df_variants.loc[name+'_'+x,'fasta'] = fasta_var\n",
    "        df_variants.loc[name+'_'+x,'fasta_WT'] = fasta_WT\n",
    "        df_variants.loc[name+'_'+x,'significance'] = s\n",
    "        df_variants.loc[name+'_'+x,'WT'] = name\n",
    "        df_variants.loc[name+'_'+x,'pLDDT'] = pLDDT.loc[name,'pLDDT_w20'][res_num_var]\n",
    "        df_variants.loc[name+'_'+x,'fdomain'] = df_idrome.loc[name,'fdomain']\n",
    "        df_variants.loc[name+'_'+x,'N_term'] = df_idrome.loc[name,'N_term']\n",
    "        df_variants.loc[name+'_'+x,'C_term'] = df_idrome.loc[name,'C_term']"
   ]
  },
  {
   "cell_type": "markdown",
   "id": "aad3dd11",
   "metadata": {},
   "source": [
    "#### Calculate Flory scaling exponents for WT and variants using the SVR model"
   ]
  },
  {
   "cell_type": "code",
   "execution_count": 3,
   "id": "c2aa10fd",
   "metadata": {},
   "outputs": [],
   "source": [
    "model = load('svr_model/svr_model.joblib') "
   ]
  },
  {
   "cell_type": "code",
   "execution_count": 4,
   "id": "5520ab27",
   "metadata": {},
   "outputs": [],
   "source": [
    "if not os.path.isfile('clinvar_fmug/data/missense_variants.csv.gz'):\n",
    "    for ndx in df_variants.index:\n",
    "        calc_seq_prop(df_variants,r,ndx,model)\n",
    "    df_variants['Delta_nu'] = df_variants['nu'] - df_variants['nu_WT']\n",
    "    df_variants.to_csv('clinvar_fmug/data/missense_variants.csv.gz')\n",
    "else:\n",
    "    df_variants = pd.read_csv('clinvar_fmug/data/missense_variants.csv.gz',index_col=0)"
   ]
  },
  {
   "cell_type": "markdown",
   "id": "d2639587",
   "metadata": {},
   "source": [
    "#### Count benign and pathogenic variants per IDR"
   ]
  },
  {
   "cell_type": "code",
   "execution_count": 5,
   "id": "1fd4c47b",
   "metadata": {},
   "outputs": [],
   "source": [
    "df_idrome['n_benign'] = clinvar_info.Clinvar_signifiance.apply(lambda x: x.count('benign'))\n",
    "df_idrome['n_pathogenic'] = clinvar_info.Clinvar_signifiance.apply(lambda x: x.count('pathogenic'))"
   ]
  },
  {
   "cell_type": "markdown",
   "id": "05e6bf4f",
   "metadata": {},
   "source": [
    "#### Extract number of publications per gene from FMUG"
   ]
  },
  {
   "cell_type": "code",
   "execution_count": 6,
   "id": "9955f7cd",
   "metadata": {},
   "outputs": [],
   "source": [
    "gene_n_pubs = pd.read_csv('clinvar_fmug/data/fmug_data.csv.gz',index_col=0).n_pubs\n",
    "df_idrome['n_pubs'] = df_idrome.gene_name.apply(lambda x : gene_n_pubs[x] if x in gene_n_pubs.index else 0)"
   ]
  },
  {
   "cell_type": "markdown",
   "id": "4571af01",
   "metadata": {},
   "source": [
    "#### Fig. 4"
   ]
  },
  {
   "cell_type": "code",
   "execution_count": 22,
   "id": "b8a90fb6",
   "metadata": {},
   "outputs": [
    {
     "data": {
      "image/png": "[encoded data removed]",
      "text/plain": [
       "<Figure size 340x300 with 2 Axes>"
      ]
     },
     "metadata": {},
     "output_type": "display_data"
    }
   ],
   "source": [
    "fig, (ax1,ax2) = plt.subplots(2, 1, sharex=True, sharey=False, figsize=(3.4,3))\n",
    "plt.rc('font', **{'family':'sans-serif','sans-serif':['Arial'], 'size': 6})\n",
    "\n",
    "#df_idrome['clinvar_benign_wodel'] = df_idrome['clinvar_benign_wodel']/df_idrome.N\n",
    "#df_idrome['clinvar_pathogenic_wodel'] = df_idrome['clinvar_pathogenic_wodel']/df_idrome.N\n",
    "\n",
    "# bin nu values\n",
    "intervals = pd.cut(df_idrome['nu'], np.arange(0.05, .76, .05))\n",
    "plot_hist_variants(ax1,df_idrome[['n_benign','n_pathogenic']],\n",
    "                  intervals,xlabel=r'$\\nu$')\n",
    "\n",
    "ax1.vlines([7.5,9.5],ymin=0,ymax=1,color='k',ls=':',lw=1)\n",
    "ax1.set_ylim(0,1.2)\n",
    "\n",
    "intervals = pd.cut(df_idrome['nu'], np.array([0, .45, .55, .8]))\n",
    "mean_std = df_idrome['n_pathogenic'].groupby(intervals).agg(['mean',se])\n",
    "\n",
    "n_compact = mean_std.iloc[0]['mean']\n",
    "n_theta = mean_std.iloc[1]['mean']\n",
    "n_expanded = mean_std.iloc[-1]['mean']\n",
    "n_compact_e = mean_std.iloc[0]['SE']\n",
    "n_theta_e = mean_std.iloc[1]['SE']\n",
    "n_expanded_e = mean_std.iloc[-1]['SE']\n",
    "\n",
    "ax1.annotate(f'{n_compact:.2f} ± {n_compact_e:.2f}',xy=(.28,.88),\n",
    "            xycoords='axes fraction',color='tab:orange',fontsize=7,ha='center')\n",
    "ax1.annotate(f'{n_theta:.2f} ± {n_theta_e:.2f}',xy=(.64,.88),\n",
    "            xycoords='axes fraction',color='tab:blue',fontsize=7,ha='center')\n",
    "ax1.annotate(f'{n_expanded:.3f} ± {n_expanded_e:.3f}',xy=(.86,.88),\n",
    "            xycoords='axes fraction',color='tab:green',fontsize=7,ha='center')\n",
    "\n",
    "ax1.set_ylabel(r'Variants per IDR')\n",
    "\n",
    "##################\n",
    "\n",
    "intervals = pd.cut(df_idrome['nu'], np.arange(0.05, .76, .05))\n",
    "mean_std = df_idrome['n_pubs'].groupby(intervals).agg(['mean',se])\n",
    "mean_std['mean'].plot(rot=90, ax=ax2, kind='bar', yerr=mean_std['SE'],\n",
    "                      error_kw=dict(ecolor='black',elinewidth=0.5,capsize=2),\n",
    "                      color=['tab:orange']*8+['tab:blue']*2+['tab:green']*4,width=.6)\n",
    "\n",
    "intervals = pd.cut(df_idrome['nu'], np.array([0, .45, .55, .8]))\n",
    "mean_std = df_idrome['n_pubs'].groupby(intervals).agg(['mean',se])\n",
    "\n",
    "n_compact = mean_std.iloc[0]['mean']\n",
    "n_theta = mean_std.iloc[1]['mean']\n",
    "n_expanded = mean_std.iloc[-1]['mean']\n",
    "n_compact_e = mean_std.iloc[0]['SE']\n",
    "n_theta_e = mean_std.iloc[1]['SE']\n",
    "n_expanded_e = mean_std.iloc[-1]['SE']\n",
    "\n",
    "ax2.vlines([7.5,9.5],ymin=0,ymax=100,color='k',ls=':',lw=1)\n",
    "ax2.set_ylim(0,100)\n",
    "\n",
    "ax2.annotate(f'{n_compact:.0f} ± {n_compact_e:.0f}',xy=(.28,.88),\n",
    "            xycoords='axes fraction',color='tab:orange',fontsize=7,ha='center')\n",
    "ax2.annotate(f'{n_theta:.0f} ± {n_theta_e:.0f}',xy=(.64,.88),\n",
    "            xycoords='axes fraction',color='tab:blue',fontsize=7,ha='center')\n",
    "ax2.annotate(f'{n_expanded:.0f} ± {n_expanded_e:.0f}',xy=(.84,.88),\n",
    "            xycoords='axes fraction',color='tab:green',fontsize=7,ha='center')\n",
    "\n",
    "ax2.set_ylabel(r'Publications per IDR')\n",
    "ax2.set_xlabel(r'$\\nu$')\n",
    "ax1.set_xlim(-.5,13.5)\n",
    "\n",
    "\n",
    "fig.text(0.01, .94, 'A', fontsize=10)\n",
    "fig.text(0.01, .55, 'B', fontsize=10)\n",
    "\n",
    "plt.tight_layout()\n",
    "fig.savefig('figs/fig5.pdf')"
   ]
  },
  {
   "cell_type": "markdown",
   "id": "f5dc7695",
   "metadata": {},
   "source": [
    "#### Perform two-tailed Welch’s t-test"
   ]
  },
  {
   "cell_type": "code",
   "execution_count": 8,
   "id": "616f7429",
   "metadata": {},
   "outputs": [
    {
     "data": {
      "text/plain": [
       "Ttest_indResult(statistic=-31.372853250880823, pvalue=6.99933267576661e-193)"
      ]
     },
     "execution_count": 8,
     "metadata": {},
     "output_type": "execute_result"
    }
   ],
   "source": [
    "benign_pLDDT = df_variants.query(\"significance == 'benign'\").pLDDT.values\n",
    "pathogenic_pLDDT = df_variants.query(\"significance == 'pathogenic'\").pLDDT.values\n",
    "ttest_ind(benign_pLDDT,pathogenic_pLDDT,equal_var=False,alternative='two-sided')"
   ]
  },
  {
   "cell_type": "markdown",
   "id": "84a18869",
   "metadata": {},
   "source": [
    "#### Perform two-tailed Welch’s t-test excluding IDRs with folded domains"
   ]
  },
  {
   "cell_type": "code",
   "execution_count": 9,
   "id": "2d583638",
   "metadata": {},
   "outputs": [
    {
     "data": {
      "text/plain": [
       "Ttest_indResult(statistic=-19.03682306675205, pvalue=2.344894439347788e-76)"
      ]
     },
     "execution_count": 9,
     "metadata": {},
     "output_type": "execute_result"
    }
   ],
   "source": [
    "benign_pLDDT = df_variants.query(\"fdomain == 0 and significance == 'benign'\").pLDDT.values\n",
    "pathogenic_pLDDT = df_variants.query(\"fdomain == 0 and significance == 'pathogenic'\").pLDDT.values\n",
    "ttest_ind(benign_pLDDT,pathogenic_pLDDT,equal_var=False,alternative='two-sided')"
   ]
  },
  {
   "cell_type": "markdown",
   "id": "739de717",
   "metadata": {},
   "source": [
    "#### Fig. S10"
   ]
  },
  {
   "cell_type": "code",
   "execution_count": 10,
   "id": "b6aef7b7",
   "metadata": {},
   "outputs": [
    {
     "data": {
      "image/png": "[encoded data removed]",
      "text/plain": [
       "<Figure size 660x250 with 2 Axes>"
      ]
     },
     "metadata": {},
     "output_type": "display_data"
    }
   ],
   "source": [
    "fig, (ax1,ax2) = plt.subplots(1, 2, sharey=True, figsize=(6.6,2.5))\n",
    "plt.rc('font', **{'family':'sans-serif','sans-serif':['Arial'], 'size': 6})\n",
    "\n",
    "benign_pLDDT = df_variants.query(\"significance == 'benign' and fdomain == 0\").pLDDT.values\n",
    "pathogenic_pLDDT = df_variants.query(\"significance == 'pathogenic' and fdomain == 0\").pLDDT.values\n",
    "\n",
    "\n",
    "sns.violinplot(ax=ax1,data=df_variants[['significance','pLDDT']],\n",
    "            x='significance',y='pLDDT',color='w',inner='box')\n",
    "\n",
    "sns.violinplot(ax=ax2,\n",
    "            data=df_variants.query('fdomain == 0')[['significance','pLDDT']],\n",
    "            x='significance',y='pLDDT',color='w',inner='box')\n",
    "\n",
    "for ax in [ax1,ax2]:\n",
    "    ax.plot([0, 0, 1, 1], [87, 95, 95, 91], lw=.5, c='k')\n",
    "    ax.text(.5, 93, '****', ha='center', va='bottom', color='k', fontsize=10)\n",
    "    ax.set_xticks([0,1])\n",
    "    ax.set_xticklabels(['Benign','Pathogenic'])\n",
    "    ax.set_xlabel('')\n",
    "    ax.set_ylim(15,100)\n",
    "    ax.collections[1].set_edgecolor('k')\n",
    "    ax.collections[2].set_edgecolor('tab:red')\n",
    "    ax.collections[3].set_edgecolor('k')\n",
    "    \n",
    "    ax.get_children()[5].set_color('tab:red') \n",
    "    ax.get_children()[6].set_color('tab:red')\n",
    "\n",
    "ax1.set_ylabel('pLDDT Score')\n",
    "ax2.set_ylabel('')\n",
    "\n",
    "fig.text(0.01, .92, 'A', fontsize=10)\n",
    "fig.text(0.52, .92, 'B', fontsize=10)\n",
    "\n",
    "plt.tight_layout(w_pad=4)\n",
    "\n",
    "plt.savefig('figs/figS10.pdf',dpi=300)"
   ]
  },
  {
   "cell_type": "markdown",
   "id": "98b567f7",
   "metadata": {},
   "source": [
    "#### Analysis of frameshift variants in C-terminal IDRs identified by Mensah et al. (DOI: 10.1038/s41586-022-05682-1)\n",
    "The list of variants with ClinVar significance annotations were obtained from https://zenodo.org/record/7311150/files/MasterTable_wNMD_wVariantDisease_wRK_WHidrophobic_wNLS_wTransmembrane_220608_Full.csv.zip"
   ]
  },
  {
   "cell_type": "code",
   "execution_count": 11,
   "id": "f91ddcd3",
   "metadata": {},
   "outputs": [],
   "source": [
    "url = \"\"\"https://zenodo.org/record/7311150/files/MasterTable_wNMD_wVariantDisease_\n",
    "wRK_WHidrophobic_wNLS_wTransmembrane_220608_Full.csv.zip\"\"\".replace('\\n','')"
   ]
  },
  {
   "cell_type": "markdown",
   "id": "7015e4b7",
   "metadata": {},
   "source": [
    "#### Load table and select IDRs with WT and variant sequence lengths $\\geq30$"
   ]
  },
  {
   "cell_type": "code",
   "execution_count": 12,
   "id": "ef64d5cd",
   "metadata": {},
   "outputs": [],
   "source": [
    "df_frameshift = pd.read_csv(url, low_memory=False)\n",
    "df_frameshift = df_frameshift.query('SeqType == \"Frameshift\"')\n",
    "df_frameshift = df_frameshift.rename({'IDRseq':'fasta',\n",
    "                      'WTIDRseq':'fasta_WT'},axis=1)\n",
    "df_frameshift['N_WT'] = df_frameshift.fasta_WT.apply(len)\n",
    "df_frameshift['N'] = df_frameshift.fasta.apply(len)\n",
    "df_frameshift = df_frameshift.query('N >= 30 and N_WT >= 30')\n",
    "df_frameshift['N_term'] = df_frameshift['TrueIDRstart'].apply(lambda x: True if x == 1 else False)\n",
    "df_frameshift['C_term'] = True"
   ]
  },
  {
   "cell_type": "markdown",
   "id": "326cbc1b",
   "metadata": {},
   "source": [
    "#### Calculate Flory scaling exponents for WT and variants using the SVR model"
   ]
  },
  {
   "cell_type": "code",
   "execution_count": 13,
   "id": "399be126",
   "metadata": {},
   "outputs": [],
   "source": [
    "if not os.path.isfile('clinvar_fmug/data/frameshift_variants.csv.gz'):\n",
    "    for ndx in df_frameshift.index:\n",
    "        calc_seq_prop(df_frameshift,r,ndx,model)\n",
    "    df_frameshift['Delta_nu'] = df_frameshift['nu'] - df_frameshift['nu_WT']\n",
    "    df_frameshift.to_csv('clinvar_fmug/data/frameshift_variants.csv.gz')\n",
    "else:\n",
    "    df_frameshift = pd.read_csv('clinvar_fmug/data/frameshift_variants.csv.gz',index_col=0)"
   ]
  },
  {
   "cell_type": "markdown",
   "id": "904b91e9",
   "metadata": {},
   "source": [
    "#### Fig. S11"
   ]
  },
  {
   "cell_type": "code",
   "execution_count": 18,
   "id": "aebb8503",
   "metadata": {},
   "outputs": [
    {
     "data": {
      "image/png": "[encoded data removed]",
      "text/plain": [
       "<Figure size 660x300 with 4 Axes>"
      ]
     },
     "metadata": {},
     "output_type": "display_data"
    }
   ],
   "source": [
    "fig, ((ax1,ax2),(ax3,ax4)) = plt.subplots(2, 2, sharex=False, sharey=False, figsize=(6.6,3))\n",
    "plt.rc('font', **{'family':'sans-serif','sans-serif':['Arial'], 'size': 6})\n",
    "\n",
    "bins = np.arange(-0.084,0.051,.002)\n",
    "x = bins[:-1]+(bins[1]-bins[0])/2.\n",
    "\n",
    "h,_ = np.histogram(df_variants.query(\"significance == 'benign'\").Delta_nu.values,\n",
    "                   bins=bins,density=True)\n",
    "ax1.plot(x,h,lw=0,color='tab:gray',marker='o',ms=3,label='Benign')\n",
    "\n",
    "h,_ = np.histogram(df_variants.query(\"significance == 'pathogenic'\").Delta_nu.values,\n",
    "                   bins=bins,density=True)\n",
    "ax1.plot(x,h,lw=0,color='tab:red',marker='s',ms=3,label='Pathogenic')\n",
    "\n",
    "ax1.set_yscale('log')\n",
    "#ax1.set_xlim(-.04,0.03)\n",
    "\n",
    "ax1.set_ylabel('$P(\\\\Delta \\\\nu_{SVR})$')\n",
    "\n",
    "bins = np.arange(0, .701, .04)\n",
    "x = bins[:-1]+(bins[1]-bins[0])/2.\n",
    "\n",
    "average = binned_statistic(df_variants.query(\"significance == 'benign'\").nu_WT.values,\n",
    "                           np.abs(df_variants.query(\"significance == 'benign'\").Delta_nu.values),bins=bins)[0]\n",
    "standard_error = binned_statistic(df_variants.query(\"significance == 'benign'\").nu_WT.values,\n",
    "                           np.abs(df_variants.query(\"significance == 'benign'\").Delta_nu.values),\n",
    "                           statistic=se,\n",
    "                                 bins=bins)[0]\n",
    "\n",
    "ax2.errorbar(x,average,yerr=standard_error,ms=4,marker='o',lw=0,zorder=0,\n",
    "         elinewidth=.5,capsize=2,capthick=.5,label='Benign',color='tab:gray')\n",
    "\n",
    "average = binned_statistic(df_variants.query(\"significance == 'pathogenic'\").nu_WT.values,\n",
    "                           np.abs(df_variants.query(\"significance == 'pathogenic'\").Delta_nu.values),bins=bins)[0]\n",
    "standard_error = binned_statistic(df_variants.query(\"significance == 'pathogenic'\").nu_WT.values,\n",
    "                           np.abs(df_variants.query(\"significance == 'pathogenic'\").Delta_nu.values),\n",
    "                           statistic=se,\n",
    "                                 bins=bins)[0]\n",
    "\n",
    "ax2.errorbar(x,average,yerr=standard_error,ms=3,marker='s',lw=0,zorder=0,\n",
    "         elinewidth=.5,capsize=2,capthick=.5,label='Pathogenic',color='tab:red')\n",
    "\n",
    "ax2.set_ylabel('$|\\\\Delta \\\\nu_{SVR}|$')\n",
    "\n",
    "leg = ax1.legend(frameon=False,title='Missense Variants',loc='upper left')\n",
    "leg._legend_box.align = \"left\"\n",
    "leg = ax2.legend(frameon=False,title='Missense Variants')\n",
    "leg._legend_box.align = \"right\"\n",
    "ax2.set_ylim(-.001,.017)\n",
    "\n",
    "########\n",
    "\n",
    "bins = np.arange(-0.2,0.2,.01)\n",
    "x = bins[:-1]+(bins[1]-bins[0])/2.\n",
    "\n",
    "h,_ = np.histogram(df_frameshift.query('Pathogenic == False').Delta_nu.values,\n",
    "                   bins=bins,density=True)\n",
    "ax3.plot(x,h,lw=0,color='tab:gray',marker='o',ms=3,label='Benign or Unknown')\n",
    "\n",
    "h,_ = np.histogram(df_frameshift.query('Pathogenic == True').Delta_nu.values,\n",
    "                   bins=bins,density=True)\n",
    "ax3.plot(x,h,lw=0,color='tab:red',marker='s',ms=3,label='Pathogenic')\n",
    "\n",
    "ax3.set_yscale('log')\n",
    "#ax1.set_xlim(-.04,0.03)\n",
    "\n",
    "ax3.set_xlabel('$\\\\Delta \\\\nu_{SVR}$')\n",
    "ax3.set_ylabel('$P(\\\\Delta \\\\nu_{SVR})$')\n",
    "\n",
    "bins = np.arange(0, .701, .04)\n",
    "x = bins[:-1]+(bins[1]-bins[0])/2.\n",
    "\n",
    "average = binned_statistic(df_frameshift.query('Pathogenic == False').nu_WT.values,\n",
    "                           np.abs(df_frameshift.query('Pathogenic == False').Delta_nu.values),bins=bins)[0]\n",
    "standard_error = binned_statistic(df_frameshift.query('Pathogenic == False').nu_WT.values,\n",
    "                           np.abs(df_frameshift.query('Pathogenic == False').Delta_nu.values),\n",
    "                           statistic=se,\n",
    "                                 bins=bins)[0]\n",
    "\n",
    "ax4.errorbar(x,average,yerr=standard_error,ms=4,marker='o',lw=0,zorder=0,\n",
    "         elinewidth=.5,capsize=2,capthick=.5,label='Benign or Unknown',color='tab:gray')\n",
    "\n",
    "average = binned_statistic(df_frameshift.query('Pathogenic == True').nu_WT.values,\n",
    "                           np.abs(df_frameshift.query('Pathogenic == True').Delta_nu.values),bins=bins)[0]\n",
    "standard_error = binned_statistic(df_frameshift.query('Pathogenic == True').nu_WT.values,\n",
    "                           np.abs(df_frameshift.query('Pathogenic == True').Delta_nu.values),\n",
    "                           statistic=se,\n",
    "                                 bins=bins)[0]\n",
    "\n",
    "ax4.errorbar(x,average,yerr=standard_error,ms=3,marker='s',lw=0,zorder=0,\n",
    "         elinewidth=.5,capsize=2,capthick=.5,label='Pathogenic',color='tab:red')\n",
    "\n",
    "ax4.set_ylabel('$|\\\\Delta \\\\nu_{SVR}|$')\n",
    "ax4.set_xlabel('WT $\\\\nu_{SVR}$')\n",
    "\n",
    "leg = ax3.legend(frameon=False,title='Frameshift Variants',loc='upper left')\n",
    "leg._legend_box.align = \"left\"\n",
    "leg = ax4.legend(frameon=False,title='Frameshift Variants')\n",
    "leg._legend_box.align = \"left\"\n",
    "\n",
    "fig.text(0.02, .93, 'A', fontsize=10)\n",
    "fig.text(0.51, .93, 'B', fontsize=10)\n",
    "fig.text(0.01, .48, 'C', fontsize=10)\n",
    "fig.text(0.52, .48, 'D', fontsize=10)\n",
    "\n",
    "plt.tight_layout()\n",
    "\n",
    "plt.savefig('figs/figS11.pdf',dpi=300)"
   ]
  },
  {
   "cell_type": "markdown",
   "id": "ea77310d",
   "metadata": {},
   "source": [
    "#### Print statistics on analysed missense variants"
   ]
  },
  {
   "cell_type": "code",
   "execution_count": 15,
   "id": "9b870f04",
   "metadata": {},
   "outputs": [
    {
     "name": "stdout",
     "output_type": "stream",
     "text": [
      "Number of variants 19867\n",
      "Number of pathogenic variants 2977\n",
      "Number of benign variants 16890\n",
      "Number of IDRs 7001\n",
      "Number of proteins 4334\n"
     ]
    }
   ],
   "source": [
    "print('Number of variants',df_variants.shape[0])\n",
    "print('Number of pathogenic variants',df_variants.query('significance == \"pathogenic\"').shape[0])\n",
    "print('Number of benign variants',df_variants.query('significance == \"benign\"').shape[0])\n",
    "print('Number of IDRs',df_variants.WT.unique().size)\n",
    "print('Number of proteins',df_idrome.loc[df_variants.WT].UniProt_ID.unique().size)"
   ]
  },
  {
   "cell_type": "markdown",
   "id": "9e564455",
   "metadata": {},
   "source": [
    "#### Print statistics on analysed frameshift variants"
   ]
  },
  {
   "cell_type": "code",
   "execution_count": 16,
   "id": "542b8986",
   "metadata": {},
   "outputs": [
    {
     "name": "stdout",
     "output_type": "stream",
     "text": [
      "Number of variants 5676\n",
      "Number of pathogenic variants 637\n",
      "Number of benign variants 5039\n",
      "Number of IDRs 2273\n",
      "Number of proteins 2280\n"
     ]
    }
   ],
   "source": [
    "print('Number of variants',df_frameshift.shape[0])\n",
    "print('Number of pathogenic variants',df_frameshift.query('Pathogenic == True').shape[0])\n",
    "print('Number of benign variants',df_frameshift.query('Pathogenic == False').shape[0])\n",
    "print('Number of IDRs',df_frameshift.fasta_WT.unique().size)\n",
    "print('Number of proteins',df_frameshift.Gene.unique().size)"
   ]
  },
  {
   "cell_type": "code",
   "execution_count": null,
   "id": "e74178d1",
   "metadata": {},
   "outputs": [],
   "source": []
  }
 ],
 "metadata": {
  "kernelspec": {
   "display_name": "Python 3 (ipykernel)",
   "language": "python",
   "name": "python3"
  },
  "language_info": {
   "codemirror_mode": {
    "name": "ipython",
    "version": 3
   },
   "file_extension": ".py",
   "mimetype": "text/x-python",
   "name": "python",
   "nbconvert_exporter": "python",
   "pygments_lexer": "ipython3",
   "version": "3.8.16"
  }
 },
 "nbformat": 4,
 "nbformat_minor": 5
}
